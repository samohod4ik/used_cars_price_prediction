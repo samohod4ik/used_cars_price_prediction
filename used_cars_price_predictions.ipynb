{
 "cells": [
  {
   "cell_type": "markdown",
   "source": [
    "# Описание проекта"
   ],
   "metadata": {
    "collapsed": false
   }
  },
  {
   "cell_type": "markdown",
   "source": [
    "## Стоимость поддержанного автомобиля"
   ],
   "metadata": {
    "collapsed": false
   }
  },
  {
   "cell_type": "markdown",
   "source": [
    "Многие знают про маркетплейсы где продаются б/у вещи, на которых есть возможность недорого купить качественную и полезную вещь. Но всегда волнует вопрос - кто и как устанавливает цену, и какие его характеристики больше всего влияют на итоговую стоимость продажи?! Вопрос становится особо актуальным, если речь идет про дорогие товары, например про автомобили! В рамках данной задачи необходимо поработать с данными о продажах автомобилей на вторичном рынке. Целью данного проекта будет разработанная модель предсказания стоимости автомобиля на вторичном рынке."
   ],
   "metadata": {
    "collapsed": false
   }
  },
  {
   "cell_type": "markdown",
   "source": [
    "## Основные этапы исследования"
   ],
   "metadata": {
    "collapsed": false
   }
  },
  {
   "cell_type": "markdown",
   "source": [
    "- Загрузка и ознакомление с данными, <p>\n",
    "- Предварительная обработка,<p>\n",
    "- Полноценный разведочный анализ,<p>\n",
    "- Разработка новых синтетических признаков,<p>\n",
    "- Проверка на мультиколлинеарность,<p>\n",
    "- Отбор финального набора обучающих признаков,<p>\n",
    "- Выбор и обучение моделей,<p>\n",
    "- Итоговая оценка качества предсказания лучшей модели,<p>\n",
    "- Анализ важности ее признаков."
   ],
   "metadata": {
    "collapsed": false
   }
  },
  {
   "cell_type": "markdown",
   "source": [
    "# Представление данных"
   ],
   "metadata": {
    "collapsed": false
   }
  },
  {
   "cell_type": "code",
   "execution_count": 475,
   "outputs": [
    {
     "name": "stdout",
     "output_type": "stream",
     "text": [
      "Requirement already satisfied: imblearn in c:\\users\\apmuravev\\appdata\\local\\programs\\python\\python311\\lib\\site-packages (0.0)\n",
      "Requirement already satisfied: imbalanced-learn in c:\\users\\apmuravev\\appdata\\local\\programs\\python\\python311\\lib\\site-packages (from imblearn) (0.10.1)\n",
      "Requirement already satisfied: numpy>=1.17.3 in c:\\users\\apmuravev\\appdata\\local\\programs\\python\\python311\\lib\\site-packages (from imbalanced-learn->imblearn) (1.24.3)\n",
      "Requirement already satisfied: scipy>=1.3.2 in c:\\users\\apmuravev\\appdata\\local\\programs\\python\\python311\\lib\\site-packages (from imbalanced-learn->imblearn) (1.10.1)\n",
      "Requirement already satisfied: scikit-learn>=1.0.2 in c:\\users\\apmuravev\\appdata\\local\\programs\\python\\python311\\lib\\site-packages (from imbalanced-learn->imblearn) (1.2.2)\n",
      "Requirement already satisfied: joblib>=1.1.1 in c:\\users\\apmuravev\\appdata\\local\\programs\\python\\python311\\lib\\site-packages (from imbalanced-learn->imblearn) (1.2.0)\n",
      "Requirement already satisfied: threadpoolctl>=2.0.0 in c:\\users\\apmuravev\\appdata\\local\\programs\\python\\python311\\lib\\site-packages (from imbalanced-learn->imblearn) (3.1.0)\n"
     ]
    }
   ],
   "source": [
    "!pip install imblearn"
   ],
   "metadata": {
    "collapsed": false
   }
  },
  {
   "cell_type": "code",
   "execution_count": 524,
   "outputs": [],
   "source": [
    "# Импорт основных библиотек\n",
    "import matplotlib.pyplot as plt\n",
    "import numpy as np\n",
    "import pandas as pd\n",
    "import warnings\n",
    "\n",
    "from math import ceil\n",
    "\n",
    "from pandas.api.types import is_string_dtype\n",
    "\n",
    "from tqdm import tqdm\n",
    "\n",
    "from sklearn.ensemble import RandomForestRegressor\n",
    "from sklearn.exceptions import DataConversionWarning\n",
    "from sklearn.linear_model import LogisticRegression\n",
    "from sklearn.metrics import mean_absolute_percentage_error\n",
    "from sklearn.model_selection import cross_val_score, KFold, GridSearchCV\n",
    "from sklearn.preprocessing import StandardScaler, OneHotEncoder, OrdinalEncoder\n",
    "from sklearn.tree import DecisionTreeRegressor\n",
    "\n",
    "from imblearn.pipeline import Pipeline, make_pipeline"
   ],
   "metadata": {
    "collapsed": false
   }
  },
  {
   "cell_type": "code",
   "execution_count": 477,
   "outputs": [],
   "source": [
    "# Отключение лишних предупреждений\n",
    "warnings.filterwarnings(action='ignore', category=DataConversionWarning)"
   ],
   "metadata": {
    "collapsed": false
   }
  },
  {
   "cell_type": "code",
   "execution_count": 478,
   "outputs": [],
   "source": [
    "# Импорт датасета\n",
    "try:\n",
    "    sample_submission = pd.read_csv('datasets/sample_submission.csv')\n",
    "    test = pd.read_csv('datasets/test.csv')\n",
    "    train = pd.read_csv('datasets/train.csv')\n",
    "except Exception as info:\n",
    "    display(info)\n",
    "    sample_submission = pd.read_csv('/kaggle/input/used-cars-price-prediction-19ds/sample_submission.csv')\n",
    "    test = pd.read_csv('/kaggle/input/used-cars-price-prediction-19ds/test.csv')\n",
    "    train = pd.read_csv('/kaggle/input/used-cars-price-prediction-19ds/train.csv')"
   ],
   "metadata": {
    "collapsed": false
   }
  },
  {
   "cell_type": "code",
   "execution_count": 479,
   "outputs": [],
   "source": [
    "# Объявим функцию для изучения датасетов\n",
    "def describe_dataframe(dataframe):\n",
    "    display(dataframe.head(10))\n",
    "    display(dataframe.info())\n",
    "    display(dataframe.describe(percentiles=[.5]).T)\n",
    "    print(f\"Количество дублированных строк: {dataframe.duplicated().sum()}\")"
   ],
   "metadata": {
    "collapsed": false
   }
  },
  {
   "cell_type": "code",
   "execution_count": 480,
   "outputs": [
    {
     "data": {
      "text/plain": "   year     make      model     trim   body transmission                vin  \\\n0  2011     Ford       Edge      SEL    suv    automatic  2fmdk3jc4bba41556   \n1  2014     Ford     Fusion       SE  Sedan    automatic  3fa6p0h75er208976   \n2  2012   Nissan     Sentra   2.0 SL  sedan    automatic  3n1ab6ap4cl698412   \n3  2003   HUMMER         H2     Base    suv    automatic  5grgn23u93h101360   \n4  2007     Ford     Fusion      SEL  Sedan    automatic  3fahp08z17r268380   \n5  2013  Lincoln        MKZ     Base  Sedan    automatic  3ln6l2j91dr817800   \n6  2010  pontiac         g6       4c    NaN    automatic  1g2za5eb4a4157380   \n7  2013     Ford     Escape       SE    SUV    automatic  1fmcu0gx3duc59421   \n8  2000  Hyundai    Elantra      GLS  Sedan    automatic  kmhjf35f2yu955691   \n9  2005     Ford  Freestyle  Limited  wagon    automatic  1fmdk06135ga45438   \n\n  state  condition  odometer   color interior                         seller  \\\n0    md        4.2  111041.0   black    black             santander consumer   \n1    mo        3.5   31034.0   black    black          ars/avis budget group   \n2    nj        2.2   35619.0   black    black             nissan-infiniti lt   \n3    tx        2.8  131301.0    gold    beige     wichita falls ford lin inc   \n4    md        2.0  127709.0   black    black                   purple heart   \n5    mi        2.5   14894.0   black    black  ford motor credit company,llc   \n6    nc        3.4  114587.0  silver    black         north state acceptance   \n7    fl        4.8   26273.0    blue     gray                     fields bmw   \n8    oh        1.9  182624.0   black      tan                   dt inventory   \n9    oh        1.0  149364.0   black      tan    wells fargo dealer services   \n\n   sellingprice                                 saledate  \n0         12500  Tue Jun 02 2015 02:30:00 GMT-0700 (PDT)  \n1         14500  Wed Feb 25 2015 02:00:00 GMT-0800 (PST)  \n2          9100  Wed Jun 10 2015 02:30:00 GMT-0700 (PDT)  \n3         13300  Wed Jun 17 2015 03:00:00 GMT-0700 (PDT)  \n4          1300  Tue Feb 03 2015 04:00:00 GMT-0800 (PST)  \n5         22600  Thu May 21 2015 02:00:00 GMT-0700 (PDT)  \n6          5900  Mon Jan 12 2015 09:30:00 GMT-0800 (PST)  \n7         15200  Tue Feb 03 2015 01:00:00 GMT-0800 (PST)  \n8           700  Thu Jan 22 2015 01:00:00 GMT-0800 (PST)  \n9           325  Tue Jun 16 2015 05:00:00 GMT-0700 (PDT)  ",
      "text/html": "<div>\n<style scoped>\n    .dataframe tbody tr th:only-of-type {\n        vertical-align: middle;\n    }\n\n    .dataframe tbody tr th {\n        vertical-align: top;\n    }\n\n    .dataframe thead th {\n        text-align: right;\n    }\n</style>\n<table border=\"1\" class=\"dataframe\">\n  <thead>\n    <tr style=\"text-align: right;\">\n      <th></th>\n      <th>year</th>\n      <th>make</th>\n      <th>model</th>\n      <th>trim</th>\n      <th>body</th>\n      <th>transmission</th>\n      <th>vin</th>\n      <th>state</th>\n      <th>condition</th>\n      <th>odometer</th>\n      <th>color</th>\n      <th>interior</th>\n      <th>seller</th>\n      <th>sellingprice</th>\n      <th>saledate</th>\n    </tr>\n  </thead>\n  <tbody>\n    <tr>\n      <th>0</th>\n      <td>2011</td>\n      <td>Ford</td>\n      <td>Edge</td>\n      <td>SEL</td>\n      <td>suv</td>\n      <td>automatic</td>\n      <td>2fmdk3jc4bba41556</td>\n      <td>md</td>\n      <td>4.2</td>\n      <td>111041.0</td>\n      <td>black</td>\n      <td>black</td>\n      <td>santander consumer</td>\n      <td>12500</td>\n      <td>Tue Jun 02 2015 02:30:00 GMT-0700 (PDT)</td>\n    </tr>\n    <tr>\n      <th>1</th>\n      <td>2014</td>\n      <td>Ford</td>\n      <td>Fusion</td>\n      <td>SE</td>\n      <td>Sedan</td>\n      <td>automatic</td>\n      <td>3fa6p0h75er208976</td>\n      <td>mo</td>\n      <td>3.5</td>\n      <td>31034.0</td>\n      <td>black</td>\n      <td>black</td>\n      <td>ars/avis budget group</td>\n      <td>14500</td>\n      <td>Wed Feb 25 2015 02:00:00 GMT-0800 (PST)</td>\n    </tr>\n    <tr>\n      <th>2</th>\n      <td>2012</td>\n      <td>Nissan</td>\n      <td>Sentra</td>\n      <td>2.0 SL</td>\n      <td>sedan</td>\n      <td>automatic</td>\n      <td>3n1ab6ap4cl698412</td>\n      <td>nj</td>\n      <td>2.2</td>\n      <td>35619.0</td>\n      <td>black</td>\n      <td>black</td>\n      <td>nissan-infiniti lt</td>\n      <td>9100</td>\n      <td>Wed Jun 10 2015 02:30:00 GMT-0700 (PDT)</td>\n    </tr>\n    <tr>\n      <th>3</th>\n      <td>2003</td>\n      <td>HUMMER</td>\n      <td>H2</td>\n      <td>Base</td>\n      <td>suv</td>\n      <td>automatic</td>\n      <td>5grgn23u93h101360</td>\n      <td>tx</td>\n      <td>2.8</td>\n      <td>131301.0</td>\n      <td>gold</td>\n      <td>beige</td>\n      <td>wichita falls ford lin inc</td>\n      <td>13300</td>\n      <td>Wed Jun 17 2015 03:00:00 GMT-0700 (PDT)</td>\n    </tr>\n    <tr>\n      <th>4</th>\n      <td>2007</td>\n      <td>Ford</td>\n      <td>Fusion</td>\n      <td>SEL</td>\n      <td>Sedan</td>\n      <td>automatic</td>\n      <td>3fahp08z17r268380</td>\n      <td>md</td>\n      <td>2.0</td>\n      <td>127709.0</td>\n      <td>black</td>\n      <td>black</td>\n      <td>purple heart</td>\n      <td>1300</td>\n      <td>Tue Feb 03 2015 04:00:00 GMT-0800 (PST)</td>\n    </tr>\n    <tr>\n      <th>5</th>\n      <td>2013</td>\n      <td>Lincoln</td>\n      <td>MKZ</td>\n      <td>Base</td>\n      <td>Sedan</td>\n      <td>automatic</td>\n      <td>3ln6l2j91dr817800</td>\n      <td>mi</td>\n      <td>2.5</td>\n      <td>14894.0</td>\n      <td>black</td>\n      <td>black</td>\n      <td>ford motor credit company,llc</td>\n      <td>22600</td>\n      <td>Thu May 21 2015 02:00:00 GMT-0700 (PDT)</td>\n    </tr>\n    <tr>\n      <th>6</th>\n      <td>2010</td>\n      <td>pontiac</td>\n      <td>g6</td>\n      <td>4c</td>\n      <td>NaN</td>\n      <td>automatic</td>\n      <td>1g2za5eb4a4157380</td>\n      <td>nc</td>\n      <td>3.4</td>\n      <td>114587.0</td>\n      <td>silver</td>\n      <td>black</td>\n      <td>north state acceptance</td>\n      <td>5900</td>\n      <td>Mon Jan 12 2015 09:30:00 GMT-0800 (PST)</td>\n    </tr>\n    <tr>\n      <th>7</th>\n      <td>2013</td>\n      <td>Ford</td>\n      <td>Escape</td>\n      <td>SE</td>\n      <td>SUV</td>\n      <td>automatic</td>\n      <td>1fmcu0gx3duc59421</td>\n      <td>fl</td>\n      <td>4.8</td>\n      <td>26273.0</td>\n      <td>blue</td>\n      <td>gray</td>\n      <td>fields bmw</td>\n      <td>15200</td>\n      <td>Tue Feb 03 2015 01:00:00 GMT-0800 (PST)</td>\n    </tr>\n    <tr>\n      <th>8</th>\n      <td>2000</td>\n      <td>Hyundai</td>\n      <td>Elantra</td>\n      <td>GLS</td>\n      <td>Sedan</td>\n      <td>automatic</td>\n      <td>kmhjf35f2yu955691</td>\n      <td>oh</td>\n      <td>1.9</td>\n      <td>182624.0</td>\n      <td>black</td>\n      <td>tan</td>\n      <td>dt inventory</td>\n      <td>700</td>\n      <td>Thu Jan 22 2015 01:00:00 GMT-0800 (PST)</td>\n    </tr>\n    <tr>\n      <th>9</th>\n      <td>2005</td>\n      <td>Ford</td>\n      <td>Freestyle</td>\n      <td>Limited</td>\n      <td>wagon</td>\n      <td>automatic</td>\n      <td>1fmdk06135ga45438</td>\n      <td>oh</td>\n      <td>1.0</td>\n      <td>149364.0</td>\n      <td>black</td>\n      <td>tan</td>\n      <td>wells fargo dealer services</td>\n      <td>325</td>\n      <td>Tue Jun 16 2015 05:00:00 GMT-0700 (PDT)</td>\n    </tr>\n  </tbody>\n</table>\n</div>"
     },
     "metadata": {},
     "output_type": "display_data"
    },
    {
     "name": "stdout",
     "output_type": "stream",
     "text": [
      "<class 'pandas.core.frame.DataFrame'>\n",
      "RangeIndex: 440236 entries, 0 to 440235\n",
      "Data columns (total 15 columns):\n",
      " #   Column        Non-Null Count   Dtype  \n",
      "---  ------        --------------   -----  \n",
      " 0   year          440236 non-null  int64  \n",
      " 1   make          432193 non-null  object \n",
      " 2   model         432113 non-null  object \n",
      " 3   trim          431899 non-null  object \n",
      " 4   body          429843 non-null  object \n",
      " 5   transmission  388775 non-null  object \n",
      " 6   vin           440236 non-null  object \n",
      " 7   state         440236 non-null  object \n",
      " 8   condition     430831 non-null  float64\n",
      " 9   odometer      440167 non-null  float64\n",
      " 10  color         439650 non-null  object \n",
      " 11  interior      439650 non-null  object \n",
      " 12  seller        440236 non-null  object \n",
      " 13  sellingprice  440236 non-null  int64  \n",
      " 14  saledate      440236 non-null  object \n",
      "dtypes: float64(2), int64(2), object(11)\n",
      "memory usage: 50.4+ MB\n"
     ]
    },
    {
     "data": {
      "text/plain": "None"
     },
     "metadata": {},
     "output_type": "display_data"
    },
    {
     "data": {
      "text/plain": "                 count          mean           std     min      50%       max\nyear          440236.0   2010.040101      3.977945  1982.0   2012.0    2015.0\ncondition     430831.0      3.425077      0.949973     1.0      3.6       5.0\nodometer      440167.0  68344.421604  53542.203908     1.0  52098.0  999999.0\nsellingprice  440236.0  13592.209588   9751.479098     1.0  12100.0  230000.0",
      "text/html": "<div>\n<style scoped>\n    .dataframe tbody tr th:only-of-type {\n        vertical-align: middle;\n    }\n\n    .dataframe tbody tr th {\n        vertical-align: top;\n    }\n\n    .dataframe thead th {\n        text-align: right;\n    }\n</style>\n<table border=\"1\" class=\"dataframe\">\n  <thead>\n    <tr style=\"text-align: right;\">\n      <th></th>\n      <th>count</th>\n      <th>mean</th>\n      <th>std</th>\n      <th>min</th>\n      <th>50%</th>\n      <th>max</th>\n    </tr>\n  </thead>\n  <tbody>\n    <tr>\n      <th>year</th>\n      <td>440236.0</td>\n      <td>2010.040101</td>\n      <td>3.977945</td>\n      <td>1982.0</td>\n      <td>2012.0</td>\n      <td>2015.0</td>\n    </tr>\n    <tr>\n      <th>condition</th>\n      <td>430831.0</td>\n      <td>3.425077</td>\n      <td>0.949973</td>\n      <td>1.0</td>\n      <td>3.6</td>\n      <td>5.0</td>\n    </tr>\n    <tr>\n      <th>odometer</th>\n      <td>440167.0</td>\n      <td>68344.421604</td>\n      <td>53542.203908</td>\n      <td>1.0</td>\n      <td>52098.0</td>\n      <td>999999.0</td>\n    </tr>\n    <tr>\n      <th>sellingprice</th>\n      <td>440236.0</td>\n      <td>13592.209588</td>\n      <td>9751.479098</td>\n      <td>1.0</td>\n      <td>12100.0</td>\n      <td>230000.0</td>\n    </tr>\n  </tbody>\n</table>\n</div>"
     },
     "metadata": {},
     "output_type": "display_data"
    },
    {
     "name": "stdout",
     "output_type": "stream",
     "text": [
      "Количество дублированных строк: 0\n"
     ]
    }
   ],
   "source": [
    "describe_dataframe(train)"
   ],
   "metadata": {
    "collapsed": false
   }
  },
  {
   "cell_type": "code",
   "execution_count": 481,
   "outputs": [
    {
     "data": {
      "text/plain": "   year        make         model      trim      body transmission  \\\n0  2005    Cadillac           CTS      Base     Sedan    automatic   \n1  2014         GMC  Savana Cargo      2500       Van          NaN   \n2  2013      Nissan        Murano         S       SUV    automatic   \n3  2013   Chevrolet        Impala  LS Fleet     Sedan    automatic   \n4  2013      Nissan         Titan        SV  Crew Cab    automatic   \n5  2003  Volkswagen        Passat  GLS 1.8T     wagon    automatic   \n6  2013     Hyundai        Sonata       GLS     Sedan    automatic   \n7  2013        Ford      Explorer      Base       SUV    automatic   \n8  2011    Infiniti       G Sedan      G37x   G Sedan    automatic   \n9  2007   Chevrolet      Suburban   1500 LS       SUV    automatic   \n\n                 vin state  condition  odometer   color interior  \\\n0  1g6dp567450124779    ca        2.7  116970.0  silver    black   \n1  1gtw7fca7e1902207    pa        4.4    6286.0   white     gray   \n2  jn8az1mw6dw303497    oh        4.6   11831.0    gray    black   \n3  2g1wf5e34d1160703    fl        2.3   57105.0  silver    black   \n4  1n6aa0ec3dn301209    tn        2.9   31083.0   black    black   \n5  wvwvd63b93e175638    nc        2.4  104155.0  silver    black   \n6  5npeb4ac4dh809686    il        3.7   30669.0  silver     gray   \n7  1fm5k7b97dgb16454    nc        3.2   87862.0   black     gray   \n8  jn1cv6ar5bm411441    tn        3.5   47028.0   black    beige   \n9  3gnfc16j77g158033    ga        3.4  191211.0   black      tan   \n\n                                             seller  \\\n0                            lexus of stevens creek   \n1                                            u-haul   \n2                                nissan-infiniti lt   \n3  onemain rem/auto club of miami inc dba north dad   \n4                         nissan north america inc.   \n5              fred anderson nissan of fayetteville   \n6                                 merchants leasing   \n7             ge fleet services for itself/servicer   \n8                                nissan infiniti lt   \n9                           riverside chevrolet inc   \n\n                                  saledate  \n0  Wed Jan 14 2015 04:30:00 GMT-0800 (PST)  \n1  Fri Feb 27 2015 01:00:00 GMT-0800 (PST)  \n2  Tue Feb 24 2015 01:30:00 GMT-0800 (PST)  \n3  Fri Mar 06 2015 02:00:00 GMT-0800 (PST)  \n4  Wed Jun 03 2015 03:30:00 GMT-0700 (PDT)  \n5  Tue Jun 09 2015 03:00:00 GMT-0700 (PDT)  \n6  Tue Mar 03 2015 02:00:00 GMT-0800 (PST)  \n7  Tue Feb 10 2015 01:15:00 GMT-0800 (PST)  \n8  Wed Feb 04 2015 02:30:00 GMT-0800 (PST)  \n9  Tue Feb 10 2015 04:30:00 GMT-0800 (PST)  ",
      "text/html": "<div>\n<style scoped>\n    .dataframe tbody tr th:only-of-type {\n        vertical-align: middle;\n    }\n\n    .dataframe tbody tr th {\n        vertical-align: top;\n    }\n\n    .dataframe thead th {\n        text-align: right;\n    }\n</style>\n<table border=\"1\" class=\"dataframe\">\n  <thead>\n    <tr style=\"text-align: right;\">\n      <th></th>\n      <th>year</th>\n      <th>make</th>\n      <th>model</th>\n      <th>trim</th>\n      <th>body</th>\n      <th>transmission</th>\n      <th>vin</th>\n      <th>state</th>\n      <th>condition</th>\n      <th>odometer</th>\n      <th>color</th>\n      <th>interior</th>\n      <th>seller</th>\n      <th>saledate</th>\n    </tr>\n  </thead>\n  <tbody>\n    <tr>\n      <th>0</th>\n      <td>2005</td>\n      <td>Cadillac</td>\n      <td>CTS</td>\n      <td>Base</td>\n      <td>Sedan</td>\n      <td>automatic</td>\n      <td>1g6dp567450124779</td>\n      <td>ca</td>\n      <td>2.7</td>\n      <td>116970.0</td>\n      <td>silver</td>\n      <td>black</td>\n      <td>lexus of stevens creek</td>\n      <td>Wed Jan 14 2015 04:30:00 GMT-0800 (PST)</td>\n    </tr>\n    <tr>\n      <th>1</th>\n      <td>2014</td>\n      <td>GMC</td>\n      <td>Savana Cargo</td>\n      <td>2500</td>\n      <td>Van</td>\n      <td>NaN</td>\n      <td>1gtw7fca7e1902207</td>\n      <td>pa</td>\n      <td>4.4</td>\n      <td>6286.0</td>\n      <td>white</td>\n      <td>gray</td>\n      <td>u-haul</td>\n      <td>Fri Feb 27 2015 01:00:00 GMT-0800 (PST)</td>\n    </tr>\n    <tr>\n      <th>2</th>\n      <td>2013</td>\n      <td>Nissan</td>\n      <td>Murano</td>\n      <td>S</td>\n      <td>SUV</td>\n      <td>automatic</td>\n      <td>jn8az1mw6dw303497</td>\n      <td>oh</td>\n      <td>4.6</td>\n      <td>11831.0</td>\n      <td>gray</td>\n      <td>black</td>\n      <td>nissan-infiniti lt</td>\n      <td>Tue Feb 24 2015 01:30:00 GMT-0800 (PST)</td>\n    </tr>\n    <tr>\n      <th>3</th>\n      <td>2013</td>\n      <td>Chevrolet</td>\n      <td>Impala</td>\n      <td>LS Fleet</td>\n      <td>Sedan</td>\n      <td>automatic</td>\n      <td>2g1wf5e34d1160703</td>\n      <td>fl</td>\n      <td>2.3</td>\n      <td>57105.0</td>\n      <td>silver</td>\n      <td>black</td>\n      <td>onemain rem/auto club of miami inc dba north dad</td>\n      <td>Fri Mar 06 2015 02:00:00 GMT-0800 (PST)</td>\n    </tr>\n    <tr>\n      <th>4</th>\n      <td>2013</td>\n      <td>Nissan</td>\n      <td>Titan</td>\n      <td>SV</td>\n      <td>Crew Cab</td>\n      <td>automatic</td>\n      <td>1n6aa0ec3dn301209</td>\n      <td>tn</td>\n      <td>2.9</td>\n      <td>31083.0</td>\n      <td>black</td>\n      <td>black</td>\n      <td>nissan north america inc.</td>\n      <td>Wed Jun 03 2015 03:30:00 GMT-0700 (PDT)</td>\n    </tr>\n    <tr>\n      <th>5</th>\n      <td>2003</td>\n      <td>Volkswagen</td>\n      <td>Passat</td>\n      <td>GLS 1.8T</td>\n      <td>wagon</td>\n      <td>automatic</td>\n      <td>wvwvd63b93e175638</td>\n      <td>nc</td>\n      <td>2.4</td>\n      <td>104155.0</td>\n      <td>silver</td>\n      <td>black</td>\n      <td>fred anderson nissan of fayetteville</td>\n      <td>Tue Jun 09 2015 03:00:00 GMT-0700 (PDT)</td>\n    </tr>\n    <tr>\n      <th>6</th>\n      <td>2013</td>\n      <td>Hyundai</td>\n      <td>Sonata</td>\n      <td>GLS</td>\n      <td>Sedan</td>\n      <td>automatic</td>\n      <td>5npeb4ac4dh809686</td>\n      <td>il</td>\n      <td>3.7</td>\n      <td>30669.0</td>\n      <td>silver</td>\n      <td>gray</td>\n      <td>merchants leasing</td>\n      <td>Tue Mar 03 2015 02:00:00 GMT-0800 (PST)</td>\n    </tr>\n    <tr>\n      <th>7</th>\n      <td>2013</td>\n      <td>Ford</td>\n      <td>Explorer</td>\n      <td>Base</td>\n      <td>SUV</td>\n      <td>automatic</td>\n      <td>1fm5k7b97dgb16454</td>\n      <td>nc</td>\n      <td>3.2</td>\n      <td>87862.0</td>\n      <td>black</td>\n      <td>gray</td>\n      <td>ge fleet services for itself/servicer</td>\n      <td>Tue Feb 10 2015 01:15:00 GMT-0800 (PST)</td>\n    </tr>\n    <tr>\n      <th>8</th>\n      <td>2011</td>\n      <td>Infiniti</td>\n      <td>G Sedan</td>\n      <td>G37x</td>\n      <td>G Sedan</td>\n      <td>automatic</td>\n      <td>jn1cv6ar5bm411441</td>\n      <td>tn</td>\n      <td>3.5</td>\n      <td>47028.0</td>\n      <td>black</td>\n      <td>beige</td>\n      <td>nissan infiniti lt</td>\n      <td>Wed Feb 04 2015 02:30:00 GMT-0800 (PST)</td>\n    </tr>\n    <tr>\n      <th>9</th>\n      <td>2007</td>\n      <td>Chevrolet</td>\n      <td>Suburban</td>\n      <td>1500 LS</td>\n      <td>SUV</td>\n      <td>automatic</td>\n      <td>3gnfc16j77g158033</td>\n      <td>ga</td>\n      <td>3.4</td>\n      <td>191211.0</td>\n      <td>black</td>\n      <td>tan</td>\n      <td>riverside chevrolet inc</td>\n      <td>Tue Feb 10 2015 04:30:00 GMT-0800 (PST)</td>\n    </tr>\n  </tbody>\n</table>\n</div>"
     },
     "metadata": {},
     "output_type": "display_data"
    },
    {
     "name": "stdout",
     "output_type": "stream",
     "text": [
      "<class 'pandas.core.frame.DataFrame'>\n",
      "RangeIndex: 110058 entries, 0 to 110057\n",
      "Data columns (total 14 columns):\n",
      " #   Column        Non-Null Count   Dtype  \n",
      "---  ------        --------------   -----  \n",
      " 0   year          110058 non-null  int64  \n",
      " 1   make          107997 non-null  object \n",
      " 2   model         107979 non-null  object \n",
      " 3   trim          107944 non-null  object \n",
      " 4   body          107464 non-null  object \n",
      " 5   transmission  97047 non-null   object \n",
      " 6   vin           110058 non-null  object \n",
      " 7   state         110058 non-null  object \n",
      " 8   condition     107679 non-null  float64\n",
      " 9   odometer      110039 non-null  float64\n",
      " 10  color         109900 non-null  object \n",
      " 11  interior      109900 non-null  object \n",
      " 12  seller        110058 non-null  object \n",
      " 13  saledate      110058 non-null  object \n",
      "dtypes: float64(2), int64(1), object(11)\n",
      "memory usage: 11.8+ MB\n"
     ]
    },
    {
     "data": {
      "text/plain": "None"
     },
     "metadata": {},
     "output_type": "display_data"
    },
    {
     "data": {
      "text/plain": "              count          mean           std     min      50%       max\nyear       110058.0   2010.060005      3.960190  1982.0   2012.0    2015.0\ncondition  107679.0      3.423222      0.951301     1.0      3.6       5.0\nodometer   110039.0  68074.331601  53520.988173     1.0  51922.0  999999.0",
      "text/html": "<div>\n<style scoped>\n    .dataframe tbody tr th:only-of-type {\n        vertical-align: middle;\n    }\n\n    .dataframe tbody tr th {\n        vertical-align: top;\n    }\n\n    .dataframe thead th {\n        text-align: right;\n    }\n</style>\n<table border=\"1\" class=\"dataframe\">\n  <thead>\n    <tr style=\"text-align: right;\">\n      <th></th>\n      <th>count</th>\n      <th>mean</th>\n      <th>std</th>\n      <th>min</th>\n      <th>50%</th>\n      <th>max</th>\n    </tr>\n  </thead>\n  <tbody>\n    <tr>\n      <th>year</th>\n      <td>110058.0</td>\n      <td>2010.060005</td>\n      <td>3.960190</td>\n      <td>1982.0</td>\n      <td>2012.0</td>\n      <td>2015.0</td>\n    </tr>\n    <tr>\n      <th>condition</th>\n      <td>107679.0</td>\n      <td>3.423222</td>\n      <td>0.951301</td>\n      <td>1.0</td>\n      <td>3.6</td>\n      <td>5.0</td>\n    </tr>\n    <tr>\n      <th>odometer</th>\n      <td>110039.0</td>\n      <td>68074.331601</td>\n      <td>53520.988173</td>\n      <td>1.0</td>\n      <td>51922.0</td>\n      <td>999999.0</td>\n    </tr>\n  </tbody>\n</table>\n</div>"
     },
     "metadata": {},
     "output_type": "display_data"
    },
    {
     "name": "stdout",
     "output_type": "stream",
     "text": [
      "Количество дублированных строк: 0\n"
     ]
    }
   ],
   "source": [
    "describe_dataframe(test)"
   ],
   "metadata": {
    "collapsed": false
   }
  },
  {
   "cell_type": "code",
   "execution_count": 482,
   "outputs": [
    {
     "data": {
      "text/plain": "<pandas.io.formats.style.Styler at 0x20b9a93e950>",
      "text/html": "<style type=\"text/css\">\n#T_210b3_row0_col0, #T_210b3_row1_col1, #T_210b3_row2_col2, #T_210b3_row3_col3 {\n  background-color: #b40426;\n  color: #f1f1f1;\n}\n#T_210b3_row0_col1, #T_210b3_row1_col3 {\n  background-color: #f7a98b;\n  color: #000000;\n}\n#T_210b3_row0_col2, #T_210b3_row2_col0, #T_210b3_row2_col1, #T_210b3_row2_col3 {\n  background-color: #3b4cc0;\n  color: #f1f1f1;\n}\n#T_210b3_row0_col3 {\n  background-color: #f59d7e;\n  color: #000000;\n}\n#T_210b3_row1_col0 {\n  background-color: #f49a7b;\n  color: #000000;\n}\n#T_210b3_row1_col2 {\n  background-color: #6384eb;\n  color: #f1f1f1;\n}\n#T_210b3_row3_col0 {\n  background-color: #f29274;\n  color: #f1f1f1;\n}\n#T_210b3_row3_col1 {\n  background-color: #f7ac8e;\n  color: #000000;\n}\n#T_210b3_row3_col2 {\n  background-color: #5b7ae5;\n  color: #f1f1f1;\n}\n</style>\n<table id=\"T_210b3\">\n  <thead>\n    <tr>\n      <th class=\"blank level0\" >&nbsp;</th>\n      <th id=\"T_210b3_level0_col0\" class=\"col_heading level0 col0\" >year</th>\n      <th id=\"T_210b3_level0_col1\" class=\"col_heading level0 col1\" >condition</th>\n      <th id=\"T_210b3_level0_col2\" class=\"col_heading level0 col2\" >odometer</th>\n      <th id=\"T_210b3_level0_col3\" class=\"col_heading level0 col3\" >sellingprice</th>\n    </tr>\n  </thead>\n  <tbody>\n    <tr>\n      <th id=\"T_210b3_level0_row0\" class=\"row_heading level0 row0\" >year</th>\n      <td id=\"T_210b3_row0_col0\" class=\"data row0 col0\" >1.000000</td>\n      <td id=\"T_210b3_row0_col1\" class=\"data row0 col1\" >0.553403</td>\n      <td id=\"T_210b3_row0_col2\" class=\"data row0 col2\" >-0.774498</td>\n      <td id=\"T_210b3_row0_col3\" class=\"data row0 col3\" >0.586847</td>\n    </tr>\n    <tr>\n      <th id=\"T_210b3_level0_row1\" class=\"row_heading level0 row1\" >condition</th>\n      <td id=\"T_210b3_row1_col0\" class=\"data row1 col0\" >0.553403</td>\n      <td id=\"T_210b3_row1_col1\" class=\"data row1 col1\" >1.000000</td>\n      <td id=\"T_210b3_row1_col2\" class=\"data row1 col2\" >-0.540544</td>\n      <td id=\"T_210b3_row1_col3\" class=\"data row1 col3\" >0.538906</td>\n    </tr>\n    <tr>\n      <th id=\"T_210b3_level0_row2\" class=\"row_heading level0 row2\" >odometer</th>\n      <td id=\"T_210b3_row2_col0\" class=\"data row2 col0\" >-0.774498</td>\n      <td id=\"T_210b3_row2_col1\" class=\"data row2 col1\" >-0.540544</td>\n      <td id=\"T_210b3_row2_col2\" class=\"data row2 col2\" >1.000000</td>\n      <td id=\"T_210b3_row2_col3\" class=\"data row2 col3\" >-0.583044</td>\n    </tr>\n    <tr>\n      <th id=\"T_210b3_level0_row3\" class=\"row_heading level0 row3\" >sellingprice</th>\n      <td id=\"T_210b3_row3_col0\" class=\"data row3 col0\" >0.586847</td>\n      <td id=\"T_210b3_row3_col1\" class=\"data row3 col1\" >0.538906</td>\n      <td id=\"T_210b3_row3_col2\" class=\"data row3 col2\" >-0.583044</td>\n      <td id=\"T_210b3_row3_col3\" class=\"data row3 col3\" >1.000000</td>\n    </tr>\n  </tbody>\n</table>\n"
     },
     "execution_count": 482,
     "metadata": {},
     "output_type": "execute_result"
    }
   ],
   "source": [
    "# Рассмотрим корреляции численных данных\n",
    "corr = train[['year', 'condition', 'odometer', 'sellingprice']].corr()\n",
    "corr.style.background_gradient(cmap='coolwarm')"
   ],
   "metadata": {
    "collapsed": false
   }
  },
  {
   "cell_type": "markdown",
   "source": [
    "# Предобработка данных"
   ],
   "metadata": {
    "collapsed": false
   }
  },
  {
   "cell_type": "code",
   "execution_count": 483,
   "outputs": [],
   "source": [
    "# Сохраним первоначальные датафреймы для сравнения чистых и обработанных данных\n",
    "raw_train = train.copy(deep=True)\n",
    "raw_test = test.copy(deep=True)"
   ],
   "metadata": {
    "collapsed": false
   }
  },
  {
   "cell_type": "code",
   "execution_count": 484,
   "outputs": [
    {
     "data": {
      "text/plain": "year                0\nmake             8043\nmodel            8123\ntrim             8337\nbody            10393\ntransmission    51461\nvin                 0\nstate               0\ncondition        9405\nodometer           69\ncolor             586\ninterior          586\nseller              0\nsellingprice        0\nsaledate            0\ndtype: int64"
     },
     "execution_count": 484,
     "metadata": {},
     "output_type": "execute_result"
    }
   ],
   "source": [
    "# Все пропущенные значения на экране\n",
    "train.isna().sum()"
   ],
   "metadata": {
    "collapsed": false
   }
  },
  {
   "cell_type": "code",
   "execution_count": 485,
   "outputs": [],
   "source": [
    "# Преобразуем колонку с датой продажи к формату datetime\n",
    "# train['odometer'] = np.floor(pd.to_numeric(train['odometer'], errors='coerce')).astype('Int64')\n",
    "train['sellingprice'] = np.floor(pd.to_numeric(train['sellingprice'], errors='coerce')).astype('Int32')\n",
    "train['condition'] = np.floor(pd.to_numeric(train['condition'], errors='coerce')).astype('Float64')\n",
    "\n",
    "# test['odometer'] = np.floor(pd.to_numeric(test['odometer'], errors='coerce')).astype('Int64')\n",
    "test['condition'] = np.floor(pd.to_numeric(test['condition'], errors='coerce')).astype('Float64')\n",
    "\n",
    "train['saledate'] = pd.to_datetime(train['saledate'].str[:-15], format=\"%a %b %d %Y %H:%M:%S\")\n",
    "test['saledate'] = pd.to_datetime(test['saledate'].str[:-15], format=\"%a %b %d %Y %H:%M:%S\")\n",
    "\n",
    "# train['year'] = pd.to_datetime(train['year'], format=\"%Y\")\n",
    "# test['year'] = pd.to_datetime(test['year'], format=\"%Y\")"
   ],
   "metadata": {
    "collapsed": false
   }
  },
  {
   "cell_type": "code",
   "execution_count": 486,
   "outputs": [
    {
     "data": {
      "text/plain": "'Первоначальное число уникальных марок автомобилей: 62'"
     },
     "metadata": {},
     "output_type": "display_data"
    },
    {
     "data": {
      "text/plain": "Ford         74067\nChevrolet    47818\nNissan       42866\nToyota       31711\nDodge        24294\n             ...  \nDaewoo           1\nDodge tk         1\nMazda tk         1\nDot              1\nAirstream        1\nName: make, Length: 62, dtype: int64"
     },
     "execution_count": 486,
     "metadata": {},
     "output_type": "execute_result"
    }
   ],
   "source": [
    "# Изучим марки автомобилей\n",
    "\n",
    "train['make'] = train['make'].str.capitalize()\n",
    "display(f\"Первоначальное число уникальных марок автомобилей: {train['make'].value_counts().count()}\")\n",
    "train['make'].value_counts()"
   ],
   "metadata": {
    "collapsed": false
   }
  },
  {
   "cell_type": "code",
   "execution_count": 527,
   "outputs": [],
   "source": [
    "def make_unique(data):\n",
    "    if not data or data in ['none', 'nan']:\n",
    "        return 'Other'\n",
    "    data = str(data)\n",
    "    if data.find(\"ford\") != -1:\n",
    "        return \"ford\"\n",
    "    elif data.find(\"gmc\") != -1:\n",
    "        return \"gmc\"\n",
    "    elif data.find(\"land\") != -1 and data.find(\"rover\") != -1:\n",
    "        return \"landrover\"\n",
    "    elif data.find(\"mercedes\") != -1:\n",
    "        return \"mercedes\"\n",
    "    elif data == \"vw\":\n",
    "        return \"volkswagen\"\n",
    "    elif data.find(\"dodge\") != -1:\n",
    "        return \"dodge\"\n",
    "    elif data.find(\"mazda\") != -1:  #  Hyundai\n",
    "        return \"mazda\"\n",
    "    elif data.find(\"hyundai\") != -1:\n",
    "        return \"hyundai\"\n",
    "    else:\n",
    "        return data"
   ],
   "metadata": {
    "collapsed": false
   }
  },
  {
   "cell_type": "code",
   "execution_count": 488,
   "outputs": [],
   "source": [
    "def body_unique(data):\n",
    "    if not data or data in ['none', 'nan']:\n",
    "        return 'Other'\n",
    "    data = str(data)\n",
    "    if data.find(\"cab\") != -1 or data.find(\"crew\") != -1:\n",
    "        return \"pick-up\"\n",
    "    if data.find(\"convertible\") != -1:\n",
    "        return \"convertible\"\n",
    "    if data.find(\"coupe\") != -1 or data.find(\"koup\") != -1:\n",
    "        return \"coupe\"\n",
    "    if data.find(\"wagon\") != -1:\n",
    "        return \"wagon\"\n",
    "    if data.find(\"van\") != -1:\n",
    "        return \"van\"\n",
    "    if data.find(\"sedan\") != -1:\n",
    "        return \"sedan\"\n",
    "    else:\n",
    "        return data"
   ],
   "metadata": {
    "collapsed": false
   }
  },
  {
   "cell_type": "code",
   "execution_count": 489,
   "outputs": [
    {
     "data": {
      "text/plain": "Ford            74070\nChevrolet       47818\nNissan          42866\nToyota          31711\nDodge           24295\nHonda           21600\nHyundai         17187\nBmw             16254\nKia             14325\nChrysler        13796\nMercedes        13408\nInfiniti        12123\nJeep            12107\nVolkswagen       9901\nLexus            9363\nGmc              8368\nNan              8043\nMazda            6704\nCadillac         5958\nAcura            4679\nAudi             4635\nLincoln          4541\nBuick            4023\nSubaru           4019\nPontiac          3596\nRam              3592\nMitsubishi       3413\nVolvo            2958\nMini             2473\nSaturn           2247\nMercury          1561\nLandrover        1476\nScion            1338\nJaguar           1100\nPorsche          1094\nSuzuki            846\nFiat              672\nHummer            597\nSaab              384\nSmart             311\nOldsmobile        294\nIsuzu             163\nMaserati          112\nBentley            91\nAston martin       23\nPlymouth           23\nTesla              17\nFerrari            17\nGeo                16\nRolls-royce        14\nFisker              7\nLamborghini         4\nDaewoo              1\nDot                 1\nAirstream           1\nName: make, dtype: int64"
     },
     "execution_count": 489,
     "metadata": {},
     "output_type": "execute_result"
    }
   ],
   "source": [
    "train['make'] = train['make'].str.lower().apply(make_unique).str.capitalize()\n",
    "train['make'].value_counts()"
   ],
   "metadata": {
    "collapsed": false
   }
  },
  {
   "cell_type": "code",
   "execution_count": 528,
   "outputs": [
    {
     "data": {
      "text/plain": "Ford            18466\nChevrolet       11801\nNissan          10485\nToyota           7728\nDodge            6188\nHonda            5382\nHyundai          4410\nBmw              4136\nKia              3571\nMercedes         3471\nChrysler         3459\nJeep             3069\nInfiniti         3002\nVolkswagen       2515\nLexus            2430\nOther            2061\nGmc              2059\nMazda            1676\nCadillac         1496\nLincoln          1153\nAcura            1151\nAudi             1124\nBuick            1019\nSubaru           1015\nRam               889\nPontiac           866\nMitsubishi        806\nVolvo             765\nMini              674\nSaturn            544\nMercury           434\nLandrover         371\nScion             318\nJaguar            297\nPorsche           280\nSuzuki            222\nFiat              181\nHummer            174\nSaab               93\nOldsmobile         88\nSmart              81\nIsuzu              38\nBentley            23\nMaserati           21\nTesla               6\nPlymouth            4\nGeo                 3\nRolls-royce         3\nAston martin        2\nDaewoo              2\nFerrari             2\nFisker              2\nLotus               1\nChev truck          1\nName: make, dtype: int64"
     },
     "execution_count": 528,
     "metadata": {},
     "output_type": "execute_result"
    }
   ],
   "source": [
    "test['make'] = test['make'].str.lower().apply(make_unique).str.capitalize()\n",
    "test['make'].value_counts()"
   ],
   "metadata": {
    "collapsed": false
   }
  },
  {
   "cell_type": "code",
   "execution_count": 490,
   "outputs": [
    {
     "data": {
      "text/plain": "Sedan          196720\nSuv            113042\nPick-up         37243\nVan             25146\nHatchback       20715\nCoupe           15791\nWagon           12639\nNan             10393\nConvertible      8547\nName: body, dtype: int64"
     },
     "execution_count": 490,
     "metadata": {},
     "output_type": "execute_result"
    }
   ],
   "source": [
    "train['body'] = train['body'].str.lower().apply(body_unique).str.capitalize()\n",
    "train['body'].value_counts()"
   ],
   "metadata": {
    "collapsed": false
   }
  },
  {
   "cell_type": "code",
   "execution_count": 530,
   "outputs": [
    {
     "data": {
      "text/plain": "Sedan          48970\nSuv            28295\nPick-up         9202\nVan             6414\nHatchback       5152\nCoupe           3995\nWagon           3287\nOther           2594\nConvertible     2149\nName: body, dtype: int64"
     },
     "execution_count": 530,
     "metadata": {},
     "output_type": "execute_result"
    }
   ],
   "source": [
    "test['body'] = test['body'].str.lower().apply(body_unique).str.capitalize()\n",
    "test['body'].value_counts()"
   ],
   "metadata": {
    "collapsed": false
   }
  },
  {
   "cell_type": "code",
   "execution_count": 491,
   "outputs": [
    {
     "data": {
      "text/plain": "Altima            15454\nF-150             11408\nFusion            10244\nCamry             10000\nEscape             9447\n                  ...  \n420-class             1\nC230                  1\nRrs                   1\nActivehybrid 5        1\nG500                  1\nName: model, Length: 840, dtype: int64"
     },
     "execution_count": 491,
     "metadata": {},
     "output_type": "execute_result"
    }
   ],
   "source": [
    "train['model'] = train['model'].str.capitalize()\n",
    "train['model'].fillna(\"Unknown\", inplace=True)\n",
    "train['model'].value_counts()"
   ],
   "metadata": {
    "collapsed": false
   }
  },
  {
   "cell_type": "code",
   "execution_count": 531,
   "outputs": [
    {
     "data": {
      "text/plain": "Altima           3736\nF-150            2737\nFusion           2553\nCamry            2423\nEscape           2296\n                 ... \nExige               1\n1                   1\nC240w               1\nAccord hybrid       1\nCaprice             1\nName: model, Length: 747, dtype: int64"
     },
     "execution_count": 531,
     "metadata": {},
     "output_type": "execute_result"
    }
   ],
   "source": [
    "test['model'] = test['model'].str.capitalize()\n",
    "test['model'].fillna(\"Unknown\", inplace=True)\n",
    "test['model'].value_counts()"
   ],
   "metadata": {
    "collapsed": false
   }
  },
  {
   "cell_type": "code",
   "execution_count": 492,
   "outputs": [
    {
     "data": {
      "text/plain": "Base                      43876\nSe                        34498\nLx                        16511\nLimited                   14516\nLt                        13431\n                          ...  \nExecutive pzev                1\n4c base                       1\n3500 sh ceiling 158 wb        1\nChevy van base                1\n4x4 v6 xlt sport              1\nName: trim, Length: 1851, dtype: int64"
     },
     "execution_count": 492,
     "metadata": {},
     "output_type": "execute_result"
    }
   ],
   "source": [
    "train['trim'] = train['trim'].str.capitalize()\n",
    "train['trim'].fillna(\"Unknown\", inplace=True)\n",
    "train['trim'].value_counts()"
   ],
   "metadata": {
    "collapsed": false
   }
  },
  {
   "cell_type": "code",
   "execution_count": 532,
   "outputs": [
    {
     "data": {
      "text/plain": "Base                11009\nSe                   8725\nLx                   4098\nLimited              3536\nLt                   3280\n                    ...  \n4wd s                   1\nHx                      1\nGr tr gr touring        1\nMr touring              1\nAwd xs ll bean          1\nName: trim, Length: 1458, dtype: int64"
     },
     "execution_count": 532,
     "metadata": {},
     "output_type": "execute_result"
    }
   ],
   "source": [
    "test['trim'] = test['trim'].str.capitalize()\n",
    "test['trim'].fillna(\"Unknown\", inplace=True)\n",
    "test['trim'].value_counts()"
   ],
   "metadata": {
    "collapsed": false
   }
  },
  {
   "cell_type": "code",
   "execution_count": 493,
   "outputs": [
    {
     "data": {
      "text/plain": "automatic    375061\nmanual        13714\nName: transmission, dtype: int64"
     },
     "execution_count": 493,
     "metadata": {},
     "output_type": "execute_result"
    }
   ],
   "source": [
    "train['transmission'].value_counts()"
   ],
   "metadata": {
    "collapsed": false
   }
  },
  {
   "cell_type": "code",
   "execution_count": 494,
   "outputs": [
    {
     "data": {
      "text/plain": "automatic    375061\nUnknown       51461\nmanual        13714\nName: transmission, dtype: int64"
     },
     "execution_count": 494,
     "metadata": {},
     "output_type": "execute_result"
    }
   ],
   "source": [
    "# train['transmission'].fillna(train.groupby(['make', 'body', 'trim', 'model'])['transmission'].median(), inplace=True)\n",
    "train['transmission'].fillna(\"Unknown\", inplace=True)\n",
    "train['transmission'].value_counts()"
   ],
   "metadata": {
    "collapsed": false
   }
  },
  {
   "cell_type": "code",
   "execution_count": 533,
   "outputs": [
    {
     "data": {
      "text/plain": "automatic    93584\nUnknown      13011\nmanual        3463\nName: transmission, dtype: int64"
     },
     "execution_count": 533,
     "metadata": {},
     "output_type": "execute_result"
    }
   ],
   "source": [
    "test['transmission'].fillna(\"Unknown\", inplace=True)\n",
    "test['transmission'].value_counts()"
   ],
   "metadata": {
    "collapsed": false
   }
  },
  {
   "cell_type": "code",
   "execution_count": 495,
   "outputs": [
    {
     "data": {
      "text/plain": "black        87115\nwhite        84149\nsilver       65667\ngray         65284\nblue         40237\nred          34514\n—            19520\ngreen         8975\ngold          8934\nbeige         7257\nburgundy      7059\nbrown         5320\norange        1629\npurple        1250\noff-white     1143\nyellow         979\nUnknown        586\ncharcoal       389\nturquoise      183\npink            32\nlime            14\nName: color, dtype: int64"
     },
     "execution_count": 495,
     "metadata": {},
     "output_type": "execute_result"
    }
   ],
   "source": [
    "train['color'].fillna(\"Unknown\", inplace=True)\n",
    "train['color'].value_counts()"
   ],
   "metadata": {
    "collapsed": false
   }
  },
  {
   "cell_type": "code",
   "execution_count": 534,
   "outputs": [
    {
     "data": {
      "text/plain": "black        22006\nwhite        20928\nsilver       16360\ngray         16348\nblue         10180\nred           8384\n—             4948\ngreen         2270\ngold          2207\nbeige         1826\nburgundy      1759\nbrown         1300\norange         407\npurple         284\noff-white      275\nyellow         274\nUnknown        158\ncharcoal        84\nturquoise       49\npink            10\nlime             1\nName: color, dtype: int64"
     },
     "execution_count": 534,
     "metadata": {},
     "output_type": "execute_result"
    }
   ],
   "source": [
    "test['color'].fillna(\"Unknown\", inplace=True)\n",
    "test['color'].value_counts()"
   ],
   "metadata": {
    "collapsed": false
   }
  },
  {
   "cell_type": "code",
   "execution_count": 496,
   "outputs": [
    {
     "data": {
      "text/plain": "black        192442\ngray         140843\nbeige         46878\ntan           34709\n—             13563\nbrown          6818\nred            1070\nblue            885\nsilver          844\nUnknown         586\noff-white       373\npurple          276\ngold            256\nwhite           215\ngreen           198\nburgundy        155\norange          109\nyellow           16\nName: interior, dtype: int64"
     },
     "execution_count": 496,
     "metadata": {},
     "output_type": "execute_result"
    }
   ],
   "source": [
    "train['interior'].fillna(\"Unknown\", inplace=True)\n",
    "train['interior'].value_counts()"
   ],
   "metadata": {
    "collapsed": false
   }
  },
  {
   "cell_type": "code",
   "execution_count": 535,
   "outputs": [
    {
     "data": {
      "text/plain": "black        48176\ngray         34984\nbeige        11931\ntan           8658\n—             3380\nbrown         1664\nred            264\nblue           241\nsilver         225\nUnknown        158\noff-white      107\ngold            64\npurple          58\ngreen           44\nburgundy        34\norange          33\nwhite           33\nyellow           4\nName: interior, dtype: int64"
     },
     "execution_count": 535,
     "metadata": {},
     "output_type": "execute_result"
    }
   ],
   "source": [
    "test['interior'].fillna(\"Unknown\", inplace=True)\n",
    "test['interior'].value_counts()"
   ],
   "metadata": {
    "collapsed": false
   }
  },
  {
   "cell_type": "code",
   "execution_count": 497,
   "outputs": [
    {
     "data": {
      "text/plain": "4.0    142593\n3.0    139473\n2.0    108832\n1.0     40302\n5.0      8862\n2.5        85\n1.5        76\n3.5        13\nName: condition, dtype: Int64"
     },
     "execution_count": 497,
     "metadata": {},
     "output_type": "execute_result"
    }
   ],
   "source": [
    "train['condition'].fillna(train.groupby(['make', 'body', 'trim', 'model'])['condition'].transform('median'), inplace=True)\n",
    "train['condition'].fillna(train.groupby(['make'])['condition'].transform('median'), inplace=True)\n",
    "train['condition'] = np.round(train['condition'], decimals = 1)\n",
    "train['condition'].value_counts()"
   ],
   "metadata": {
    "collapsed": false
   }
  },
  {
   "cell_type": "code",
   "execution_count": 536,
   "outputs": [
    {
     "data": {
      "text/plain": "4.0    35434\n3.0    35037\n2.0    27153\n1.0    10202\n5.0     2196\n2.5       21\n1.5       13\n3.5        2\nName: condition, dtype: Int64"
     },
     "execution_count": 536,
     "metadata": {},
     "output_type": "execute_result"
    }
   ],
   "source": [
    "test['condition'].fillna(train.groupby(['make', 'body', 'trim', 'model'])['condition'].transform('median'), inplace=True)\n",
    "test['condition'].fillna(train.groupby(['make'])['condition'].transform('median'), inplace=True)\n",
    "test['condition'] = np.round(train['condition'], decimals = 1)\n",
    "test['condition'].value_counts()"
   ],
   "metadata": {
    "collapsed": false
   }
  },
  {
   "cell_type": "code",
   "execution_count": 498,
   "outputs": [],
   "source": [
    "train['odometer'].fillna(train.groupby(['make', 'body', 'model'])['odometer'].transform('mean'), inplace=True)"
   ],
   "metadata": {
    "collapsed": false
   }
  },
  {
   "cell_type": "code",
   "execution_count": 537,
   "outputs": [],
   "source": [
    "test['odometer'].fillna(train.groupby(['make', 'body', 'model'])['odometer'].transform('mean'), inplace=True)"
   ],
   "metadata": {
    "collapsed": false
   }
  },
  {
   "cell_type": "code",
   "execution_count": 499,
   "outputs": [
    {
     "data": {
      "text/plain": "year            0\nmake            0\nmodel           0\ntrim            0\nbody            0\ntransmission    0\nvin             0\nstate           0\ncondition       0\nodometer        0\ncolor           0\ninterior        0\nseller          0\nsellingprice    0\nsaledate        0\ndtype: int64"
     },
     "execution_count": 499,
     "metadata": {},
     "output_type": "execute_result"
    }
   ],
   "source": [
    "train.isna().sum()"
   ],
   "metadata": {
    "collapsed": false
   }
  },
  {
   "cell_type": "code",
   "execution_count": 551,
   "outputs": [
    {
     "data": {
      "text/plain": "year                 0\nmake                 0\nmodel                0\ntrim                 0\nbody                 0\ntransmission         0\nstate                0\ncondition            0\nodometer             0\ncolor                0\ninterior             0\nsaledate_week_day    0\nsaledate_month       0\nsaledate_year        0\ncar_age              0\ndtype: int64"
     },
     "execution_count": 551,
     "metadata": {},
     "output_type": "execute_result"
    }
   ],
   "source": [
    "test.isna().sum()"
   ],
   "metadata": {
    "collapsed": false
   }
  },
  {
   "cell_type": "markdown",
   "source": [
    "# Добавление синтетических данных"
   ],
   "metadata": {
    "collapsed": false
   }
  },
  {
   "cell_type": "code",
   "execution_count": 500,
   "outputs": [],
   "source": [
    "train['saledate_week_day'] = train['saledate'].dt.weekday\n",
    "train['saledate_month'] = train['saledate'].dt.month\n",
    "train['saledate_year'] = train['saledate'].dt.year\n",
    "train['car_age'] = train['saledate'].dt.year - train['year']"
   ],
   "metadata": {
    "collapsed": false
   }
  },
  {
   "cell_type": "code",
   "execution_count": 539,
   "outputs": [],
   "source": [
    "test['saledate_week_day'] = test['saledate'].dt.weekday\n",
    "test['saledate_month'] = test['saledate'].dt.month\n",
    "test['saledate_year'] = test['saledate'].dt.year\n",
    "test['car_age'] = test['saledate'].dt.year - test['year']"
   ],
   "metadata": {
    "collapsed": false
   }
  },
  {
   "cell_type": "code",
   "execution_count": 501,
   "outputs": [],
   "source": [
    "train.drop(columns=[\n",
    "    'vin',\n",
    "    'seller',\n",
    "    'saledate'\n",
    "], inplace=True)"
   ],
   "metadata": {
    "collapsed": false
   }
  },
  {
   "cell_type": "code",
   "execution_count": 540,
   "outputs": [],
   "source": [
    "test.drop(columns=[\n",
    "    'vin',\n",
    "    'seller',\n",
    "    'saledate'\n",
    "], inplace=True)"
   ],
   "metadata": {
    "collapsed": false
   }
  },
  {
   "cell_type": "code",
   "execution_count": 521,
   "outputs": [
    {
     "name": "stderr",
     "output_type": "stream",
     "text": [
      "C:\\Users\\APMuravev\\AppData\\Local\\Temp\\ipykernel_17424\\1400791015.py:1: FutureWarning: The default value of numeric_only in DataFrame.corr is deprecated. In a future version, it will default to False. Select only valid columns or specify the value of numeric_only to silence this warning.\n",
      "  corr = train.corr()\n"
     ]
    },
    {
     "ename": "TypeError",
     "evalue": "Styler.background_gradient() got an unexpected keyword argument 'method'",
     "output_type": "error",
     "traceback": [
      "\u001B[1;31m---------------------------------------------------------------------------\u001B[0m",
      "\u001B[1;31mTypeError\u001B[0m                                 Traceback (most recent call last)",
      "Cell \u001B[1;32mIn[521], line 2\u001B[0m\n\u001B[0;32m      1\u001B[0m corr \u001B[38;5;241m=\u001B[39m train\u001B[38;5;241m.\u001B[39mcorr()\n\u001B[1;32m----> 2\u001B[0m \u001B[43mcorr\u001B[49m\u001B[38;5;241;43m.\u001B[39;49m\u001B[43mstyle\u001B[49m\u001B[38;5;241;43m.\u001B[39;49m\u001B[43mbackground_gradient\u001B[49m\u001B[43m(\u001B[49m\u001B[43mcmap\u001B[49m\u001B[38;5;241;43m=\u001B[39;49m\u001B[38;5;124;43m'\u001B[39;49m\u001B[38;5;124;43mcoolwarm\u001B[39;49m\u001B[38;5;124;43m'\u001B[39;49m\u001B[43m,\u001B[49m\u001B[43mmethod\u001B[49m\u001B[38;5;241;43m=\u001B[39;49m\u001B[38;5;124;43m'\u001B[39;49m\u001B[38;5;124;43mhistogram_intersection\u001B[39;49m\u001B[38;5;124;43m'\u001B[39;49m\u001B[43m)\u001B[49m\n",
      "\u001B[1;31mTypeError\u001B[0m: Styler.background_gradient() got an unexpected keyword argument 'method'"
     ]
    }
   ],
   "source": [
    "corr = train.corr(method='histogram_intersection')\n",
    "corr.style.background_gradient(cmap='coolwarm')"
   ],
   "metadata": {
    "collapsed": false
   }
  },
  {
   "cell_type": "markdown",
   "source": [
    "# Исследовательский анализ данных"
   ],
   "metadata": {
    "collapsed": false
   }
  },
  {
   "cell_type": "markdown",
   "source": [
    "Тут пока пусто"
   ],
   "metadata": {
    "collapsed": false
   }
  },
  {
   "cell_type": "markdown",
   "source": [
    "# Подбор и обучение моделей машинного обучения"
   ],
   "metadata": {
    "collapsed": false
   }
  },
  {
   "cell_type": "code",
   "execution_count": 560,
   "outputs": [],
   "source": [
    "target_train = train['sellingprice']\n",
    "features_train = train.drop(['sellingprice'], axis=1)"
   ],
   "metadata": {
    "collapsed": false
   }
  },
  {
   "cell_type": "code",
   "execution_count": 562,
   "outputs": [],
   "source": [
    "features_test = test"
   ],
   "metadata": {
    "collapsed": false
   }
  },
  {
   "cell_type": "code",
   "execution_count": 504,
   "outputs": [],
   "source": [
    "categorical_columns = list(filter(lambda column: is_string_dtype(features_train[column]), features_train.columns))\n",
    "numeric_columns = list(filter(lambda column: not is_string_dtype(features_train[column]), features_train.columns))"
   ],
   "metadata": {
    "collapsed": false
   }
  },
  {
   "cell_type": "code",
   "execution_count": 505,
   "outputs": [
    {
     "data": {
      "text/plain": "['make', 'model', 'trim', 'body', 'transmission', 'state', 'color', 'interior']"
     },
     "execution_count": 505,
     "metadata": {},
     "output_type": "execute_result"
    }
   ],
   "source": [
    "categorical_columns"
   ],
   "metadata": {
    "collapsed": false
   }
  },
  {
   "cell_type": "code",
   "execution_count": 561,
   "outputs": [
    {
     "data": {
      "text/plain": "OrdinalEncoder(handle_unknown='use_encoded_value', unknown_value=-1)",
      "text/html": "<style>#sk-container-id-7 {color: black;background-color: white;}#sk-container-id-7 pre{padding: 0;}#sk-container-id-7 div.sk-toggleable {background-color: white;}#sk-container-id-7 label.sk-toggleable__label {cursor: pointer;display: block;width: 100%;margin-bottom: 0;padding: 0.3em;box-sizing: border-box;text-align: center;}#sk-container-id-7 label.sk-toggleable__label-arrow:before {content: \"▸\";float: left;margin-right: 0.25em;color: #696969;}#sk-container-id-7 label.sk-toggleable__label-arrow:hover:before {color: black;}#sk-container-id-7 div.sk-estimator:hover label.sk-toggleable__label-arrow:before {color: black;}#sk-container-id-7 div.sk-toggleable__content {max-height: 0;max-width: 0;overflow: hidden;text-align: left;background-color: #f0f8ff;}#sk-container-id-7 div.sk-toggleable__content pre {margin: 0.2em;color: black;border-radius: 0.25em;background-color: #f0f8ff;}#sk-container-id-7 input.sk-toggleable__control:checked~div.sk-toggleable__content {max-height: 200px;max-width: 100%;overflow: auto;}#sk-container-id-7 input.sk-toggleable__control:checked~label.sk-toggleable__label-arrow:before {content: \"▾\";}#sk-container-id-7 div.sk-estimator input.sk-toggleable__control:checked~label.sk-toggleable__label {background-color: #d4ebff;}#sk-container-id-7 div.sk-label input.sk-toggleable__control:checked~label.sk-toggleable__label {background-color: #d4ebff;}#sk-container-id-7 input.sk-hidden--visually {border: 0;clip: rect(1px 1px 1px 1px);clip: rect(1px, 1px, 1px, 1px);height: 1px;margin: -1px;overflow: hidden;padding: 0;position: absolute;width: 1px;}#sk-container-id-7 div.sk-estimator {font-family: monospace;background-color: #f0f8ff;border: 1px dotted black;border-radius: 0.25em;box-sizing: border-box;margin-bottom: 0.5em;}#sk-container-id-7 div.sk-estimator:hover {background-color: #d4ebff;}#sk-container-id-7 div.sk-parallel-item::after {content: \"\";width: 100%;border-bottom: 1px solid gray;flex-grow: 1;}#sk-container-id-7 div.sk-label:hover label.sk-toggleable__label {background-color: #d4ebff;}#sk-container-id-7 div.sk-serial::before {content: \"\";position: absolute;border-left: 1px solid gray;box-sizing: border-box;top: 0;bottom: 0;left: 50%;z-index: 0;}#sk-container-id-7 div.sk-serial {display: flex;flex-direction: column;align-items: center;background-color: white;padding-right: 0.2em;padding-left: 0.2em;position: relative;}#sk-container-id-7 div.sk-item {position: relative;z-index: 1;}#sk-container-id-7 div.sk-parallel {display: flex;align-items: stretch;justify-content: center;background-color: white;position: relative;}#sk-container-id-7 div.sk-item::before, #sk-container-id-7 div.sk-parallel-item::before {content: \"\";position: absolute;border-left: 1px solid gray;box-sizing: border-box;top: 0;bottom: 0;left: 50%;z-index: -1;}#sk-container-id-7 div.sk-parallel-item {display: flex;flex-direction: column;z-index: 1;position: relative;background-color: white;}#sk-container-id-7 div.sk-parallel-item:first-child::after {align-self: flex-end;width: 50%;}#sk-container-id-7 div.sk-parallel-item:last-child::after {align-self: flex-start;width: 50%;}#sk-container-id-7 div.sk-parallel-item:only-child::after {width: 0;}#sk-container-id-7 div.sk-dashed-wrapped {border: 1px dashed gray;margin: 0 0.4em 0.5em 0.4em;box-sizing: border-box;padding-bottom: 0.4em;background-color: white;}#sk-container-id-7 div.sk-label label {font-family: monospace;font-weight: bold;display: inline-block;line-height: 1.2em;}#sk-container-id-7 div.sk-label-container {text-align: center;}#sk-container-id-7 div.sk-container {/* jupyter's `normalize.less` sets `[hidden] { display: none; }` but bootstrap.min.css set `[hidden] { display: none !important; }` so we also need the `!important` here to be able to override the default hidden behavior on the sphinx rendered scikit-learn.org. See: https://github.com/scikit-learn/scikit-learn/issues/21755 */display: inline-block !important;position: relative;}#sk-container-id-7 div.sk-text-repr-fallback {display: none;}</style><div id=\"sk-container-id-7\" class=\"sk-top-container\"><div class=\"sk-text-repr-fallback\"><pre>OrdinalEncoder(handle_unknown=&#x27;use_encoded_value&#x27;, unknown_value=-1)</pre><b>In a Jupyter environment, please rerun this cell to show the HTML representation or trust the notebook. <br />On GitHub, the HTML representation is unable to render, please try loading this page with nbviewer.org.</b></div><div class=\"sk-container\" hidden><div class=\"sk-item\"><div class=\"sk-estimator sk-toggleable\"><input class=\"sk-toggleable__control sk-hidden--visually\" id=\"sk-estimator-id-7\" type=\"checkbox\" checked><label for=\"sk-estimator-id-7\" class=\"sk-toggleable__label sk-toggleable__label-arrow\">OrdinalEncoder</label><div class=\"sk-toggleable__content\"><pre>OrdinalEncoder(handle_unknown=&#x27;use_encoded_value&#x27;, unknown_value=-1)</pre></div></div></div></div></div>"
     },
     "execution_count": 561,
     "metadata": {},
     "output_type": "execute_result"
    }
   ],
   "source": [
    "encoder = OrdinalEncoder(handle_unknown='use_encoded_value', unknown_value=-1)\n",
    "encoder.fit(features_train[categorical_columns])"
   ],
   "metadata": {
    "collapsed": false
   }
  },
  {
   "cell_type": "code",
   "execution_count": 507,
   "outputs": [],
   "source": [
    "features_train_encoded = pd.DataFrame(\n",
    "    encoder.transform(features_train[categorical_columns]), # .toarray()\n",
    "    columns=encoder.get_feature_names_out(categorical_columns),\n",
    ")\n",
    "features_train = pd.concat((features_train[numeric_columns], features_train_encoded), axis=1)"
   ],
   "metadata": {
    "collapsed": false
   }
  },
  {
   "cell_type": "code",
   "execution_count": 508,
   "outputs": [
    {
     "data": {
      "text/plain": "   year  condition  odometer  saledate_week_day  saledate_month  \\\n0  2011        4.0  111041.0                  1               6   \n1  2014        3.0   31034.0                  2               2   \n2  2012        2.0   35619.0                  2               6   \n3  2003        2.0  131301.0                  2               6   \n4  2007        2.0  127709.0                  1               2   \n\n   saledate_year  car_age  make  model    trim  body  transmission  state  \\\n0           2015        4  16.0  242.0  1410.0   6.0           1.0   12.0   \n1           2015        1  16.0  321.0  1379.0   5.0           1.0   15.0   \n2           2015        3  38.0  667.0    69.0   5.0           1.0   19.0   \n3           2015       12  20.0  383.0   581.0   6.0           1.0   33.0   \n4           2015        8  16.0  321.0  1410.0   5.0           1.0   12.0   \n\n   color  interior  \n0    2.0       2.0  \n1    2.0       2.0  \n2    2.0       2.0  \n3    7.0       1.0  \n4    2.0       2.0  ",
      "text/html": "<div>\n<style scoped>\n    .dataframe tbody tr th:only-of-type {\n        vertical-align: middle;\n    }\n\n    .dataframe tbody tr th {\n        vertical-align: top;\n    }\n\n    .dataframe thead th {\n        text-align: right;\n    }\n</style>\n<table border=\"1\" class=\"dataframe\">\n  <thead>\n    <tr style=\"text-align: right;\">\n      <th></th>\n      <th>year</th>\n      <th>condition</th>\n      <th>odometer</th>\n      <th>saledate_week_day</th>\n      <th>saledate_month</th>\n      <th>saledate_year</th>\n      <th>car_age</th>\n      <th>make</th>\n      <th>model</th>\n      <th>trim</th>\n      <th>body</th>\n      <th>transmission</th>\n      <th>state</th>\n      <th>color</th>\n      <th>interior</th>\n    </tr>\n  </thead>\n  <tbody>\n    <tr>\n      <th>0</th>\n      <td>2011</td>\n      <td>4.0</td>\n      <td>111041.0</td>\n      <td>1</td>\n      <td>6</td>\n      <td>2015</td>\n      <td>4</td>\n      <td>16.0</td>\n      <td>242.0</td>\n      <td>1410.0</td>\n      <td>6.0</td>\n      <td>1.0</td>\n      <td>12.0</td>\n      <td>2.0</td>\n      <td>2.0</td>\n    </tr>\n    <tr>\n      <th>1</th>\n      <td>2014</td>\n      <td>3.0</td>\n      <td>31034.0</td>\n      <td>2</td>\n      <td>2</td>\n      <td>2015</td>\n      <td>1</td>\n      <td>16.0</td>\n      <td>321.0</td>\n      <td>1379.0</td>\n      <td>5.0</td>\n      <td>1.0</td>\n      <td>15.0</td>\n      <td>2.0</td>\n      <td>2.0</td>\n    </tr>\n    <tr>\n      <th>2</th>\n      <td>2012</td>\n      <td>2.0</td>\n      <td>35619.0</td>\n      <td>2</td>\n      <td>6</td>\n      <td>2015</td>\n      <td>3</td>\n      <td>38.0</td>\n      <td>667.0</td>\n      <td>69.0</td>\n      <td>5.0</td>\n      <td>1.0</td>\n      <td>19.0</td>\n      <td>2.0</td>\n      <td>2.0</td>\n    </tr>\n    <tr>\n      <th>3</th>\n      <td>2003</td>\n      <td>2.0</td>\n      <td>131301.0</td>\n      <td>2</td>\n      <td>6</td>\n      <td>2015</td>\n      <td>12</td>\n      <td>20.0</td>\n      <td>383.0</td>\n      <td>581.0</td>\n      <td>6.0</td>\n      <td>1.0</td>\n      <td>33.0</td>\n      <td>7.0</td>\n      <td>1.0</td>\n    </tr>\n    <tr>\n      <th>4</th>\n      <td>2007</td>\n      <td>2.0</td>\n      <td>127709.0</td>\n      <td>1</td>\n      <td>2</td>\n      <td>2015</td>\n      <td>8</td>\n      <td>16.0</td>\n      <td>321.0</td>\n      <td>1410.0</td>\n      <td>5.0</td>\n      <td>1.0</td>\n      <td>12.0</td>\n      <td>2.0</td>\n      <td>2.0</td>\n    </tr>\n  </tbody>\n</table>\n</div>"
     },
     "execution_count": 508,
     "metadata": {},
     "output_type": "execute_result"
    }
   ],
   "source": [
    "features_train.head()"
   ],
   "metadata": {
    "collapsed": false
   }
  },
  {
   "cell_type": "code",
   "execution_count": 563,
   "outputs": [],
   "source": [
    "features_test_encoded = pd.DataFrame(\n",
    "    encoder.transform(features_test[categorical_columns]), # .toarray()\n",
    "    columns=encoder.get_feature_names_out(categorical_columns),\n",
    ")\n",
    "features_test = pd.concat((features_test[numeric_columns], features_test_encoded), axis=1)"
   ],
   "metadata": {
    "collapsed": false
   }
  },
  {
   "cell_type": "code",
   "execution_count": 564,
   "outputs": [
    {
     "data": {
      "text/plain": "   year  condition  odometer  saledate_week_day  saledate_month  \\\n0  2005        4.0  116970.0                  2               1   \n1  2014        3.0    6286.0                  4               2   \n2  2013        2.0   11831.0                  1               2   \n3  2013        2.0   57105.0                  4               3   \n4  2013        2.0   31083.0                  2               6   \n5  2003        2.0  104155.0                  1               6   \n6  2013        3.0   30669.0                  1               3   \n7  2013        4.0   87862.0                  1               2   \n8  2011        1.0   47028.0                  2               2   \n9  2007        1.0  191211.0                  1               2   \n\n   saledate_year  car_age  make  model    trim  body  transmission  state  \\\n0           2015       10   7.0  203.0   581.0   5.0           1.0    3.0   \n1           2015        1  18.0  661.0   177.0   7.0           0.0   28.0   \n2           2015        2  38.0  513.0  1324.0   6.0           1.0   24.0   \n3           2015        2   8.0  397.0  1124.0   5.0           1.0    5.0   \n4           2015        2  38.0  742.0  1563.0   4.0           1.0   32.0   \n5           2015       12  53.0  540.0   951.0   8.0           1.0   17.0   \n6           2015        2  21.0  700.0   949.0   5.0           1.0    8.0   \n7           2015        2  16.0  285.0   581.0   6.0           1.0   17.0   \n8           2015        4  22.0  330.0   918.0   5.0           1.0   32.0   \n9           2015        8   8.0  723.0    47.0   6.0           1.0    6.0   \n\n   color  interior  \n0   16.0       2.0  \n1   18.0       7.0  \n2    8.0       2.0  \n3   16.0       2.0  \n4    2.0       2.0  \n5   16.0       2.0  \n6   16.0       7.0  \n7    2.0       7.0  \n8    2.0       1.0  \n9    2.0      14.0  ",
      "text/html": "<div>\n<style scoped>\n    .dataframe tbody tr th:only-of-type {\n        vertical-align: middle;\n    }\n\n    .dataframe tbody tr th {\n        vertical-align: top;\n    }\n\n    .dataframe thead th {\n        text-align: right;\n    }\n</style>\n<table border=\"1\" class=\"dataframe\">\n  <thead>\n    <tr style=\"text-align: right;\">\n      <th></th>\n      <th>year</th>\n      <th>condition</th>\n      <th>odometer</th>\n      <th>saledate_week_day</th>\n      <th>saledate_month</th>\n      <th>saledate_year</th>\n      <th>car_age</th>\n      <th>make</th>\n      <th>model</th>\n      <th>trim</th>\n      <th>body</th>\n      <th>transmission</th>\n      <th>state</th>\n      <th>color</th>\n      <th>interior</th>\n    </tr>\n  </thead>\n  <tbody>\n    <tr>\n      <th>0</th>\n      <td>2005</td>\n      <td>4.0</td>\n      <td>116970.0</td>\n      <td>2</td>\n      <td>1</td>\n      <td>2015</td>\n      <td>10</td>\n      <td>7.0</td>\n      <td>203.0</td>\n      <td>581.0</td>\n      <td>5.0</td>\n      <td>1.0</td>\n      <td>3.0</td>\n      <td>16.0</td>\n      <td>2.0</td>\n    </tr>\n    <tr>\n      <th>1</th>\n      <td>2014</td>\n      <td>3.0</td>\n      <td>6286.0</td>\n      <td>4</td>\n      <td>2</td>\n      <td>2015</td>\n      <td>1</td>\n      <td>18.0</td>\n      <td>661.0</td>\n      <td>177.0</td>\n      <td>7.0</td>\n      <td>0.0</td>\n      <td>28.0</td>\n      <td>18.0</td>\n      <td>7.0</td>\n    </tr>\n    <tr>\n      <th>2</th>\n      <td>2013</td>\n      <td>2.0</td>\n      <td>11831.0</td>\n      <td>1</td>\n      <td>2</td>\n      <td>2015</td>\n      <td>2</td>\n      <td>38.0</td>\n      <td>513.0</td>\n      <td>1324.0</td>\n      <td>6.0</td>\n      <td>1.0</td>\n      <td>24.0</td>\n      <td>8.0</td>\n      <td>2.0</td>\n    </tr>\n    <tr>\n      <th>3</th>\n      <td>2013</td>\n      <td>2.0</td>\n      <td>57105.0</td>\n      <td>4</td>\n      <td>3</td>\n      <td>2015</td>\n      <td>2</td>\n      <td>8.0</td>\n      <td>397.0</td>\n      <td>1124.0</td>\n      <td>5.0</td>\n      <td>1.0</td>\n      <td>5.0</td>\n      <td>16.0</td>\n      <td>2.0</td>\n    </tr>\n    <tr>\n      <th>4</th>\n      <td>2013</td>\n      <td>2.0</td>\n      <td>31083.0</td>\n      <td>2</td>\n      <td>6</td>\n      <td>2015</td>\n      <td>2</td>\n      <td>38.0</td>\n      <td>742.0</td>\n      <td>1563.0</td>\n      <td>4.0</td>\n      <td>1.0</td>\n      <td>32.0</td>\n      <td>2.0</td>\n      <td>2.0</td>\n    </tr>\n    <tr>\n      <th>5</th>\n      <td>2003</td>\n      <td>2.0</td>\n      <td>104155.0</td>\n      <td>1</td>\n      <td>6</td>\n      <td>2015</td>\n      <td>12</td>\n      <td>53.0</td>\n      <td>540.0</td>\n      <td>951.0</td>\n      <td>8.0</td>\n      <td>1.0</td>\n      <td>17.0</td>\n      <td>16.0</td>\n      <td>2.0</td>\n    </tr>\n    <tr>\n      <th>6</th>\n      <td>2013</td>\n      <td>3.0</td>\n      <td>30669.0</td>\n      <td>1</td>\n      <td>3</td>\n      <td>2015</td>\n      <td>2</td>\n      <td>21.0</td>\n      <td>700.0</td>\n      <td>949.0</td>\n      <td>5.0</td>\n      <td>1.0</td>\n      <td>8.0</td>\n      <td>16.0</td>\n      <td>7.0</td>\n    </tr>\n    <tr>\n      <th>7</th>\n      <td>2013</td>\n      <td>4.0</td>\n      <td>87862.0</td>\n      <td>1</td>\n      <td>2</td>\n      <td>2015</td>\n      <td>2</td>\n      <td>16.0</td>\n      <td>285.0</td>\n      <td>581.0</td>\n      <td>6.0</td>\n      <td>1.0</td>\n      <td>17.0</td>\n      <td>2.0</td>\n      <td>7.0</td>\n    </tr>\n    <tr>\n      <th>8</th>\n      <td>2011</td>\n      <td>1.0</td>\n      <td>47028.0</td>\n      <td>2</td>\n      <td>2</td>\n      <td>2015</td>\n      <td>4</td>\n      <td>22.0</td>\n      <td>330.0</td>\n      <td>918.0</td>\n      <td>5.0</td>\n      <td>1.0</td>\n      <td>32.0</td>\n      <td>2.0</td>\n      <td>1.0</td>\n    </tr>\n    <tr>\n      <th>9</th>\n      <td>2007</td>\n      <td>1.0</td>\n      <td>191211.0</td>\n      <td>1</td>\n      <td>2</td>\n      <td>2015</td>\n      <td>8</td>\n      <td>8.0</td>\n      <td>723.0</td>\n      <td>47.0</td>\n      <td>6.0</td>\n      <td>1.0</td>\n      <td>6.0</td>\n      <td>2.0</td>\n      <td>14.0</td>\n    </tr>\n  </tbody>\n</table>\n</div>"
     },
     "metadata": {},
     "output_type": "display_data"
    },
    {
     "name": "stdout",
     "output_type": "stream",
     "text": [
      "<class 'pandas.core.frame.DataFrame'>\n",
      "RangeIndex: 110058 entries, 0 to 110057\n",
      "Data columns (total 15 columns):\n",
      " #   Column             Non-Null Count   Dtype  \n",
      "---  ------             --------------   -----  \n",
      " 0   year               110058 non-null  int64  \n",
      " 1   condition          110058 non-null  Float64\n",
      " 2   odometer           110058 non-null  float64\n",
      " 3   saledate_week_day  110058 non-null  int64  \n",
      " 4   saledate_month     110058 non-null  int64  \n",
      " 5   saledate_year      110058 non-null  int64  \n",
      " 6   car_age            110058 non-null  int64  \n",
      " 7   make               110058 non-null  float64\n",
      " 8   model              110058 non-null  float64\n",
      " 9   trim               110058 non-null  float64\n",
      " 10  body               110058 non-null  float64\n",
      " 11  transmission       110058 non-null  float64\n",
      " 12  state              110058 non-null  float64\n",
      " 13  color              110058 non-null  float64\n",
      " 14  interior           110058 non-null  float64\n",
      "dtypes: Float64(1), float64(9), int64(5)\n",
      "memory usage: 12.7 MB\n"
     ]
    },
    {
     "data": {
      "text/plain": "None"
     },
     "metadata": {},
     "output_type": "display_data"
    },
    {
     "data": {
      "text/plain": "                      count          mean           std     min      50%  \\\nyear               110058.0   2010.060005       3.96019  1982.0   2012.0   \ncondition          110058.0      2.929492      1.007287     1.0      3.0   \nodometer           110058.0  68075.991622  53517.960035     1.0  51932.5   \nsaledate_week_day  110058.0       2.14287      1.044089     0.0      2.0   \nsaledate_month     110058.0      3.810518      3.241834     1.0      2.0   \nsaledate_year      110058.0   2014.902751      0.296297  2014.0   2015.0   \ncar_age            110058.0      4.842747      3.938529    -1.0      3.0   \nmake               110058.0     23.027404     14.945815    -1.0     19.0   \nmodel              110058.0    385.438024    236.984876    -1.0    330.0   \ntrim               110058.0   1044.418434    483.230212    -1.0   1118.0   \nbody               110058.0      4.854958      1.777735    -1.0      5.0   \ntransmission       110058.0      0.913246      0.377041     0.0      1.0   \nstate              110058.0     16.207945     11.538929     0.0     14.0   \ncolor              110058.0     10.347162      6.673309     0.0      8.0   \ninterior           110058.0      4.985653      4.257785     0.0      2.0   \n\n                        max  \nyear                 2015.0  \ncondition               5.0  \nodometer           999999.0  \nsaledate_week_day       6.0  \nsaledate_month         12.0  \nsaledate_year        2015.0  \ncar_age                33.0  \nmake                   54.0  \nmodel                 839.0  \ntrim                 1850.0  \nbody                    8.0  \ntransmission            2.0  \nstate                  37.0  \ncolor                  20.0  \ninterior               17.0  ",
      "text/html": "<div>\n<style scoped>\n    .dataframe tbody tr th:only-of-type {\n        vertical-align: middle;\n    }\n\n    .dataframe tbody tr th {\n        vertical-align: top;\n    }\n\n    .dataframe thead th {\n        text-align: right;\n    }\n</style>\n<table border=\"1\" class=\"dataframe\">\n  <thead>\n    <tr style=\"text-align: right;\">\n      <th></th>\n      <th>count</th>\n      <th>mean</th>\n      <th>std</th>\n      <th>min</th>\n      <th>50%</th>\n      <th>max</th>\n    </tr>\n  </thead>\n  <tbody>\n    <tr>\n      <th>year</th>\n      <td>110058.0</td>\n      <td>2010.060005</td>\n      <td>3.96019</td>\n      <td>1982.0</td>\n      <td>2012.0</td>\n      <td>2015.0</td>\n    </tr>\n    <tr>\n      <th>condition</th>\n      <td>110058.0</td>\n      <td>2.929492</td>\n      <td>1.007287</td>\n      <td>1.0</td>\n      <td>3.0</td>\n      <td>5.0</td>\n    </tr>\n    <tr>\n      <th>odometer</th>\n      <td>110058.0</td>\n      <td>68075.991622</td>\n      <td>53517.960035</td>\n      <td>1.0</td>\n      <td>51932.5</td>\n      <td>999999.0</td>\n    </tr>\n    <tr>\n      <th>saledate_week_day</th>\n      <td>110058.0</td>\n      <td>2.14287</td>\n      <td>1.044089</td>\n      <td>0.0</td>\n      <td>2.0</td>\n      <td>6.0</td>\n    </tr>\n    <tr>\n      <th>saledate_month</th>\n      <td>110058.0</td>\n      <td>3.810518</td>\n      <td>3.241834</td>\n      <td>1.0</td>\n      <td>2.0</td>\n      <td>12.0</td>\n    </tr>\n    <tr>\n      <th>saledate_year</th>\n      <td>110058.0</td>\n      <td>2014.902751</td>\n      <td>0.296297</td>\n      <td>2014.0</td>\n      <td>2015.0</td>\n      <td>2015.0</td>\n    </tr>\n    <tr>\n      <th>car_age</th>\n      <td>110058.0</td>\n      <td>4.842747</td>\n      <td>3.938529</td>\n      <td>-1.0</td>\n      <td>3.0</td>\n      <td>33.0</td>\n    </tr>\n    <tr>\n      <th>make</th>\n      <td>110058.0</td>\n      <td>23.027404</td>\n      <td>14.945815</td>\n      <td>-1.0</td>\n      <td>19.0</td>\n      <td>54.0</td>\n    </tr>\n    <tr>\n      <th>model</th>\n      <td>110058.0</td>\n      <td>385.438024</td>\n      <td>236.984876</td>\n      <td>-1.0</td>\n      <td>330.0</td>\n      <td>839.0</td>\n    </tr>\n    <tr>\n      <th>trim</th>\n      <td>110058.0</td>\n      <td>1044.418434</td>\n      <td>483.230212</td>\n      <td>-1.0</td>\n      <td>1118.0</td>\n      <td>1850.0</td>\n    </tr>\n    <tr>\n      <th>body</th>\n      <td>110058.0</td>\n      <td>4.854958</td>\n      <td>1.777735</td>\n      <td>-1.0</td>\n      <td>5.0</td>\n      <td>8.0</td>\n    </tr>\n    <tr>\n      <th>transmission</th>\n      <td>110058.0</td>\n      <td>0.913246</td>\n      <td>0.377041</td>\n      <td>0.0</td>\n      <td>1.0</td>\n      <td>2.0</td>\n    </tr>\n    <tr>\n      <th>state</th>\n      <td>110058.0</td>\n      <td>16.207945</td>\n      <td>11.538929</td>\n      <td>0.0</td>\n      <td>14.0</td>\n      <td>37.0</td>\n    </tr>\n    <tr>\n      <th>color</th>\n      <td>110058.0</td>\n      <td>10.347162</td>\n      <td>6.673309</td>\n      <td>0.0</td>\n      <td>8.0</td>\n      <td>20.0</td>\n    </tr>\n    <tr>\n      <th>interior</th>\n      <td>110058.0</td>\n      <td>4.985653</td>\n      <td>4.257785</td>\n      <td>0.0</td>\n      <td>2.0</td>\n      <td>17.0</td>\n    </tr>\n  </tbody>\n</table>\n</div>"
     },
     "metadata": {},
     "output_type": "display_data"
    },
    {
     "name": "stdout",
     "output_type": "stream",
     "text": [
      "Количество дублированных строк: 0\n"
     ]
    }
   ],
   "source": [
    "describe_dataframe(features_test)"
   ],
   "metadata": {
    "collapsed": false
   }
  },
  {
   "cell_type": "code",
   "execution_count": 509,
   "outputs": [],
   "source": [
    "scaler = StandardScaler()\n",
    "scaler.fit(features_train)\n",
    "\n",
    "features_train = pd.DataFrame(\n",
    "    scaler.transform(features_train),\n",
    "    columns=features_train.columns,\n",
    "    index=features_train.index)"
   ],
   "metadata": {
    "collapsed": false
   }
  },
  {
   "cell_type": "code",
   "execution_count": 510,
   "outputs": [
    {
     "data": {
      "text/plain": "       year  condition  odometer  saledate_week_day  saledate_month  \\\n0  0.241305   1.059178  0.797397          -1.089094        0.672419   \n1  0.995464   0.066029 -0.696936          -0.131164       -0.560021   \n2  0.492692  -0.927120 -0.611299          -0.131164        0.672419   \n3 -1.769785  -0.927120  1.175804          -0.131164        0.672419   \n4 -0.764240  -0.927120  1.108715          -1.089094       -0.560021   \n5  0.744078  -0.927120 -0.998391           0.826766        0.364309   \n6 -0.010081   0.066029  0.863628          -2.047024       -0.868131   \n7  0.744078   1.059178 -0.785860          -1.089094       -0.560021   \n8 -2.523944  -1.920269  2.134391           0.826766       -0.868131   \n9 -1.267013  -1.920269  1.513177          -1.089094        0.672419   \n\n   saledate_year   car_age      make     model      trim      body  \\\n0       0.328663 -0.218090 -0.527942 -0.605503  0.753410  0.681573   \n1       0.328663 -0.976742 -0.527942 -0.272387  0.689375  0.036378   \n2       0.328663 -0.470974  0.965347  1.186576 -2.016637  0.036378   \n3       0.328663  1.804982 -0.256435 -0.010954 -0.959020  0.681573   \n4       0.328663  0.793446 -0.527942 -0.272387  0.753410  0.036378   \n5       0.328663 -0.723858  0.422333  0.473961 -0.959020  0.036378   \n6       0.328663  0.034794  1.168977 -0.175404 -1.465106 -1.254011   \n7       0.328663 -0.723858 -0.527942 -0.479003  0.689375  0.681573   \n8       0.328663  2.563634 -0.188558 -0.588636 -0.198858  0.036378   \n9       0.328663  1.299214 -0.527942 -0.280820  0.110991  1.971961   \n\n   transmission     state     color  interior  \n0      0.228591 -0.361429 -1.258869 -0.705233  \n1      0.228591 -0.101577 -1.258869 -0.705233  \n2      0.228591  0.244892 -1.258869 -0.705233  \n3      0.228591  1.457534 -0.508241 -0.940031  \n4      0.228591 -0.361429 -1.258869 -0.705233  \n5      0.228591 -0.274811 -1.258869 -0.705233  \n6      0.228591  0.071658  0.842889 -0.705233  \n7      0.228591 -0.967750 -1.108743  0.468753  \n8      0.228591  0.677979 -1.258869  2.112334  \n9      0.228591  0.677979 -1.258869  2.112334  ",
      "text/html": "<div>\n<style scoped>\n    .dataframe tbody tr th:only-of-type {\n        vertical-align: middle;\n    }\n\n    .dataframe tbody tr th {\n        vertical-align: top;\n    }\n\n    .dataframe thead th {\n        text-align: right;\n    }\n</style>\n<table border=\"1\" class=\"dataframe\">\n  <thead>\n    <tr style=\"text-align: right;\">\n      <th></th>\n      <th>year</th>\n      <th>condition</th>\n      <th>odometer</th>\n      <th>saledate_week_day</th>\n      <th>saledate_month</th>\n      <th>saledate_year</th>\n      <th>car_age</th>\n      <th>make</th>\n      <th>model</th>\n      <th>trim</th>\n      <th>body</th>\n      <th>transmission</th>\n      <th>state</th>\n      <th>color</th>\n      <th>interior</th>\n    </tr>\n  </thead>\n  <tbody>\n    <tr>\n      <th>0</th>\n      <td>0.241305</td>\n      <td>1.059178</td>\n      <td>0.797397</td>\n      <td>-1.089094</td>\n      <td>0.672419</td>\n      <td>0.328663</td>\n      <td>-0.218090</td>\n      <td>-0.527942</td>\n      <td>-0.605503</td>\n      <td>0.753410</td>\n      <td>0.681573</td>\n      <td>0.228591</td>\n      <td>-0.361429</td>\n      <td>-1.258869</td>\n      <td>-0.705233</td>\n    </tr>\n    <tr>\n      <th>1</th>\n      <td>0.995464</td>\n      <td>0.066029</td>\n      <td>-0.696936</td>\n      <td>-0.131164</td>\n      <td>-0.560021</td>\n      <td>0.328663</td>\n      <td>-0.976742</td>\n      <td>-0.527942</td>\n      <td>-0.272387</td>\n      <td>0.689375</td>\n      <td>0.036378</td>\n      <td>0.228591</td>\n      <td>-0.101577</td>\n      <td>-1.258869</td>\n      <td>-0.705233</td>\n    </tr>\n    <tr>\n      <th>2</th>\n      <td>0.492692</td>\n      <td>-0.927120</td>\n      <td>-0.611299</td>\n      <td>-0.131164</td>\n      <td>0.672419</td>\n      <td>0.328663</td>\n      <td>-0.470974</td>\n      <td>0.965347</td>\n      <td>1.186576</td>\n      <td>-2.016637</td>\n      <td>0.036378</td>\n      <td>0.228591</td>\n      <td>0.244892</td>\n      <td>-1.258869</td>\n      <td>-0.705233</td>\n    </tr>\n    <tr>\n      <th>3</th>\n      <td>-1.769785</td>\n      <td>-0.927120</td>\n      <td>1.175804</td>\n      <td>-0.131164</td>\n      <td>0.672419</td>\n      <td>0.328663</td>\n      <td>1.804982</td>\n      <td>-0.256435</td>\n      <td>-0.010954</td>\n      <td>-0.959020</td>\n      <td>0.681573</td>\n      <td>0.228591</td>\n      <td>1.457534</td>\n      <td>-0.508241</td>\n      <td>-0.940031</td>\n    </tr>\n    <tr>\n      <th>4</th>\n      <td>-0.764240</td>\n      <td>-0.927120</td>\n      <td>1.108715</td>\n      <td>-1.089094</td>\n      <td>-0.560021</td>\n      <td>0.328663</td>\n      <td>0.793446</td>\n      <td>-0.527942</td>\n      <td>-0.272387</td>\n      <td>0.753410</td>\n      <td>0.036378</td>\n      <td>0.228591</td>\n      <td>-0.361429</td>\n      <td>-1.258869</td>\n      <td>-0.705233</td>\n    </tr>\n    <tr>\n      <th>5</th>\n      <td>0.744078</td>\n      <td>-0.927120</td>\n      <td>-0.998391</td>\n      <td>0.826766</td>\n      <td>0.364309</td>\n      <td>0.328663</td>\n      <td>-0.723858</td>\n      <td>0.422333</td>\n      <td>0.473961</td>\n      <td>-0.959020</td>\n      <td>0.036378</td>\n      <td>0.228591</td>\n      <td>-0.274811</td>\n      <td>-1.258869</td>\n      <td>-0.705233</td>\n    </tr>\n    <tr>\n      <th>6</th>\n      <td>-0.010081</td>\n      <td>0.066029</td>\n      <td>0.863628</td>\n      <td>-2.047024</td>\n      <td>-0.868131</td>\n      <td>0.328663</td>\n      <td>0.034794</td>\n      <td>1.168977</td>\n      <td>-0.175404</td>\n      <td>-1.465106</td>\n      <td>-1.254011</td>\n      <td>0.228591</td>\n      <td>0.071658</td>\n      <td>0.842889</td>\n      <td>-0.705233</td>\n    </tr>\n    <tr>\n      <th>7</th>\n      <td>0.744078</td>\n      <td>1.059178</td>\n      <td>-0.785860</td>\n      <td>-1.089094</td>\n      <td>-0.560021</td>\n      <td>0.328663</td>\n      <td>-0.723858</td>\n      <td>-0.527942</td>\n      <td>-0.479003</td>\n      <td>0.689375</td>\n      <td>0.681573</td>\n      <td>0.228591</td>\n      <td>-0.967750</td>\n      <td>-1.108743</td>\n      <td>0.468753</td>\n    </tr>\n    <tr>\n      <th>8</th>\n      <td>-2.523944</td>\n      <td>-1.920269</td>\n      <td>2.134391</td>\n      <td>0.826766</td>\n      <td>-0.868131</td>\n      <td>0.328663</td>\n      <td>2.563634</td>\n      <td>-0.188558</td>\n      <td>-0.588636</td>\n      <td>-0.198858</td>\n      <td>0.036378</td>\n      <td>0.228591</td>\n      <td>0.677979</td>\n      <td>-1.258869</td>\n      <td>2.112334</td>\n    </tr>\n    <tr>\n      <th>9</th>\n      <td>-1.267013</td>\n      <td>-1.920269</td>\n      <td>1.513177</td>\n      <td>-1.089094</td>\n      <td>0.672419</td>\n      <td>0.328663</td>\n      <td>1.299214</td>\n      <td>-0.527942</td>\n      <td>-0.280820</td>\n      <td>0.110991</td>\n      <td>1.971961</td>\n      <td>0.228591</td>\n      <td>0.677979</td>\n      <td>-1.258869</td>\n      <td>2.112334</td>\n    </tr>\n  </tbody>\n</table>\n</div>"
     },
     "metadata": {},
     "output_type": "display_data"
    },
    {
     "name": "stdout",
     "output_type": "stream",
     "text": [
      "<class 'pandas.core.frame.DataFrame'>\n",
      "RangeIndex: 440236 entries, 0 to 440235\n",
      "Data columns (total 15 columns):\n",
      " #   Column             Non-Null Count   Dtype  \n",
      "---  ------             --------------   -----  \n",
      " 0   year               440236 non-null  float64\n",
      " 1   condition          440236 non-null  float64\n",
      " 2   odometer           440236 non-null  float64\n",
      " 3   saledate_week_day  440236 non-null  float64\n",
      " 4   saledate_month     440236 non-null  float64\n",
      " 5   saledate_year      440236 non-null  float64\n",
      " 6   car_age            440236 non-null  float64\n",
      " 7   make               440236 non-null  float64\n",
      " 8   model              440236 non-null  float64\n",
      " 9   trim               440236 non-null  float64\n",
      " 10  body               440236 non-null  float64\n",
      " 11  transmission       440236 non-null  float64\n",
      " 12  state              440236 non-null  float64\n",
      " 13  color              440236 non-null  float64\n",
      " 14  interior           440236 non-null  float64\n",
      "dtypes: float64(15)\n",
      "memory usage: 50.4 MB\n"
     ]
    },
    {
     "data": {
      "text/plain": "None"
     },
     "metadata": {},
     "output_type": "display_data"
    },
    {
     "data": {
      "text/plain": "                      count          mean       std       min       50%  \\\nyear               440236.0 -2.548067e-14  1.000001 -7.048899  0.492692   \ncondition          440236.0 -8.244333e-17  1.000001 -1.920269  0.066029   \nodometer           440236.0  1.329939e-16  1.000001 -1.276556 -0.303400   \nsaledate_week_day  440236.0  1.131417e-16  1.000001 -2.047024 -0.131164   \nsaledate_month     440236.0 -4.480476e-17  1.000001 -0.868131 -0.560021   \nsaledate_year      440236.0 -2.022082e-13  1.000001 -3.042632  0.328663   \ncar_age            440236.0 -1.096312e-16  1.000001 -1.482510 -0.470974   \nmake               440236.0  6.518963e-17  1.000001 -1.613969 -0.324311   \nmodel              440236.0  2.441988e-17  1.000001 -1.625934 -0.234437   \ntrim               440236.0 -2.056241e-16  1.000001 -2.159167  0.150238   \nbody               440236.0 -6.017008e-17  1.000001 -3.189594  0.036378   \ntransmission       440236.0  5.678067e-17  1.000001 -2.437424  0.228591   \nstate              440236.0  8.589730e-17  1.000001 -1.400836 -0.188194   \ncolor              440236.0 -5.466632e-17  1.000001 -1.559120 -0.358116   \ninterior           440236.0  6.814326e-17  1.000001 -1.174828 -0.705233   \n\n                         max  \nyear                1.246851  \ncondition           2.052328  \nodometer           17.400938  \nsaledate_week_day   3.700556  \nsaledate_month      2.521078  \nsaledate_year       0.328663  \ncar_age             7.115546  \nmake                2.051374  \nmodel               1.911841  \ntrim                1.662300  \nbody                1.971961  \ntransmission        2.894606  \nstate               1.804003  \ncolor               1.443391  \ninterior            2.816726  ",
      "text/html": "<div>\n<style scoped>\n    .dataframe tbody tr th:only-of-type {\n        vertical-align: middle;\n    }\n\n    .dataframe tbody tr th {\n        vertical-align: top;\n    }\n\n    .dataframe thead th {\n        text-align: right;\n    }\n</style>\n<table border=\"1\" class=\"dataframe\">\n  <thead>\n    <tr style=\"text-align: right;\">\n      <th></th>\n      <th>count</th>\n      <th>mean</th>\n      <th>std</th>\n      <th>min</th>\n      <th>50%</th>\n      <th>max</th>\n    </tr>\n  </thead>\n  <tbody>\n    <tr>\n      <th>year</th>\n      <td>440236.0</td>\n      <td>-2.548067e-14</td>\n      <td>1.000001</td>\n      <td>-7.048899</td>\n      <td>0.492692</td>\n      <td>1.246851</td>\n    </tr>\n    <tr>\n      <th>condition</th>\n      <td>440236.0</td>\n      <td>-8.244333e-17</td>\n      <td>1.000001</td>\n      <td>-1.920269</td>\n      <td>0.066029</td>\n      <td>2.052328</td>\n    </tr>\n    <tr>\n      <th>odometer</th>\n      <td>440236.0</td>\n      <td>1.329939e-16</td>\n      <td>1.000001</td>\n      <td>-1.276556</td>\n      <td>-0.303400</td>\n      <td>17.400938</td>\n    </tr>\n    <tr>\n      <th>saledate_week_day</th>\n      <td>440236.0</td>\n      <td>1.131417e-16</td>\n      <td>1.000001</td>\n      <td>-2.047024</td>\n      <td>-0.131164</td>\n      <td>3.700556</td>\n    </tr>\n    <tr>\n      <th>saledate_month</th>\n      <td>440236.0</td>\n      <td>-4.480476e-17</td>\n      <td>1.000001</td>\n      <td>-0.868131</td>\n      <td>-0.560021</td>\n      <td>2.521078</td>\n    </tr>\n    <tr>\n      <th>saledate_year</th>\n      <td>440236.0</td>\n      <td>-2.022082e-13</td>\n      <td>1.000001</td>\n      <td>-3.042632</td>\n      <td>0.328663</td>\n      <td>0.328663</td>\n    </tr>\n    <tr>\n      <th>car_age</th>\n      <td>440236.0</td>\n      <td>-1.096312e-16</td>\n      <td>1.000001</td>\n      <td>-1.482510</td>\n      <td>-0.470974</td>\n      <td>7.115546</td>\n    </tr>\n    <tr>\n      <th>make</th>\n      <td>440236.0</td>\n      <td>6.518963e-17</td>\n      <td>1.000001</td>\n      <td>-1.613969</td>\n      <td>-0.324311</td>\n      <td>2.051374</td>\n    </tr>\n    <tr>\n      <th>model</th>\n      <td>440236.0</td>\n      <td>2.441988e-17</td>\n      <td>1.000001</td>\n      <td>-1.625934</td>\n      <td>-0.234437</td>\n      <td>1.911841</td>\n    </tr>\n    <tr>\n      <th>trim</th>\n      <td>440236.0</td>\n      <td>-2.056241e-16</td>\n      <td>1.000001</td>\n      <td>-2.159167</td>\n      <td>0.150238</td>\n      <td>1.662300</td>\n    </tr>\n    <tr>\n      <th>body</th>\n      <td>440236.0</td>\n      <td>-6.017008e-17</td>\n      <td>1.000001</td>\n      <td>-3.189594</td>\n      <td>0.036378</td>\n      <td>1.971961</td>\n    </tr>\n    <tr>\n      <th>transmission</th>\n      <td>440236.0</td>\n      <td>5.678067e-17</td>\n      <td>1.000001</td>\n      <td>-2.437424</td>\n      <td>0.228591</td>\n      <td>2.894606</td>\n    </tr>\n    <tr>\n      <th>state</th>\n      <td>440236.0</td>\n      <td>8.589730e-17</td>\n      <td>1.000001</td>\n      <td>-1.400836</td>\n      <td>-0.188194</td>\n      <td>1.804003</td>\n    </tr>\n    <tr>\n      <th>color</th>\n      <td>440236.0</td>\n      <td>-5.466632e-17</td>\n      <td>1.000001</td>\n      <td>-1.559120</td>\n      <td>-0.358116</td>\n      <td>1.443391</td>\n    </tr>\n    <tr>\n      <th>interior</th>\n      <td>440236.0</td>\n      <td>6.814326e-17</td>\n      <td>1.000001</td>\n      <td>-1.174828</td>\n      <td>-0.705233</td>\n      <td>2.816726</td>\n    </tr>\n  </tbody>\n</table>\n</div>"
     },
     "metadata": {},
     "output_type": "display_data"
    },
    {
     "name": "stdout",
     "output_type": "stream",
     "text": [
      "Количество дублированных строк: 0\n"
     ]
    }
   ],
   "source": [
    "describe_dataframe(features_train)"
   ],
   "metadata": {
    "collapsed": false
   }
  },
  {
   "cell_type": "code",
   "execution_count": 565,
   "outputs": [],
   "source": [
    "features_test = pd.DataFrame(\n",
    "    scaler.transform(features_test),\n",
    "    columns=features_test.columns,\n",
    "    index=features_test.index)"
   ],
   "metadata": {
    "collapsed": false
   }
  },
  {
   "cell_type": "code",
   "execution_count": 566,
   "outputs": [
    {
     "data": {
      "text/plain": "       year  condition  odometer  saledate_week_day  saledate_month  \\\n0 -1.267013   1.059178  0.908137          -0.131164       -0.868131   \n1  0.995464   0.066029 -1.159167           1.784696       -0.560021   \n2  0.744078  -0.927120 -1.055600          -1.089094       -0.560021   \n3  0.744078  -0.927120 -0.209994           1.784696       -0.251911   \n4  0.744078  -0.927120 -0.696021          -0.131164        0.672419   \n5 -1.769785  -0.927120  0.668784          -1.089094        0.672419   \n6  0.744078   0.066029 -0.703753          -1.089094       -0.251911   \n7  0.744078   1.059178  0.364471          -1.089094       -0.560021   \n8  0.241305  -1.920269 -0.398207          -0.131164       -0.560021   \n9 -0.764240  -1.920269  2.294775          -1.089094       -0.560021   \n\n   saledate_year   car_age      make     model      trim      body  \\\n0       0.328663  1.299214 -1.138832 -0.769952 -0.959020  0.036378   \n1       0.328663 -0.976742 -0.392188  1.161276 -1.793545  1.326767   \n2       0.328663 -0.723858  0.965347  0.537211  0.575764  0.681573   \n3       0.328663 -0.723858 -1.070956  0.048079  0.162632  0.036378   \n4       0.328663 -0.723858  0.965347  1.502825  1.069456 -0.608816   \n5       0.328663  1.804982  1.983498  0.651061 -0.194727  1.971961   \n6       0.328663 -0.723858 -0.188558  1.325726 -0.198858  0.036378   \n7       0.328663 -0.723858 -0.527942 -0.424187 -0.959020  0.681573   \n8       0.328663 -0.218090 -0.120681 -0.234437 -0.262893  0.036378   \n9       0.328663  0.793446 -1.070956  1.422709 -2.062081  0.681573   \n\n   transmission     state     color  interior  \n0      0.228591 -1.140984  0.842889 -0.705233  \n1     -2.437424  1.024448  1.143140  0.468753  \n2      0.228591  0.677979 -0.358116 -0.705233  \n3      0.228591 -0.967750  0.842889 -0.705233  \n4      0.228591  1.370917 -1.258869 -0.705233  \n5      0.228591  0.071658  0.842889 -0.705233  \n6      0.228591 -0.707898  0.842889  0.468753  \n7      0.228591  0.071658 -1.258869  0.468753  \n8      0.228591  1.370917 -1.258869 -0.940031  \n9      0.228591 -0.881132 -1.258869  2.112334  ",
      "text/html": "<div>\n<style scoped>\n    .dataframe tbody tr th:only-of-type {\n        vertical-align: middle;\n    }\n\n    .dataframe tbody tr th {\n        vertical-align: top;\n    }\n\n    .dataframe thead th {\n        text-align: right;\n    }\n</style>\n<table border=\"1\" class=\"dataframe\">\n  <thead>\n    <tr style=\"text-align: right;\">\n      <th></th>\n      <th>year</th>\n      <th>condition</th>\n      <th>odometer</th>\n      <th>saledate_week_day</th>\n      <th>saledate_month</th>\n      <th>saledate_year</th>\n      <th>car_age</th>\n      <th>make</th>\n      <th>model</th>\n      <th>trim</th>\n      <th>body</th>\n      <th>transmission</th>\n      <th>state</th>\n      <th>color</th>\n      <th>interior</th>\n    </tr>\n  </thead>\n  <tbody>\n    <tr>\n      <th>0</th>\n      <td>-1.267013</td>\n      <td>1.059178</td>\n      <td>0.908137</td>\n      <td>-0.131164</td>\n      <td>-0.868131</td>\n      <td>0.328663</td>\n      <td>1.299214</td>\n      <td>-1.138832</td>\n      <td>-0.769952</td>\n      <td>-0.959020</td>\n      <td>0.036378</td>\n      <td>0.228591</td>\n      <td>-1.140984</td>\n      <td>0.842889</td>\n      <td>-0.705233</td>\n    </tr>\n    <tr>\n      <th>1</th>\n      <td>0.995464</td>\n      <td>0.066029</td>\n      <td>-1.159167</td>\n      <td>1.784696</td>\n      <td>-0.560021</td>\n      <td>0.328663</td>\n      <td>-0.976742</td>\n      <td>-0.392188</td>\n      <td>1.161276</td>\n      <td>-1.793545</td>\n      <td>1.326767</td>\n      <td>-2.437424</td>\n      <td>1.024448</td>\n      <td>1.143140</td>\n      <td>0.468753</td>\n    </tr>\n    <tr>\n      <th>2</th>\n      <td>0.744078</td>\n      <td>-0.927120</td>\n      <td>-1.055600</td>\n      <td>-1.089094</td>\n      <td>-0.560021</td>\n      <td>0.328663</td>\n      <td>-0.723858</td>\n      <td>0.965347</td>\n      <td>0.537211</td>\n      <td>0.575764</td>\n      <td>0.681573</td>\n      <td>0.228591</td>\n      <td>0.677979</td>\n      <td>-0.358116</td>\n      <td>-0.705233</td>\n    </tr>\n    <tr>\n      <th>3</th>\n      <td>0.744078</td>\n      <td>-0.927120</td>\n      <td>-0.209994</td>\n      <td>1.784696</td>\n      <td>-0.251911</td>\n      <td>0.328663</td>\n      <td>-0.723858</td>\n      <td>-1.070956</td>\n      <td>0.048079</td>\n      <td>0.162632</td>\n      <td>0.036378</td>\n      <td>0.228591</td>\n      <td>-0.967750</td>\n      <td>0.842889</td>\n      <td>-0.705233</td>\n    </tr>\n    <tr>\n      <th>4</th>\n      <td>0.744078</td>\n      <td>-0.927120</td>\n      <td>-0.696021</td>\n      <td>-0.131164</td>\n      <td>0.672419</td>\n      <td>0.328663</td>\n      <td>-0.723858</td>\n      <td>0.965347</td>\n      <td>1.502825</td>\n      <td>1.069456</td>\n      <td>-0.608816</td>\n      <td>0.228591</td>\n      <td>1.370917</td>\n      <td>-1.258869</td>\n      <td>-0.705233</td>\n    </tr>\n    <tr>\n      <th>5</th>\n      <td>-1.769785</td>\n      <td>-0.927120</td>\n      <td>0.668784</td>\n      <td>-1.089094</td>\n      <td>0.672419</td>\n      <td>0.328663</td>\n      <td>1.804982</td>\n      <td>1.983498</td>\n      <td>0.651061</td>\n      <td>-0.194727</td>\n      <td>1.971961</td>\n      <td>0.228591</td>\n      <td>0.071658</td>\n      <td>0.842889</td>\n      <td>-0.705233</td>\n    </tr>\n    <tr>\n      <th>6</th>\n      <td>0.744078</td>\n      <td>0.066029</td>\n      <td>-0.703753</td>\n      <td>-1.089094</td>\n      <td>-0.251911</td>\n      <td>0.328663</td>\n      <td>-0.723858</td>\n      <td>-0.188558</td>\n      <td>1.325726</td>\n      <td>-0.198858</td>\n      <td>0.036378</td>\n      <td>0.228591</td>\n      <td>-0.707898</td>\n      <td>0.842889</td>\n      <td>0.468753</td>\n    </tr>\n    <tr>\n      <th>7</th>\n      <td>0.744078</td>\n      <td>1.059178</td>\n      <td>0.364471</td>\n      <td>-1.089094</td>\n      <td>-0.560021</td>\n      <td>0.328663</td>\n      <td>-0.723858</td>\n      <td>-0.527942</td>\n      <td>-0.424187</td>\n      <td>-0.959020</td>\n      <td>0.681573</td>\n      <td>0.228591</td>\n      <td>0.071658</td>\n      <td>-1.258869</td>\n      <td>0.468753</td>\n    </tr>\n    <tr>\n      <th>8</th>\n      <td>0.241305</td>\n      <td>-1.920269</td>\n      <td>-0.398207</td>\n      <td>-0.131164</td>\n      <td>-0.560021</td>\n      <td>0.328663</td>\n      <td>-0.218090</td>\n      <td>-0.120681</td>\n      <td>-0.234437</td>\n      <td>-0.262893</td>\n      <td>0.036378</td>\n      <td>0.228591</td>\n      <td>1.370917</td>\n      <td>-1.258869</td>\n      <td>-0.940031</td>\n    </tr>\n    <tr>\n      <th>9</th>\n      <td>-0.764240</td>\n      <td>-1.920269</td>\n      <td>2.294775</td>\n      <td>-1.089094</td>\n      <td>-0.560021</td>\n      <td>0.328663</td>\n      <td>0.793446</td>\n      <td>-1.070956</td>\n      <td>1.422709</td>\n      <td>-2.062081</td>\n      <td>0.681573</td>\n      <td>0.228591</td>\n      <td>-0.881132</td>\n      <td>-1.258869</td>\n      <td>2.112334</td>\n    </tr>\n  </tbody>\n</table>\n</div>"
     },
     "metadata": {},
     "output_type": "display_data"
    },
    {
     "name": "stdout",
     "output_type": "stream",
     "text": [
      "<class 'pandas.core.frame.DataFrame'>\n",
      "RangeIndex: 110058 entries, 0 to 110057\n",
      "Data columns (total 15 columns):\n",
      " #   Column             Non-Null Count   Dtype  \n",
      "---  ------             --------------   -----  \n",
      " 0   year               110058 non-null  float64\n",
      " 1   condition          110058 non-null  float64\n",
      " 2   odometer           110058 non-null  float64\n",
      " 3   saledate_week_day  110058 non-null  float64\n",
      " 4   saledate_month     110058 non-null  float64\n",
      " 5   saledate_year      110058 non-null  float64\n",
      " 6   car_age            110058 non-null  float64\n",
      " 7   make               110058 non-null  float64\n",
      " 8   model              110058 non-null  float64\n",
      " 9   trim               110058 non-null  float64\n",
      " 10  body               110058 non-null  float64\n",
      " 11  transmission       110058 non-null  float64\n",
      " 12  state              110058 non-null  float64\n",
      " 13  color              110058 non-null  float64\n",
      " 14  interior           110058 non-null  float64\n",
      "dtypes: float64(15)\n",
      "memory usage: 12.6 MB\n"
     ]
    },
    {
     "data": {
      "text/plain": "None"
     },
     "metadata": {},
     "output_type": "display_data"
    },
    {
     "data": {
      "text/plain": "                      count      mean       std       min       50%        max\nyear               110058.0  0.005003  0.995538 -7.048899  0.492692   1.246851\ncondition          110058.0 -0.003996  1.000386 -1.920269  0.066029   2.052328\nodometer           110058.0 -0.005083  0.999583 -1.276556 -0.306603  17.400938\nsaledate_week_day  110058.0  0.005696  1.000164 -2.047024 -0.131164   3.700556\nsaledate_month     110058.0 -0.002182  0.998841 -0.868131 -0.560021   2.521078\nsaledate_year      110058.0  0.000809  0.998906 -3.042632  0.328663   0.328663\ncar_age            110058.0 -0.004973  0.995991 -1.482510 -0.470974   7.115546\nmake               110058.0 -0.050944  1.014473 -1.681846 -0.324311   2.051374\nmodel              110058.0 -0.000674  0.999284 -1.630150 -0.234437   1.911841\ntrim               110058.0 -0.001756  0.998188 -2.161233  0.150238   1.662300\nbody               110058.0 -0.057202  1.146985 -3.834788  0.036378   1.971961\ntransmission       110058.0 -0.002697  1.005196 -2.437424  0.228591   2.894606\nstate              110058.0  0.003052  0.999471 -1.400836 -0.188194   1.804003\ncolor              110058.0 -0.005747  1.001834 -1.559120 -0.358116   1.443391\ninterior           110058.0 -0.004210  0.999716 -1.174828 -0.705233   2.816726",
      "text/html": "<div>\n<style scoped>\n    .dataframe tbody tr th:only-of-type {\n        vertical-align: middle;\n    }\n\n    .dataframe tbody tr th {\n        vertical-align: top;\n    }\n\n    .dataframe thead th {\n        text-align: right;\n    }\n</style>\n<table border=\"1\" class=\"dataframe\">\n  <thead>\n    <tr style=\"text-align: right;\">\n      <th></th>\n      <th>count</th>\n      <th>mean</th>\n      <th>std</th>\n      <th>min</th>\n      <th>50%</th>\n      <th>max</th>\n    </tr>\n  </thead>\n  <tbody>\n    <tr>\n      <th>year</th>\n      <td>110058.0</td>\n      <td>0.005003</td>\n      <td>0.995538</td>\n      <td>-7.048899</td>\n      <td>0.492692</td>\n      <td>1.246851</td>\n    </tr>\n    <tr>\n      <th>condition</th>\n      <td>110058.0</td>\n      <td>-0.003996</td>\n      <td>1.000386</td>\n      <td>-1.920269</td>\n      <td>0.066029</td>\n      <td>2.052328</td>\n    </tr>\n    <tr>\n      <th>odometer</th>\n      <td>110058.0</td>\n      <td>-0.005083</td>\n      <td>0.999583</td>\n      <td>-1.276556</td>\n      <td>-0.306603</td>\n      <td>17.400938</td>\n    </tr>\n    <tr>\n      <th>saledate_week_day</th>\n      <td>110058.0</td>\n      <td>0.005696</td>\n      <td>1.000164</td>\n      <td>-2.047024</td>\n      <td>-0.131164</td>\n      <td>3.700556</td>\n    </tr>\n    <tr>\n      <th>saledate_month</th>\n      <td>110058.0</td>\n      <td>-0.002182</td>\n      <td>0.998841</td>\n      <td>-0.868131</td>\n      <td>-0.560021</td>\n      <td>2.521078</td>\n    </tr>\n    <tr>\n      <th>saledate_year</th>\n      <td>110058.0</td>\n      <td>0.000809</td>\n      <td>0.998906</td>\n      <td>-3.042632</td>\n      <td>0.328663</td>\n      <td>0.328663</td>\n    </tr>\n    <tr>\n      <th>car_age</th>\n      <td>110058.0</td>\n      <td>-0.004973</td>\n      <td>0.995991</td>\n      <td>-1.482510</td>\n      <td>-0.470974</td>\n      <td>7.115546</td>\n    </tr>\n    <tr>\n      <th>make</th>\n      <td>110058.0</td>\n      <td>-0.050944</td>\n      <td>1.014473</td>\n      <td>-1.681846</td>\n      <td>-0.324311</td>\n      <td>2.051374</td>\n    </tr>\n    <tr>\n      <th>model</th>\n      <td>110058.0</td>\n      <td>-0.000674</td>\n      <td>0.999284</td>\n      <td>-1.630150</td>\n      <td>-0.234437</td>\n      <td>1.911841</td>\n    </tr>\n    <tr>\n      <th>trim</th>\n      <td>110058.0</td>\n      <td>-0.001756</td>\n      <td>0.998188</td>\n      <td>-2.161233</td>\n      <td>0.150238</td>\n      <td>1.662300</td>\n    </tr>\n    <tr>\n      <th>body</th>\n      <td>110058.0</td>\n      <td>-0.057202</td>\n      <td>1.146985</td>\n      <td>-3.834788</td>\n      <td>0.036378</td>\n      <td>1.971961</td>\n    </tr>\n    <tr>\n      <th>transmission</th>\n      <td>110058.0</td>\n      <td>-0.002697</td>\n      <td>1.005196</td>\n      <td>-2.437424</td>\n      <td>0.228591</td>\n      <td>2.894606</td>\n    </tr>\n    <tr>\n      <th>state</th>\n      <td>110058.0</td>\n      <td>0.003052</td>\n      <td>0.999471</td>\n      <td>-1.400836</td>\n      <td>-0.188194</td>\n      <td>1.804003</td>\n    </tr>\n    <tr>\n      <th>color</th>\n      <td>110058.0</td>\n      <td>-0.005747</td>\n      <td>1.001834</td>\n      <td>-1.559120</td>\n      <td>-0.358116</td>\n      <td>1.443391</td>\n    </tr>\n    <tr>\n      <th>interior</th>\n      <td>110058.0</td>\n      <td>-0.004210</td>\n      <td>0.999716</td>\n      <td>-1.174828</td>\n      <td>-0.705233</td>\n      <td>2.816726</td>\n    </tr>\n  </tbody>\n</table>\n</div>"
     },
     "metadata": {},
     "output_type": "display_data"
    },
    {
     "name": "stdout",
     "output_type": "stream",
     "text": [
      "Количество дублированных строк: 0\n"
     ]
    }
   ],
   "source": [
    "describe_dataframe(features_test)"
   ],
   "metadata": {
    "collapsed": false
   }
  },
  {
   "cell_type": "code",
   "execution_count": 518,
   "outputs": [],
   "source": [
    "kf = KFold(n_splits=3, random_state=32123, shuffle=True)\n",
    "params = {\n",
    "    'criterion': ['absolute_error', 'squared_error', 'poisson', 'friedman_mse'],\n",
    "    'max_depth': range(2, 10, 4),\n",
    "    'random_state': [32123]\n",
    "}\n",
    "dt_pipeline = make_pipeline(DecisionTreeRegressor())"
   ],
   "metadata": {
    "collapsed": false
   }
  },
  {
   "cell_type": "code",
   "execution_count": 519,
   "outputs": [],
   "source": [
    "new_params = {key: params[key] for key in params}  # decisiontreeregressor__\n",
    "grid_dt = GridSearchCV(\n",
    "    DecisionTreeRegressor(),\n",
    "    param_grid=params,\n",
    "    cv=kf,\n",
    "    scoring='neg_mean_absolute_percentage_error',\n",
    "    n_jobs=-1,\n",
    "    return_train_score=True)"
   ],
   "metadata": {
    "collapsed": false
   }
  },
  {
   "cell_type": "code",
   "execution_count": 520,
   "outputs": [
    {
     "data": {
      "text/plain": "{'criterion': 'absolute_error', 'max_depth': 16, 'random_state': 32123}"
     },
     "execution_count": 520,
     "metadata": {},
     "output_type": "execute_result"
    }
   ],
   "source": [
    "grid_dt.fit(features_train, target_train)\n",
    "grid_dt.best_params_"
   ],
   "metadata": {
    "collapsed": false
   }
  },
  {
   "cell_type": "code",
   "execution_count": 522,
   "outputs": [
    {
     "data": {
      "text/plain": "-0.24502968885379958"
     },
     "execution_count": 522,
     "metadata": {},
     "output_type": "execute_result"
    }
   ],
   "source": [
    "grid_dt.best_score_"
   ],
   "metadata": {
    "collapsed": false
   }
  },
  {
   "cell_type": "code",
   "execution_count": 523,
   "outputs": [
    {
     "data": {
      "text/plain": "DecisionTreeRegressor(criterion='absolute_error', max_depth=16,\n                      random_state=32123)",
      "text/html": "<style>#sk-container-id-6 {color: black;background-color: white;}#sk-container-id-6 pre{padding: 0;}#sk-container-id-6 div.sk-toggleable {background-color: white;}#sk-container-id-6 label.sk-toggleable__label {cursor: pointer;display: block;width: 100%;margin-bottom: 0;padding: 0.3em;box-sizing: border-box;text-align: center;}#sk-container-id-6 label.sk-toggleable__label-arrow:before {content: \"▸\";float: left;margin-right: 0.25em;color: #696969;}#sk-container-id-6 label.sk-toggleable__label-arrow:hover:before {color: black;}#sk-container-id-6 div.sk-estimator:hover label.sk-toggleable__label-arrow:before {color: black;}#sk-container-id-6 div.sk-toggleable__content {max-height: 0;max-width: 0;overflow: hidden;text-align: left;background-color: #f0f8ff;}#sk-container-id-6 div.sk-toggleable__content pre {margin: 0.2em;color: black;border-radius: 0.25em;background-color: #f0f8ff;}#sk-container-id-6 input.sk-toggleable__control:checked~div.sk-toggleable__content {max-height: 200px;max-width: 100%;overflow: auto;}#sk-container-id-6 input.sk-toggleable__control:checked~label.sk-toggleable__label-arrow:before {content: \"▾\";}#sk-container-id-6 div.sk-estimator input.sk-toggleable__control:checked~label.sk-toggleable__label {background-color: #d4ebff;}#sk-container-id-6 div.sk-label input.sk-toggleable__control:checked~label.sk-toggleable__label {background-color: #d4ebff;}#sk-container-id-6 input.sk-hidden--visually {border: 0;clip: rect(1px 1px 1px 1px);clip: rect(1px, 1px, 1px, 1px);height: 1px;margin: -1px;overflow: hidden;padding: 0;position: absolute;width: 1px;}#sk-container-id-6 div.sk-estimator {font-family: monospace;background-color: #f0f8ff;border: 1px dotted black;border-radius: 0.25em;box-sizing: border-box;margin-bottom: 0.5em;}#sk-container-id-6 div.sk-estimator:hover {background-color: #d4ebff;}#sk-container-id-6 div.sk-parallel-item::after {content: \"\";width: 100%;border-bottom: 1px solid gray;flex-grow: 1;}#sk-container-id-6 div.sk-label:hover label.sk-toggleable__label {background-color: #d4ebff;}#sk-container-id-6 div.sk-serial::before {content: \"\";position: absolute;border-left: 1px solid gray;box-sizing: border-box;top: 0;bottom: 0;left: 50%;z-index: 0;}#sk-container-id-6 div.sk-serial {display: flex;flex-direction: column;align-items: center;background-color: white;padding-right: 0.2em;padding-left: 0.2em;position: relative;}#sk-container-id-6 div.sk-item {position: relative;z-index: 1;}#sk-container-id-6 div.sk-parallel {display: flex;align-items: stretch;justify-content: center;background-color: white;position: relative;}#sk-container-id-6 div.sk-item::before, #sk-container-id-6 div.sk-parallel-item::before {content: \"\";position: absolute;border-left: 1px solid gray;box-sizing: border-box;top: 0;bottom: 0;left: 50%;z-index: -1;}#sk-container-id-6 div.sk-parallel-item {display: flex;flex-direction: column;z-index: 1;position: relative;background-color: white;}#sk-container-id-6 div.sk-parallel-item:first-child::after {align-self: flex-end;width: 50%;}#sk-container-id-6 div.sk-parallel-item:last-child::after {align-self: flex-start;width: 50%;}#sk-container-id-6 div.sk-parallel-item:only-child::after {width: 0;}#sk-container-id-6 div.sk-dashed-wrapped {border: 1px dashed gray;margin: 0 0.4em 0.5em 0.4em;box-sizing: border-box;padding-bottom: 0.4em;background-color: white;}#sk-container-id-6 div.sk-label label {font-family: monospace;font-weight: bold;display: inline-block;line-height: 1.2em;}#sk-container-id-6 div.sk-label-container {text-align: center;}#sk-container-id-6 div.sk-container {/* jupyter's `normalize.less` sets `[hidden] { display: none; }` but bootstrap.min.css set `[hidden] { display: none !important; }` so we also need the `!important` here to be able to override the default hidden behavior on the sphinx rendered scikit-learn.org. See: https://github.com/scikit-learn/scikit-learn/issues/21755 */display: inline-block !important;position: relative;}#sk-container-id-6 div.sk-text-repr-fallback {display: none;}</style><div id=\"sk-container-id-6\" class=\"sk-top-container\"><div class=\"sk-text-repr-fallback\"><pre>DecisionTreeRegressor(criterion=&#x27;absolute_error&#x27;, max_depth=16,\n                      random_state=32123)</pre><b>In a Jupyter environment, please rerun this cell to show the HTML representation or trust the notebook. <br />On GitHub, the HTML representation is unable to render, please try loading this page with nbviewer.org.</b></div><div class=\"sk-container\" hidden><div class=\"sk-item\"><div class=\"sk-estimator sk-toggleable\"><input class=\"sk-toggleable__control sk-hidden--visually\" id=\"sk-estimator-id-6\" type=\"checkbox\" checked><label for=\"sk-estimator-id-6\" class=\"sk-toggleable__label sk-toggleable__label-arrow\">DecisionTreeRegressor</label><div class=\"sk-toggleable__content\"><pre>DecisionTreeRegressor(criterion=&#x27;absolute_error&#x27;, max_depth=16,\n                      random_state=32123)</pre></div></div></div></div></div>"
     },
     "execution_count": 523,
     "metadata": {},
     "output_type": "execute_result"
    }
   ],
   "source": [
    "model = DecisionTreeRegressor(\n",
    "    criterion='absolute_error',\n",
    "    max_depth=16,\n",
    "    random_state=32123\n",
    ")\n",
    "model.fit(features_train, target_train)"
   ],
   "metadata": {
    "collapsed": false
   }
  },
  {
   "cell_type": "code",
   "execution_count": 546,
   "outputs": [
    {
     "data": {
      "text/plain": "                 vin  sellingprice\n0  1g6dp567450124779  13592.209588\n1  1gtw7fca7e1902207  13592.209588\n2  jn8az1mw6dw303497  13592.209588\n3  2g1wf5e34d1160703  13592.209588\n4  1n6aa0ec3dn301209  13592.209588\n5  wvwvd63b93e175638  13592.209588\n6  5npeb4ac4dh809686  13592.209588\n7  1fm5k7b97dgb16454  13592.209588\n8  jn1cv6ar5bm411441  13592.209588\n9  3gnfc16j77g158033  13592.209588",
      "text/html": "<div>\n<style scoped>\n    .dataframe tbody tr th:only-of-type {\n        vertical-align: middle;\n    }\n\n    .dataframe tbody tr th {\n        vertical-align: top;\n    }\n\n    .dataframe thead th {\n        text-align: right;\n    }\n</style>\n<table border=\"1\" class=\"dataframe\">\n  <thead>\n    <tr style=\"text-align: right;\">\n      <th></th>\n      <th>vin</th>\n      <th>sellingprice</th>\n    </tr>\n  </thead>\n  <tbody>\n    <tr>\n      <th>0</th>\n      <td>1g6dp567450124779</td>\n      <td>13592.209588</td>\n    </tr>\n    <tr>\n      <th>1</th>\n      <td>1gtw7fca7e1902207</td>\n      <td>13592.209588</td>\n    </tr>\n    <tr>\n      <th>2</th>\n      <td>jn8az1mw6dw303497</td>\n      <td>13592.209588</td>\n    </tr>\n    <tr>\n      <th>3</th>\n      <td>2g1wf5e34d1160703</td>\n      <td>13592.209588</td>\n    </tr>\n    <tr>\n      <th>4</th>\n      <td>1n6aa0ec3dn301209</td>\n      <td>13592.209588</td>\n    </tr>\n    <tr>\n      <th>5</th>\n      <td>wvwvd63b93e175638</td>\n      <td>13592.209588</td>\n    </tr>\n    <tr>\n      <th>6</th>\n      <td>5npeb4ac4dh809686</td>\n      <td>13592.209588</td>\n    </tr>\n    <tr>\n      <th>7</th>\n      <td>1fm5k7b97dgb16454</td>\n      <td>13592.209588</td>\n    </tr>\n    <tr>\n      <th>8</th>\n      <td>jn1cv6ar5bm411441</td>\n      <td>13592.209588</td>\n    </tr>\n    <tr>\n      <th>9</th>\n      <td>3gnfc16j77g158033</td>\n      <td>13592.209588</td>\n    </tr>\n  </tbody>\n</table>\n</div>"
     },
     "metadata": {},
     "output_type": "display_data"
    },
    {
     "name": "stdout",
     "output_type": "stream",
     "text": [
      "<class 'pandas.core.frame.DataFrame'>\n",
      "RangeIndex: 110058 entries, 0 to 110057\n",
      "Data columns (total 2 columns):\n",
      " #   Column        Non-Null Count   Dtype  \n",
      "---  ------        --------------   -----  \n",
      " 0   vin           110058 non-null  object \n",
      " 1   sellingprice  110058 non-null  float64\n",
      "dtypes: float64(1), object(1)\n",
      "memory usage: 1.7+ MB\n"
     ]
    },
    {
     "data": {
      "text/plain": "None"
     },
     "metadata": {},
     "output_type": "display_data"
    },
    {
     "data": {
      "text/plain": "                 count          mean           std           min  \\\nsellingprice  110058.0  13592.209588  7.275991e-12  13592.209588   \n\n                       50%           max  \nsellingprice  13592.209588  13592.209588  ",
      "text/html": "<div>\n<style scoped>\n    .dataframe tbody tr th:only-of-type {\n        vertical-align: middle;\n    }\n\n    .dataframe tbody tr th {\n        vertical-align: top;\n    }\n\n    .dataframe thead th {\n        text-align: right;\n    }\n</style>\n<table border=\"1\" class=\"dataframe\">\n  <thead>\n    <tr style=\"text-align: right;\">\n      <th></th>\n      <th>count</th>\n      <th>mean</th>\n      <th>std</th>\n      <th>min</th>\n      <th>50%</th>\n      <th>max</th>\n    </tr>\n  </thead>\n  <tbody>\n    <tr>\n      <th>sellingprice</th>\n      <td>110058.0</td>\n      <td>13592.209588</td>\n      <td>7.275991e-12</td>\n      <td>13592.209588</td>\n      <td>13592.209588</td>\n      <td>13592.209588</td>\n    </tr>\n  </tbody>\n</table>\n</div>"
     },
     "metadata": {},
     "output_type": "display_data"
    },
    {
     "name": "stdout",
     "output_type": "stream",
     "text": [
      "Количество дублированных строк: 0\n"
     ]
    }
   ],
   "source": [
    "describe_dataframe(sample_submission)"
   ],
   "metadata": {
    "collapsed": false
   }
  },
  {
   "cell_type": "code",
   "execution_count": 567,
   "outputs": [
    {
     "data": {
      "text/plain": "array([ 3900., 22200., 17400., ...,  3400., 20800., 15800.])"
     },
     "execution_count": 567,
     "metadata": {},
     "output_type": "execute_result"
    }
   ],
   "source": [
    "submission = model.predict(features_test)\n",
    "submission"
   ],
   "metadata": {
    "collapsed": false
   }
  },
  {
   "cell_type": "code",
   "execution_count": 572,
   "outputs": [],
   "source": [
    "sample_submission['sellingprice'] = submission\n",
    "sample_submission.to_csv('sample_submission.csv', index=False)"
   ],
   "metadata": {
    "collapsed": false
   }
  }
 ],
 "metadata": {
  "kernelspec": {
   "display_name": "Python 3",
   "language": "python",
   "name": "python3"
  },
  "language_info": {
   "codemirror_mode": {
    "name": "ipython",
    "version": 2
   },
   "file_extension": ".py",
   "mimetype": "text/x-python",
   "name": "python",
   "nbconvert_exporter": "python",
   "pygments_lexer": "ipython2",
   "version": "2.7.6"
  }
 },
 "nbformat": 4,
 "nbformat_minor": 0
}
