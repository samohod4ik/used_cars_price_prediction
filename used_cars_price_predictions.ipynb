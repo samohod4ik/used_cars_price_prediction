{
 "cells": [
  {
   "cell_type": "markdown",
   "source": [
    "# Описание проекта"
   ],
   "metadata": {
    "collapsed": false
   }
  },
  {
   "cell_type": "markdown",
   "source": [
    "## Стоимость поддержанного автомобиля"
   ],
   "metadata": {
    "collapsed": false
   }
  },
  {
   "cell_type": "markdown",
   "source": [
    "Многие знают про маркетплейсы где продаются б/у вещи, на которых есть возможность недорого купить качественную и полезную вещь. Но всегда волнует вопрос - кто и как устанавливает цену, и какие его характеристики больше всего влияют на итоговую стоимость продажи?! Вопрос становится особо актуальным, если речь идет про дорогие товары, например про автомобили! В рамках данной задачи необходимо поработать с данными о продажах автомобилей на вторичном рынке. Целью данного проекта будет разработанная модель предсказания стоимости автомобиля на вторичном рынке."
   ],
   "metadata": {
    "collapsed": false
   }
  },
  {
   "cell_type": "markdown",
   "source": [
    "## Основные этапы исследования"
   ],
   "metadata": {
    "collapsed": false
   }
  },
  {
   "cell_type": "markdown",
   "source": [
    "- Загрузка и ознакомление с данными, <p>\n",
    "- Предварительная обработка,<p>\n",
    "- Полноценный разведочный анализ,<p>\n",
    "- Разработка новых синтетических признаков,<p>\n",
    "- Проверка на мультиколлинеарность,<p>\n",
    "- Отбор финального набора обучающих признаков,<p>\n",
    "- Выбор и обучение моделей,<p>\n",
    "- Итоговая оценка качества предсказания лучшей модели,<p>\n",
    "- Анализ важности ее признаков."
   ],
   "metadata": {
    "collapsed": false
   }
  },
  {
   "cell_type": "markdown",
   "source": [
    "# Представление данных"
   ],
   "metadata": {
    "collapsed": false
   }
  },
  {
   "cell_type": "code",
   "execution_count": 624,
   "outputs": [
    {
     "name": "stdout",
     "output_type": "stream",
     "text": [
      "Requirement already satisfied: imblearn in c:\\users\\apmuravev\\appdata\\local\\programs\\python\\python311\\lib\\site-packages (0.0)\n",
      "Requirement already satisfied: imbalanced-learn in c:\\users\\apmuravev\\appdata\\local\\programs\\python\\python311\\lib\\site-packages (from imblearn) (0.10.1)\n",
      "Requirement already satisfied: numpy>=1.17.3 in c:\\users\\apmuravev\\appdata\\local\\programs\\python\\python311\\lib\\site-packages (from imbalanced-learn->imblearn) (1.24.3)\n",
      "Requirement already satisfied: scipy>=1.3.2 in c:\\users\\apmuravev\\appdata\\local\\programs\\python\\python311\\lib\\site-packages (from imbalanced-learn->imblearn) (1.10.1)\n",
      "Requirement already satisfied: scikit-learn>=1.0.2 in c:\\users\\apmuravev\\appdata\\local\\programs\\python\\python311\\lib\\site-packages (from imbalanced-learn->imblearn) (1.2.2)\n",
      "Requirement already satisfied: joblib>=1.1.1 in c:\\users\\apmuravev\\appdata\\local\\programs\\python\\python311\\lib\\site-packages (from imbalanced-learn->imblearn) (1.2.0)\n",
      "Requirement already satisfied: threadpoolctl>=2.0.0 in c:\\users\\apmuravev\\appdata\\local\\programs\\python\\python311\\lib\\site-packages (from imbalanced-learn->imblearn) (3.1.0)\n"
     ]
    }
   ],
   "source": [
    "# Установка необходимых расширений\n",
    "!pip install imblearn"
   ],
   "metadata": {
    "collapsed": false
   }
  },
  {
   "cell_type": "code",
   "execution_count": 625,
   "outputs": [],
   "source": [
    "# Импорт основных библиотек\n",
    "import matplotlib.pyplot as plt\n",
    "import numpy as np\n",
    "import pandas as pd\n",
    "import warnings\n",
    "\n",
    "from pandas.api.types import is_string_dtype\n",
    "\n",
    "from sklearn.ensemble import RandomForestRegressor\n",
    "from sklearn.exceptions import DataConversionWarning\n",
    "from sklearn.model_selection import cross_val_score, KFold, GridSearchCV\n",
    "from sklearn.preprocessing import StandardScaler, OneHotEncoder, OrdinalEncoder\n",
    "from sklearn.tree import DecisionTreeRegressor\n",
    "\n",
    "from imblearn.pipeline import Pipeline, make_pipeline"
   ],
   "metadata": {
    "collapsed": false
   }
  },
  {
   "cell_type": "code",
   "execution_count": 626,
   "outputs": [],
   "source": [
    "# Отключение лишних предупреждений\n",
    "warnings.filterwarnings(action='ignore', category=DataConversionWarning)"
   ],
   "metadata": {
    "collapsed": false
   }
  },
  {
   "cell_type": "code",
   "execution_count": 627,
   "outputs": [],
   "source": [
    "# Импорт датасета\n",
    "try:\n",
    "    sample_submission = pd.read_csv('datasets/sample_submission.csv')\n",
    "    test = pd.read_csv('datasets/test.csv')\n",
    "    train = pd.read_csv('datasets/train.csv')\n",
    "except Exception as info:\n",
    "    display(info)\n",
    "    sample_submission = pd.read_csv('/kaggle/input/used-cars-price-prediction-19ds/sample_submission.csv')\n",
    "    test = pd.read_csv('/kaggle/input/used-cars-price-prediction-19ds/test.csv')\n",
    "    train = pd.read_csv('/kaggle/input/used-cars-price-prediction-19ds/train.csv')"
   ],
   "metadata": {
    "collapsed": false
   }
  },
  {
   "cell_type": "code",
   "execution_count": 628,
   "outputs": [],
   "source": [
    "# Объявим функцию для изучения датасетов\n",
    "def describe_dataframe(dataframe):\n",
    "    display(dataframe.head(10))\n",
    "    display(dataframe.info())\n",
    "    display(dataframe.describe(percentiles=[.5]).T)\n",
    "    print(f\"Количество дублированных строк: {dataframe.duplicated().sum()}\")"
   ],
   "metadata": {
    "collapsed": false
   }
  },
  {
   "cell_type": "code",
   "execution_count": 629,
   "outputs": [
    {
     "data": {
      "text/plain": "   year     make      model     trim   body transmission                vin  \\\n0  2011     Ford       Edge      SEL    suv    automatic  2fmdk3jc4bba41556   \n1  2014     Ford     Fusion       SE  Sedan    automatic  3fa6p0h75er208976   \n2  2012   Nissan     Sentra   2.0 SL  sedan    automatic  3n1ab6ap4cl698412   \n3  2003   HUMMER         H2     Base    suv    automatic  5grgn23u93h101360   \n4  2007     Ford     Fusion      SEL  Sedan    automatic  3fahp08z17r268380   \n5  2013  Lincoln        MKZ     Base  Sedan    automatic  3ln6l2j91dr817800   \n6  2010  pontiac         g6       4c    NaN    automatic  1g2za5eb4a4157380   \n7  2013     Ford     Escape       SE    SUV    automatic  1fmcu0gx3duc59421   \n8  2000  Hyundai    Elantra      GLS  Sedan    automatic  kmhjf35f2yu955691   \n9  2005     Ford  Freestyle  Limited  wagon    automatic  1fmdk06135ga45438   \n\n  state  condition  odometer   color interior                         seller  \\\n0    md        4.2  111041.0   black    black             santander consumer   \n1    mo        3.5   31034.0   black    black          ars/avis budget group   \n2    nj        2.2   35619.0   black    black             nissan-infiniti lt   \n3    tx        2.8  131301.0    gold    beige     wichita falls ford lin inc   \n4    md        2.0  127709.0   black    black                   purple heart   \n5    mi        2.5   14894.0   black    black  ford motor credit company,llc   \n6    nc        3.4  114587.0  silver    black         north state acceptance   \n7    fl        4.8   26273.0    blue     gray                     fields bmw   \n8    oh        1.9  182624.0   black      tan                   dt inventory   \n9    oh        1.0  149364.0   black      tan    wells fargo dealer services   \n\n   sellingprice                                 saledate  \n0         12500  Tue Jun 02 2015 02:30:00 GMT-0700 (PDT)  \n1         14500  Wed Feb 25 2015 02:00:00 GMT-0800 (PST)  \n2          9100  Wed Jun 10 2015 02:30:00 GMT-0700 (PDT)  \n3         13300  Wed Jun 17 2015 03:00:00 GMT-0700 (PDT)  \n4          1300  Tue Feb 03 2015 04:00:00 GMT-0800 (PST)  \n5         22600  Thu May 21 2015 02:00:00 GMT-0700 (PDT)  \n6          5900  Mon Jan 12 2015 09:30:00 GMT-0800 (PST)  \n7         15200  Tue Feb 03 2015 01:00:00 GMT-0800 (PST)  \n8           700  Thu Jan 22 2015 01:00:00 GMT-0800 (PST)  \n9           325  Tue Jun 16 2015 05:00:00 GMT-0700 (PDT)  ",
      "text/html": "<div>\n<style scoped>\n    .dataframe tbody tr th:only-of-type {\n        vertical-align: middle;\n    }\n\n    .dataframe tbody tr th {\n        vertical-align: top;\n    }\n\n    .dataframe thead th {\n        text-align: right;\n    }\n</style>\n<table border=\"1\" class=\"dataframe\">\n  <thead>\n    <tr style=\"text-align: right;\">\n      <th></th>\n      <th>year</th>\n      <th>make</th>\n      <th>model</th>\n      <th>trim</th>\n      <th>body</th>\n      <th>transmission</th>\n      <th>vin</th>\n      <th>state</th>\n      <th>condition</th>\n      <th>odometer</th>\n      <th>color</th>\n      <th>interior</th>\n      <th>seller</th>\n      <th>sellingprice</th>\n      <th>saledate</th>\n    </tr>\n  </thead>\n  <tbody>\n    <tr>\n      <th>0</th>\n      <td>2011</td>\n      <td>Ford</td>\n      <td>Edge</td>\n      <td>SEL</td>\n      <td>suv</td>\n      <td>automatic</td>\n      <td>2fmdk3jc4bba41556</td>\n      <td>md</td>\n      <td>4.2</td>\n      <td>111041.0</td>\n      <td>black</td>\n      <td>black</td>\n      <td>santander consumer</td>\n      <td>12500</td>\n      <td>Tue Jun 02 2015 02:30:00 GMT-0700 (PDT)</td>\n    </tr>\n    <tr>\n      <th>1</th>\n      <td>2014</td>\n      <td>Ford</td>\n      <td>Fusion</td>\n      <td>SE</td>\n      <td>Sedan</td>\n      <td>automatic</td>\n      <td>3fa6p0h75er208976</td>\n      <td>mo</td>\n      <td>3.5</td>\n      <td>31034.0</td>\n      <td>black</td>\n      <td>black</td>\n      <td>ars/avis budget group</td>\n      <td>14500</td>\n      <td>Wed Feb 25 2015 02:00:00 GMT-0800 (PST)</td>\n    </tr>\n    <tr>\n      <th>2</th>\n      <td>2012</td>\n      <td>Nissan</td>\n      <td>Sentra</td>\n      <td>2.0 SL</td>\n      <td>sedan</td>\n      <td>automatic</td>\n      <td>3n1ab6ap4cl698412</td>\n      <td>nj</td>\n      <td>2.2</td>\n      <td>35619.0</td>\n      <td>black</td>\n      <td>black</td>\n      <td>nissan-infiniti lt</td>\n      <td>9100</td>\n      <td>Wed Jun 10 2015 02:30:00 GMT-0700 (PDT)</td>\n    </tr>\n    <tr>\n      <th>3</th>\n      <td>2003</td>\n      <td>HUMMER</td>\n      <td>H2</td>\n      <td>Base</td>\n      <td>suv</td>\n      <td>automatic</td>\n      <td>5grgn23u93h101360</td>\n      <td>tx</td>\n      <td>2.8</td>\n      <td>131301.0</td>\n      <td>gold</td>\n      <td>beige</td>\n      <td>wichita falls ford lin inc</td>\n      <td>13300</td>\n      <td>Wed Jun 17 2015 03:00:00 GMT-0700 (PDT)</td>\n    </tr>\n    <tr>\n      <th>4</th>\n      <td>2007</td>\n      <td>Ford</td>\n      <td>Fusion</td>\n      <td>SEL</td>\n      <td>Sedan</td>\n      <td>automatic</td>\n      <td>3fahp08z17r268380</td>\n      <td>md</td>\n      <td>2.0</td>\n      <td>127709.0</td>\n      <td>black</td>\n      <td>black</td>\n      <td>purple heart</td>\n      <td>1300</td>\n      <td>Tue Feb 03 2015 04:00:00 GMT-0800 (PST)</td>\n    </tr>\n    <tr>\n      <th>5</th>\n      <td>2013</td>\n      <td>Lincoln</td>\n      <td>MKZ</td>\n      <td>Base</td>\n      <td>Sedan</td>\n      <td>automatic</td>\n      <td>3ln6l2j91dr817800</td>\n      <td>mi</td>\n      <td>2.5</td>\n      <td>14894.0</td>\n      <td>black</td>\n      <td>black</td>\n      <td>ford motor credit company,llc</td>\n      <td>22600</td>\n      <td>Thu May 21 2015 02:00:00 GMT-0700 (PDT)</td>\n    </tr>\n    <tr>\n      <th>6</th>\n      <td>2010</td>\n      <td>pontiac</td>\n      <td>g6</td>\n      <td>4c</td>\n      <td>NaN</td>\n      <td>automatic</td>\n      <td>1g2za5eb4a4157380</td>\n      <td>nc</td>\n      <td>3.4</td>\n      <td>114587.0</td>\n      <td>silver</td>\n      <td>black</td>\n      <td>north state acceptance</td>\n      <td>5900</td>\n      <td>Mon Jan 12 2015 09:30:00 GMT-0800 (PST)</td>\n    </tr>\n    <tr>\n      <th>7</th>\n      <td>2013</td>\n      <td>Ford</td>\n      <td>Escape</td>\n      <td>SE</td>\n      <td>SUV</td>\n      <td>automatic</td>\n      <td>1fmcu0gx3duc59421</td>\n      <td>fl</td>\n      <td>4.8</td>\n      <td>26273.0</td>\n      <td>blue</td>\n      <td>gray</td>\n      <td>fields bmw</td>\n      <td>15200</td>\n      <td>Tue Feb 03 2015 01:00:00 GMT-0800 (PST)</td>\n    </tr>\n    <tr>\n      <th>8</th>\n      <td>2000</td>\n      <td>Hyundai</td>\n      <td>Elantra</td>\n      <td>GLS</td>\n      <td>Sedan</td>\n      <td>automatic</td>\n      <td>kmhjf35f2yu955691</td>\n      <td>oh</td>\n      <td>1.9</td>\n      <td>182624.0</td>\n      <td>black</td>\n      <td>tan</td>\n      <td>dt inventory</td>\n      <td>700</td>\n      <td>Thu Jan 22 2015 01:00:00 GMT-0800 (PST)</td>\n    </tr>\n    <tr>\n      <th>9</th>\n      <td>2005</td>\n      <td>Ford</td>\n      <td>Freestyle</td>\n      <td>Limited</td>\n      <td>wagon</td>\n      <td>automatic</td>\n      <td>1fmdk06135ga45438</td>\n      <td>oh</td>\n      <td>1.0</td>\n      <td>149364.0</td>\n      <td>black</td>\n      <td>tan</td>\n      <td>wells fargo dealer services</td>\n      <td>325</td>\n      <td>Tue Jun 16 2015 05:00:00 GMT-0700 (PDT)</td>\n    </tr>\n  </tbody>\n</table>\n</div>"
     },
     "metadata": {},
     "output_type": "display_data"
    },
    {
     "name": "stdout",
     "output_type": "stream",
     "text": [
      "<class 'pandas.core.frame.DataFrame'>\n",
      "RangeIndex: 440236 entries, 0 to 440235\n",
      "Data columns (total 15 columns):\n",
      " #   Column        Non-Null Count   Dtype  \n",
      "---  ------        --------------   -----  \n",
      " 0   year          440236 non-null  int64  \n",
      " 1   make          432193 non-null  object \n",
      " 2   model         432113 non-null  object \n",
      " 3   trim          431899 non-null  object \n",
      " 4   body          429843 non-null  object \n",
      " 5   transmission  388775 non-null  object \n",
      " 6   vin           440236 non-null  object \n",
      " 7   state         440236 non-null  object \n",
      " 8   condition     430831 non-null  float64\n",
      " 9   odometer      440167 non-null  float64\n",
      " 10  color         439650 non-null  object \n",
      " 11  interior      439650 non-null  object \n",
      " 12  seller        440236 non-null  object \n",
      " 13  sellingprice  440236 non-null  int64  \n",
      " 14  saledate      440236 non-null  object \n",
      "dtypes: float64(2), int64(2), object(11)\n",
      "memory usage: 50.4+ MB\n"
     ]
    },
    {
     "data": {
      "text/plain": "None"
     },
     "metadata": {},
     "output_type": "display_data"
    },
    {
     "data": {
      "text/plain": "                 count          mean           std     min      50%       max\nyear          440236.0   2010.040101      3.977945  1982.0   2012.0    2015.0\ncondition     430831.0      3.425077      0.949973     1.0      3.6       5.0\nodometer      440167.0  68344.421604  53542.203908     1.0  52098.0  999999.0\nsellingprice  440236.0  13592.209588   9751.479098     1.0  12100.0  230000.0",
      "text/html": "<div>\n<style scoped>\n    .dataframe tbody tr th:only-of-type {\n        vertical-align: middle;\n    }\n\n    .dataframe tbody tr th {\n        vertical-align: top;\n    }\n\n    .dataframe thead th {\n        text-align: right;\n    }\n</style>\n<table border=\"1\" class=\"dataframe\">\n  <thead>\n    <tr style=\"text-align: right;\">\n      <th></th>\n      <th>count</th>\n      <th>mean</th>\n      <th>std</th>\n      <th>min</th>\n      <th>50%</th>\n      <th>max</th>\n    </tr>\n  </thead>\n  <tbody>\n    <tr>\n      <th>year</th>\n      <td>440236.0</td>\n      <td>2010.040101</td>\n      <td>3.977945</td>\n      <td>1982.0</td>\n      <td>2012.0</td>\n      <td>2015.0</td>\n    </tr>\n    <tr>\n      <th>condition</th>\n      <td>430831.0</td>\n      <td>3.425077</td>\n      <td>0.949973</td>\n      <td>1.0</td>\n      <td>3.6</td>\n      <td>5.0</td>\n    </tr>\n    <tr>\n      <th>odometer</th>\n      <td>440167.0</td>\n      <td>68344.421604</td>\n      <td>53542.203908</td>\n      <td>1.0</td>\n      <td>52098.0</td>\n      <td>999999.0</td>\n    </tr>\n    <tr>\n      <th>sellingprice</th>\n      <td>440236.0</td>\n      <td>13592.209588</td>\n      <td>9751.479098</td>\n      <td>1.0</td>\n      <td>12100.0</td>\n      <td>230000.0</td>\n    </tr>\n  </tbody>\n</table>\n</div>"
     },
     "metadata": {},
     "output_type": "display_data"
    },
    {
     "name": "stdout",
     "output_type": "stream",
     "text": [
      "Количество дублированных строк: 0\n"
     ]
    }
   ],
   "source": [
    "describe_dataframe(train)"
   ],
   "metadata": {
    "collapsed": false
   }
  },
  {
   "cell_type": "code",
   "execution_count": 630,
   "outputs": [
    {
     "data": {
      "text/plain": "   year        make         model      trim      body transmission  \\\n0  2005    Cadillac           CTS      Base     Sedan    automatic   \n1  2014         GMC  Savana Cargo      2500       Van          NaN   \n2  2013      Nissan        Murano         S       SUV    automatic   \n3  2013   Chevrolet        Impala  LS Fleet     Sedan    automatic   \n4  2013      Nissan         Titan        SV  Crew Cab    automatic   \n5  2003  Volkswagen        Passat  GLS 1.8T     wagon    automatic   \n6  2013     Hyundai        Sonata       GLS     Sedan    automatic   \n7  2013        Ford      Explorer      Base       SUV    automatic   \n8  2011    Infiniti       G Sedan      G37x   G Sedan    automatic   \n9  2007   Chevrolet      Suburban   1500 LS       SUV    automatic   \n\n                 vin state  condition  odometer   color interior  \\\n0  1g6dp567450124779    ca        2.7  116970.0  silver    black   \n1  1gtw7fca7e1902207    pa        4.4    6286.0   white     gray   \n2  jn8az1mw6dw303497    oh        4.6   11831.0    gray    black   \n3  2g1wf5e34d1160703    fl        2.3   57105.0  silver    black   \n4  1n6aa0ec3dn301209    tn        2.9   31083.0   black    black   \n5  wvwvd63b93e175638    nc        2.4  104155.0  silver    black   \n6  5npeb4ac4dh809686    il        3.7   30669.0  silver     gray   \n7  1fm5k7b97dgb16454    nc        3.2   87862.0   black     gray   \n8  jn1cv6ar5bm411441    tn        3.5   47028.0   black    beige   \n9  3gnfc16j77g158033    ga        3.4  191211.0   black      tan   \n\n                                             seller  \\\n0                            lexus of stevens creek   \n1                                            u-haul   \n2                                nissan-infiniti lt   \n3  onemain rem/auto club of miami inc dba north dad   \n4                         nissan north america inc.   \n5              fred anderson nissan of fayetteville   \n6                                 merchants leasing   \n7             ge fleet services for itself/servicer   \n8                                nissan infiniti lt   \n9                           riverside chevrolet inc   \n\n                                  saledate  \n0  Wed Jan 14 2015 04:30:00 GMT-0800 (PST)  \n1  Fri Feb 27 2015 01:00:00 GMT-0800 (PST)  \n2  Tue Feb 24 2015 01:30:00 GMT-0800 (PST)  \n3  Fri Mar 06 2015 02:00:00 GMT-0800 (PST)  \n4  Wed Jun 03 2015 03:30:00 GMT-0700 (PDT)  \n5  Tue Jun 09 2015 03:00:00 GMT-0700 (PDT)  \n6  Tue Mar 03 2015 02:00:00 GMT-0800 (PST)  \n7  Tue Feb 10 2015 01:15:00 GMT-0800 (PST)  \n8  Wed Feb 04 2015 02:30:00 GMT-0800 (PST)  \n9  Tue Feb 10 2015 04:30:00 GMT-0800 (PST)  ",
      "text/html": "<div>\n<style scoped>\n    .dataframe tbody tr th:only-of-type {\n        vertical-align: middle;\n    }\n\n    .dataframe tbody tr th {\n        vertical-align: top;\n    }\n\n    .dataframe thead th {\n        text-align: right;\n    }\n</style>\n<table border=\"1\" class=\"dataframe\">\n  <thead>\n    <tr style=\"text-align: right;\">\n      <th></th>\n      <th>year</th>\n      <th>make</th>\n      <th>model</th>\n      <th>trim</th>\n      <th>body</th>\n      <th>transmission</th>\n      <th>vin</th>\n      <th>state</th>\n      <th>condition</th>\n      <th>odometer</th>\n      <th>color</th>\n      <th>interior</th>\n      <th>seller</th>\n      <th>saledate</th>\n    </tr>\n  </thead>\n  <tbody>\n    <tr>\n      <th>0</th>\n      <td>2005</td>\n      <td>Cadillac</td>\n      <td>CTS</td>\n      <td>Base</td>\n      <td>Sedan</td>\n      <td>automatic</td>\n      <td>1g6dp567450124779</td>\n      <td>ca</td>\n      <td>2.7</td>\n      <td>116970.0</td>\n      <td>silver</td>\n      <td>black</td>\n      <td>lexus of stevens creek</td>\n      <td>Wed Jan 14 2015 04:30:00 GMT-0800 (PST)</td>\n    </tr>\n    <tr>\n      <th>1</th>\n      <td>2014</td>\n      <td>GMC</td>\n      <td>Savana Cargo</td>\n      <td>2500</td>\n      <td>Van</td>\n      <td>NaN</td>\n      <td>1gtw7fca7e1902207</td>\n      <td>pa</td>\n      <td>4.4</td>\n      <td>6286.0</td>\n      <td>white</td>\n      <td>gray</td>\n      <td>u-haul</td>\n      <td>Fri Feb 27 2015 01:00:00 GMT-0800 (PST)</td>\n    </tr>\n    <tr>\n      <th>2</th>\n      <td>2013</td>\n      <td>Nissan</td>\n      <td>Murano</td>\n      <td>S</td>\n      <td>SUV</td>\n      <td>automatic</td>\n      <td>jn8az1mw6dw303497</td>\n      <td>oh</td>\n      <td>4.6</td>\n      <td>11831.0</td>\n      <td>gray</td>\n      <td>black</td>\n      <td>nissan-infiniti lt</td>\n      <td>Tue Feb 24 2015 01:30:00 GMT-0800 (PST)</td>\n    </tr>\n    <tr>\n      <th>3</th>\n      <td>2013</td>\n      <td>Chevrolet</td>\n      <td>Impala</td>\n      <td>LS Fleet</td>\n      <td>Sedan</td>\n      <td>automatic</td>\n      <td>2g1wf5e34d1160703</td>\n      <td>fl</td>\n      <td>2.3</td>\n      <td>57105.0</td>\n      <td>silver</td>\n      <td>black</td>\n      <td>onemain rem/auto club of miami inc dba north dad</td>\n      <td>Fri Mar 06 2015 02:00:00 GMT-0800 (PST)</td>\n    </tr>\n    <tr>\n      <th>4</th>\n      <td>2013</td>\n      <td>Nissan</td>\n      <td>Titan</td>\n      <td>SV</td>\n      <td>Crew Cab</td>\n      <td>automatic</td>\n      <td>1n6aa0ec3dn301209</td>\n      <td>tn</td>\n      <td>2.9</td>\n      <td>31083.0</td>\n      <td>black</td>\n      <td>black</td>\n      <td>nissan north america inc.</td>\n      <td>Wed Jun 03 2015 03:30:00 GMT-0700 (PDT)</td>\n    </tr>\n    <tr>\n      <th>5</th>\n      <td>2003</td>\n      <td>Volkswagen</td>\n      <td>Passat</td>\n      <td>GLS 1.8T</td>\n      <td>wagon</td>\n      <td>automatic</td>\n      <td>wvwvd63b93e175638</td>\n      <td>nc</td>\n      <td>2.4</td>\n      <td>104155.0</td>\n      <td>silver</td>\n      <td>black</td>\n      <td>fred anderson nissan of fayetteville</td>\n      <td>Tue Jun 09 2015 03:00:00 GMT-0700 (PDT)</td>\n    </tr>\n    <tr>\n      <th>6</th>\n      <td>2013</td>\n      <td>Hyundai</td>\n      <td>Sonata</td>\n      <td>GLS</td>\n      <td>Sedan</td>\n      <td>automatic</td>\n      <td>5npeb4ac4dh809686</td>\n      <td>il</td>\n      <td>3.7</td>\n      <td>30669.0</td>\n      <td>silver</td>\n      <td>gray</td>\n      <td>merchants leasing</td>\n      <td>Tue Mar 03 2015 02:00:00 GMT-0800 (PST)</td>\n    </tr>\n    <tr>\n      <th>7</th>\n      <td>2013</td>\n      <td>Ford</td>\n      <td>Explorer</td>\n      <td>Base</td>\n      <td>SUV</td>\n      <td>automatic</td>\n      <td>1fm5k7b97dgb16454</td>\n      <td>nc</td>\n      <td>3.2</td>\n      <td>87862.0</td>\n      <td>black</td>\n      <td>gray</td>\n      <td>ge fleet services for itself/servicer</td>\n      <td>Tue Feb 10 2015 01:15:00 GMT-0800 (PST)</td>\n    </tr>\n    <tr>\n      <th>8</th>\n      <td>2011</td>\n      <td>Infiniti</td>\n      <td>G Sedan</td>\n      <td>G37x</td>\n      <td>G Sedan</td>\n      <td>automatic</td>\n      <td>jn1cv6ar5bm411441</td>\n      <td>tn</td>\n      <td>3.5</td>\n      <td>47028.0</td>\n      <td>black</td>\n      <td>beige</td>\n      <td>nissan infiniti lt</td>\n      <td>Wed Feb 04 2015 02:30:00 GMT-0800 (PST)</td>\n    </tr>\n    <tr>\n      <th>9</th>\n      <td>2007</td>\n      <td>Chevrolet</td>\n      <td>Suburban</td>\n      <td>1500 LS</td>\n      <td>SUV</td>\n      <td>automatic</td>\n      <td>3gnfc16j77g158033</td>\n      <td>ga</td>\n      <td>3.4</td>\n      <td>191211.0</td>\n      <td>black</td>\n      <td>tan</td>\n      <td>riverside chevrolet inc</td>\n      <td>Tue Feb 10 2015 04:30:00 GMT-0800 (PST)</td>\n    </tr>\n  </tbody>\n</table>\n</div>"
     },
     "metadata": {},
     "output_type": "display_data"
    },
    {
     "name": "stdout",
     "output_type": "stream",
     "text": [
      "<class 'pandas.core.frame.DataFrame'>\n",
      "RangeIndex: 110058 entries, 0 to 110057\n",
      "Data columns (total 14 columns):\n",
      " #   Column        Non-Null Count   Dtype  \n",
      "---  ------        --------------   -----  \n",
      " 0   year          110058 non-null  int64  \n",
      " 1   make          107997 non-null  object \n",
      " 2   model         107979 non-null  object \n",
      " 3   trim          107944 non-null  object \n",
      " 4   body          107464 non-null  object \n",
      " 5   transmission  97047 non-null   object \n",
      " 6   vin           110058 non-null  object \n",
      " 7   state         110058 non-null  object \n",
      " 8   condition     107679 non-null  float64\n",
      " 9   odometer      110039 non-null  float64\n",
      " 10  color         109900 non-null  object \n",
      " 11  interior      109900 non-null  object \n",
      " 12  seller        110058 non-null  object \n",
      " 13  saledate      110058 non-null  object \n",
      "dtypes: float64(2), int64(1), object(11)\n",
      "memory usage: 11.8+ MB\n"
     ]
    },
    {
     "data": {
      "text/plain": "None"
     },
     "metadata": {},
     "output_type": "display_data"
    },
    {
     "data": {
      "text/plain": "              count          mean           std     min      50%       max\nyear       110058.0   2010.060005      3.960190  1982.0   2012.0    2015.0\ncondition  107679.0      3.423222      0.951301     1.0      3.6       5.0\nodometer   110039.0  68074.331601  53520.988173     1.0  51922.0  999999.0",
      "text/html": "<div>\n<style scoped>\n    .dataframe tbody tr th:only-of-type {\n        vertical-align: middle;\n    }\n\n    .dataframe tbody tr th {\n        vertical-align: top;\n    }\n\n    .dataframe thead th {\n        text-align: right;\n    }\n</style>\n<table border=\"1\" class=\"dataframe\">\n  <thead>\n    <tr style=\"text-align: right;\">\n      <th></th>\n      <th>count</th>\n      <th>mean</th>\n      <th>std</th>\n      <th>min</th>\n      <th>50%</th>\n      <th>max</th>\n    </tr>\n  </thead>\n  <tbody>\n    <tr>\n      <th>year</th>\n      <td>110058.0</td>\n      <td>2010.060005</td>\n      <td>3.960190</td>\n      <td>1982.0</td>\n      <td>2012.0</td>\n      <td>2015.0</td>\n    </tr>\n    <tr>\n      <th>condition</th>\n      <td>107679.0</td>\n      <td>3.423222</td>\n      <td>0.951301</td>\n      <td>1.0</td>\n      <td>3.6</td>\n      <td>5.0</td>\n    </tr>\n    <tr>\n      <th>odometer</th>\n      <td>110039.0</td>\n      <td>68074.331601</td>\n      <td>53520.988173</td>\n      <td>1.0</td>\n      <td>51922.0</td>\n      <td>999999.0</td>\n    </tr>\n  </tbody>\n</table>\n</div>"
     },
     "metadata": {},
     "output_type": "display_data"
    },
    {
     "name": "stdout",
     "output_type": "stream",
     "text": [
      "Количество дублированных строк: 0\n"
     ]
    }
   ],
   "source": [
    "describe_dataframe(test)"
   ],
   "metadata": {
    "collapsed": false
   }
  },
  {
   "cell_type": "code",
   "execution_count": 632,
   "outputs": [
    {
     "data": {
      "text/plain": "<pandas.io.formats.style.Styler at 0x24293e1e450>",
      "text/html": "<style type=\"text/css\">\n#T_10c03_row0_col0, #T_10c03_row1_col1, #T_10c03_row2_col2, #T_10c03_row3_col3 {\n  background-color: #b40426;\n  color: #f1f1f1;\n}\n#T_10c03_row0_col1, #T_10c03_row1_col3 {\n  background-color: #f7a98b;\n  color: #000000;\n}\n#T_10c03_row0_col2, #T_10c03_row2_col0, #T_10c03_row2_col1, #T_10c03_row2_col3 {\n  background-color: #3b4cc0;\n  color: #f1f1f1;\n}\n#T_10c03_row0_col3 {\n  background-color: #f59d7e;\n  color: #000000;\n}\n#T_10c03_row1_col0 {\n  background-color: #f49a7b;\n  color: #000000;\n}\n#T_10c03_row1_col2 {\n  background-color: #6384eb;\n  color: #f1f1f1;\n}\n#T_10c03_row3_col0 {\n  background-color: #f29274;\n  color: #f1f1f1;\n}\n#T_10c03_row3_col1 {\n  background-color: #f7ac8e;\n  color: #000000;\n}\n#T_10c03_row3_col2 {\n  background-color: #5b7ae5;\n  color: #f1f1f1;\n}\n</style>\n<table id=\"T_10c03\">\n  <thead>\n    <tr>\n      <th class=\"blank level0\" >&nbsp;</th>\n      <th id=\"T_10c03_level0_col0\" class=\"col_heading level0 col0\" >year</th>\n      <th id=\"T_10c03_level0_col1\" class=\"col_heading level0 col1\" >condition</th>\n      <th id=\"T_10c03_level0_col2\" class=\"col_heading level0 col2\" >odometer</th>\n      <th id=\"T_10c03_level0_col3\" class=\"col_heading level0 col3\" >sellingprice</th>\n    </tr>\n  </thead>\n  <tbody>\n    <tr>\n      <th id=\"T_10c03_level0_row0\" class=\"row_heading level0 row0\" >year</th>\n      <td id=\"T_10c03_row0_col0\" class=\"data row0 col0\" >1.000000</td>\n      <td id=\"T_10c03_row0_col1\" class=\"data row0 col1\" >0.553403</td>\n      <td id=\"T_10c03_row0_col2\" class=\"data row0 col2\" >-0.774498</td>\n      <td id=\"T_10c03_row0_col3\" class=\"data row0 col3\" >0.586847</td>\n    </tr>\n    <tr>\n      <th id=\"T_10c03_level0_row1\" class=\"row_heading level0 row1\" >condition</th>\n      <td id=\"T_10c03_row1_col0\" class=\"data row1 col0\" >0.553403</td>\n      <td id=\"T_10c03_row1_col1\" class=\"data row1 col1\" >1.000000</td>\n      <td id=\"T_10c03_row1_col2\" class=\"data row1 col2\" >-0.540544</td>\n      <td id=\"T_10c03_row1_col3\" class=\"data row1 col3\" >0.538906</td>\n    </tr>\n    <tr>\n      <th id=\"T_10c03_level0_row2\" class=\"row_heading level0 row2\" >odometer</th>\n      <td id=\"T_10c03_row2_col0\" class=\"data row2 col0\" >-0.774498</td>\n      <td id=\"T_10c03_row2_col1\" class=\"data row2 col1\" >-0.540544</td>\n      <td id=\"T_10c03_row2_col2\" class=\"data row2 col2\" >1.000000</td>\n      <td id=\"T_10c03_row2_col3\" class=\"data row2 col3\" >-0.583044</td>\n    </tr>\n    <tr>\n      <th id=\"T_10c03_level0_row3\" class=\"row_heading level0 row3\" >sellingprice</th>\n      <td id=\"T_10c03_row3_col0\" class=\"data row3 col0\" >0.586847</td>\n      <td id=\"T_10c03_row3_col1\" class=\"data row3 col1\" >0.538906</td>\n      <td id=\"T_10c03_row3_col2\" class=\"data row3 col2\" >-0.583044</td>\n      <td id=\"T_10c03_row3_col3\" class=\"data row3 col3\" >1.000000</td>\n    </tr>\n  </tbody>\n</table>\n"
     },
     "execution_count": 632,
     "metadata": {},
     "output_type": "execute_result"
    }
   ],
   "source": [
    "# Рассмотрим корреляции численных данных\n",
    "corr = train[['year', 'condition', 'odometer', 'sellingprice']].corr()\n",
    "corr.style.background_gradient(cmap='coolwarm')"
   ],
   "metadata": {
    "collapsed": false
   }
  },
  {
   "cell_type": "markdown",
   "source": [
    "Выводы: При знакомстве с данными были выявлены следующие особенности: В данных большое количество выбросов, пропущенных значений, неявных дубликатов в колонках с марками и моделями авто. В предобрабоке необходимо будет отсечь выбивающиеся значения и восстановить пропуски. Те строки, в которых данные восстановить невозможно - будут удалены, для уменьшения количества шумов в данных. Также числовые значения уже до кодирования категориальных переменных показывают, что данных мультиколлинеарным и линейные модели, скорее всего не подойдут для решения данной задачи."
   ],
   "metadata": {
    "collapsed": false
   }
  },
  {
   "cell_type": "markdown",
   "source": [
    "# Предобработка данных"
   ],
   "metadata": {
    "collapsed": false
   }
  },
  {
   "cell_type": "markdown",
   "source": [
    "В процессе предобработки необходимо добиться следующих целей:\n",
    "1) Выявить и устранить выбросы в колонках 'odometer' и 'sellingprice'\n",
    "2) Привести колонку с датой продажи к виду datetime\n",
    "3) С помощью группировок восполнить недостающие данные в категориальных ячейках\n",
    "4) Если недостающие значение осталось - заменим его на other или unknown\n",
    "5) Если недостающих значений слишком много - удалим строки полностю\n",
    "6) Постараемся сохранить более 90% данных"
   ],
   "metadata": {
    "collapsed": false
   }
  },
  {
   "cell_type": "code",
   "execution_count": 633,
   "outputs": [],
   "source": [
    "# Сохраним первоначальные датафреймы для сравнения чистых и обработанных данных\n",
    "raw_train = train.copy(deep=True)\n",
    "raw_test = test.copy(deep=True)"
   ],
   "metadata": {
    "collapsed": false
   }
  },
  {
   "cell_type": "code",
   "execution_count": 634,
   "outputs": [
    {
     "data": {
      "text/plain": "0.01      3269.66\n0.99    226987.68\nName: odometer, dtype: float64"
     },
     "execution_count": 634,
     "metadata": {},
     "output_type": "execute_result"
    }
   ],
   "source": [
    "# Определим крайние 2% значений одометра и будем считать, что это выбросы в данных\n",
    "train['odometer'].quantile([0.01, 0.99])"
   ],
   "metadata": {
    "collapsed": false
   }
  },
  {
   "cell_type": "code",
   "execution_count": 635,
   "outputs": [],
   "source": [
    "# Удалим выбивающиеся значения из пробега и цены\n",
    "train.drop(train.query(\"odometer > 227000 or odometer < 3270\").index, inplace=True)"
   ],
   "metadata": {
    "collapsed": false
   }
  },
  {
   "cell_type": "code",
   "execution_count": 636,
   "outputs": [],
   "source": [
    "# Чтобы также сгладить предсказания теста - уберём выбивающиеся значения\n",
    "test.loc[test['odometer'] > 227000, 'odometer'] = 227000\n",
    "test.loc[test['odometer'] < 3270, 'odometer'] = 3270"
   ],
   "metadata": {
    "collapsed": false
   }
  },
  {
   "cell_type": "code",
   "execution_count": 637,
   "outputs": [
    {
     "data": {
      "text/plain": "0.015      700.0\n0.985    40500.0\nName: sellingprice, dtype: float64"
     },
     "execution_count": 637,
     "metadata": {},
     "output_type": "execute_result"
    }
   ],
   "source": [
    "# Определим крайние 3% значений цены авто и будем считать, что это выбросы в данных\n",
    "train['sellingprice'].quantile([0.015, 0.985])"
   ],
   "metadata": {
    "collapsed": false
   }
  },
  {
   "cell_type": "code",
   "execution_count": 638,
   "outputs": [],
   "source": [
    "train.drop(train.query(\"sellingprice > 40500 or sellingprice < 700\").index, inplace=True)"
   ],
   "metadata": {
    "collapsed": false
   }
  },
  {
   "cell_type": "code",
   "execution_count": 639,
   "outputs": [
    {
     "data": {
      "text/plain": "year                0\nmake             7063\nmodel            7073\ntrim             7332\nbody             9095\ntransmission    48517\nvin                 0\nstate               0\ncondition        8510\nodometer           45\ncolor             476\ninterior          476\nseller              0\nsellingprice        0\nsaledate            0\ndtype: int64"
     },
     "execution_count": 639,
     "metadata": {},
     "output_type": "execute_result"
    }
   ],
   "source": [
    "# Все пропущенные значения на экране\n",
    "train.isna().sum()"
   ],
   "metadata": {
    "collapsed": false
   }
  },
  {
   "cell_type": "code",
   "execution_count": 640,
   "outputs": [],
   "source": [
    "# Преобразуем колонку с датой продажи к формату datetime\n",
    "train['sellingprice'] = np.floor(pd.to_numeric(train['sellingprice'], errors='coerce')).astype('Int32')\n",
    "train['condition'] = np.floor(pd.to_numeric(train['condition'], errors='coerce')).astype('Float64')\n",
    "\n",
    "test['condition'] = np.floor(pd.to_numeric(test['condition'], errors='coerce')).astype('Float64')\n",
    "\n",
    "train['saledate'] = pd.to_datetime(train['saledate'].str[:-15], format=\"%a %b %d %Y %H:%M:%S\")\n",
    "test['saledate'] = pd.to_datetime(test['saledate'].str[:-15], format=\"%a %b %d %Y %H:%M:%S\")"
   ],
   "metadata": {
    "collapsed": false
   }
  },
  {
   "cell_type": "code",
   "execution_count": 641,
   "outputs": [
    {
     "data": {
      "text/plain": "'Первоначальное число уникальных марок автомобилей: 54'"
     },
     "metadata": {},
     "output_type": "display_data"
    },
    {
     "data": {
      "text/plain": "Ford             71390\nChevrolet        45417\nNissan           41825\nToyota           30446\nDodge            23530\nHonda            20584\nHyundai          16627\nBmw              14521\nKia              13978\nChrysler         13279\nMercedes-benz    12119\nInfiniti         11837\nJeep             11727\nVolkswagen        9606\nLexus             8909\nGmc               7896\nMazda             6475\nCadillac          5543\nAcura             4507\nLincoln           4327\nAudi              4197\nSubaru            3906\nBuick             3744\nRam               3275\nPontiac           3248\nMitsubishi        3217\nVolvo             2772\nMini              2437\nSaturn            1944\nMercury           1362\nScion             1320\nLand rover        1091\nJaguar             936\nSuzuki             794\nFiat               638\nHummer             591\nPorsche            540\nSaab               351\nSmart              287\nOldsmobile         163\nIsuzu              120\nMercedes            58\nMaserati            54\nLandrover           19\nVw                  16\nPlymouth            11\nGmc truck           10\nBentley              4\nMercedes-b           2\nGeo                  2\nFord truck           1\nAston martin         1\nMazda tk             1\nFisker               1\nName: make, dtype: int64"
     },
     "execution_count": 641,
     "metadata": {},
     "output_type": "execute_result"
    }
   ],
   "source": [
    "# Изучим марки автомобилей\n",
    "train['make'] = train['make'].str.capitalize()\n",
    "display(f\"Первоначальное число уникальных марок автомобилей: {train['make'].value_counts().count()}\")\n",
    "train['make'].value_counts()"
   ],
   "metadata": {
    "collapsed": false
   }
  },
  {
   "cell_type": "code",
   "execution_count": 642,
   "outputs": [],
   "source": [
    "# Напишем функцию для поиска и замены неявных дубликатов в марке авто\n",
    "def make_unique(data):\n",
    "    if not data or data in ['none', 'nan']:\n",
    "        return 'Other'\n",
    "    data = str(data)\n",
    "    if data.find(\"ford\") != -1:\n",
    "        return \"ford\"\n",
    "    elif data.find(\"gmc\") != -1:\n",
    "        return \"gmc\"\n",
    "    elif data.find(\"land\") != -1 and data.find(\"rover\") != -1:\n",
    "        return \"landrover\"\n",
    "    elif data.find(\"mercedes\") != -1:\n",
    "        return \"mercedes\"\n",
    "    elif data == \"vw\":\n",
    "        return \"volkswagen\"\n",
    "    elif data.find(\"dodge\") != -1:\n",
    "        return \"dodge\"\n",
    "    elif data.find(\"mazda\") != -1:  #  Hyundai\n",
    "        return \"mazda\"\n",
    "    elif data.find(\"hyundai\") != -1:\n",
    "        return \"hyundai\"\n",
    "    else:\n",
    "        return data"
   ],
   "metadata": {
    "collapsed": false
   }
  },
  {
   "cell_type": "code",
   "execution_count": 643,
   "outputs": [],
   "source": [
    "# Напишем функцию для поиска и замены неявных дубликатов в модели авто\n",
    "def body_unique(data):\n",
    "    if not data or data in ['none', 'nan']:\n",
    "        return 'Other'\n",
    "    data = str(data)\n",
    "    if data.find(\"cab\") != -1 or data.find(\"crew\") != -1:\n",
    "        return \"pick-up\"\n",
    "    if data.find(\"convertible\") != -1:\n",
    "        return \"convertible\"\n",
    "    if data.find(\"coupe\") != -1 or data.find(\"koup\") != -1:\n",
    "        return \"coupe\"\n",
    "    if data.find(\"wagon\") != -1:\n",
    "        return \"wagon\"\n",
    "    if data.find(\"van\") != -1:\n",
    "        return \"van\"\n",
    "    if data.find(\"sedan\") != -1:\n",
    "        return \"sedan\"\n",
    "    else:\n",
    "        return data"
   ],
   "metadata": {
    "collapsed": false
   }
  },
  {
   "cell_type": "code",
   "execution_count": 644,
   "outputs": [
    {
     "data": {
      "text/plain": "Ford            71391\nChevrolet       45417\nNissan          41825\nToyota          30446\nDodge           23530\nHonda           20584\nHyundai         16627\nBmw             14521\nKia             13978\nChrysler        13279\nMercedes        12179\nInfiniti        11837\nJeep            11727\nVolkswagen       9622\nLexus            8909\nGmc              7906\nNan              7063\nMazda            6476\nCadillac         5543\nAcura            4507\nLincoln          4327\nAudi             4197\nSubaru           3906\nBuick            3744\nRam              3275\nPontiac          3248\nMitsubishi       3217\nVolvo            2772\nMini             2437\nSaturn           1944\nMercury          1362\nScion            1320\nLandrover        1110\nJaguar            936\nSuzuki            794\nFiat              638\nHummer            591\nPorsche           540\nSaab              351\nSmart             287\nOldsmobile        163\nIsuzu             120\nMaserati           54\nPlymouth           11\nBentley             4\nGeo                 2\nAston martin        1\nFisker              1\nName: make, dtype: int64"
     },
     "execution_count": 644,
     "metadata": {},
     "output_type": "execute_result"
    }
   ],
   "source": [
    "# Устраняем неявные дубликаты марок авто в трейне\n",
    "train['make'] = train['make'].str.lower().apply(make_unique).str.capitalize()\n",
    "train['make'].value_counts()"
   ],
   "metadata": {
    "collapsed": false
   }
  },
  {
   "cell_type": "code",
   "execution_count": 645,
   "outputs": [
    {
     "data": {
      "text/plain": "        year make model trim body transmission                vin state  \\\n10      2007  NaN   NaN  NaN  NaN    automatic  5tfbv54157x019560    ca   \n42      2007  NaN   NaN  NaN  NaN       manual  jm1bk34l671745431    md   \n63      2011  NaN   NaN  NaN  NaN    automatic  1fdne1bw5bda64735    ga   \n64      2008  NaN   NaN  NaN  NaN    automatic  1gbdv13wx8d142776    ca   \n111     2006  NaN   NaN  NaN  NaN    automatic  3gnda13d36s611801    nv   \n...      ...  ...   ...  ...  ...          ...                ...   ...   \n440085  2011  NaN   NaN  NaN  NaN    automatic  1fdne1bw8bdb21610    az   \n440114  2011  NaN   NaN  NaN  NaN    automatic  2lnbl8ev9bx757689    nj   \n440118  2004  NaN   NaN  NaN  NaN    automatic  1gyde637240130408    md   \n440122  2007  NaN   NaN  NaN  NaN    automatic  salme15487a251642    ca   \n440144  2004  NaN   NaN  NaN  NaN    automatic  2c4gm68474r511987    oh   \n\n        condition  odometer   color interior  \\\n10            3.0  102507.0    blue     gray   \n42            2.0   92656.0    blue     gray   \n63            5.0   67159.0   white     gray   \n64            4.0  113582.0   white     gray   \n111           2.0  129019.0  orange     gray   \n...           ...       ...     ...      ...   \n440085        3.0   80594.0   white     gray   \n440114        3.0  134164.0       —    black   \n440118        3.0  123123.0   white    beige   \n440122        2.0   39545.0   black    black   \n440144        3.0  124679.0    gold    beige   \n\n                                       seller  sellingprice  \\\n10                        aaero sweet company         17250   \n42      credit acceptance corp/vrs/southfield          5600   \n63                                  vpsi, inc         13200   \n64                  wholesale motor sales inc          4100   \n111     credit acceptance corp/vrs/southfield          2900   \n...                                       ...           ...   \n440085            mike albert fleet solutions         11100   \n440114             merchants automotive group         11800   \n440118  credit acceptance corp/vrs/southfield          3400   \n440122                        hornburg jaguar         17750   \n440144  credit acceptance corp/vrs/southfield          3200   \n\n                  saledate  \n10     2015-01-29 03:30:00  \n42     2015-06-16 02:30:00  \n63     2015-06-04 03:00:00  \n64     2015-02-05 04:00:00  \n111    2015-02-05 04:00:00  \n...                    ...  \n440085 2015-02-04 03:00:00  \n440114 2015-03-04 01:30:00  \n440118 2015-02-17 01:30:00  \n440122 2015-06-17 05:15:00  \n440144 2015-02-17 04:00:00  \n\n[7063 rows x 15 columns]",
      "text/html": "<div>\n<style scoped>\n    .dataframe tbody tr th:only-of-type {\n        vertical-align: middle;\n    }\n\n    .dataframe tbody tr th {\n        vertical-align: top;\n    }\n\n    .dataframe thead th {\n        text-align: right;\n    }\n</style>\n<table border=\"1\" class=\"dataframe\">\n  <thead>\n    <tr style=\"text-align: right;\">\n      <th></th>\n      <th>year</th>\n      <th>make</th>\n      <th>model</th>\n      <th>trim</th>\n      <th>body</th>\n      <th>transmission</th>\n      <th>vin</th>\n      <th>state</th>\n      <th>condition</th>\n      <th>odometer</th>\n      <th>color</th>\n      <th>interior</th>\n      <th>seller</th>\n      <th>sellingprice</th>\n      <th>saledate</th>\n    </tr>\n  </thead>\n  <tbody>\n    <tr>\n      <th>10</th>\n      <td>2007</td>\n      <td>NaN</td>\n      <td>NaN</td>\n      <td>NaN</td>\n      <td>NaN</td>\n      <td>automatic</td>\n      <td>5tfbv54157x019560</td>\n      <td>ca</td>\n      <td>3.0</td>\n      <td>102507.0</td>\n      <td>blue</td>\n      <td>gray</td>\n      <td>aaero sweet company</td>\n      <td>17250</td>\n      <td>2015-01-29 03:30:00</td>\n    </tr>\n    <tr>\n      <th>42</th>\n      <td>2007</td>\n      <td>NaN</td>\n      <td>NaN</td>\n      <td>NaN</td>\n      <td>NaN</td>\n      <td>manual</td>\n      <td>jm1bk34l671745431</td>\n      <td>md</td>\n      <td>2.0</td>\n      <td>92656.0</td>\n      <td>blue</td>\n      <td>gray</td>\n      <td>credit acceptance corp/vrs/southfield</td>\n      <td>5600</td>\n      <td>2015-06-16 02:30:00</td>\n    </tr>\n    <tr>\n      <th>63</th>\n      <td>2011</td>\n      <td>NaN</td>\n      <td>NaN</td>\n      <td>NaN</td>\n      <td>NaN</td>\n      <td>automatic</td>\n      <td>1fdne1bw5bda64735</td>\n      <td>ga</td>\n      <td>5.0</td>\n      <td>67159.0</td>\n      <td>white</td>\n      <td>gray</td>\n      <td>vpsi, inc</td>\n      <td>13200</td>\n      <td>2015-06-04 03:00:00</td>\n    </tr>\n    <tr>\n      <th>64</th>\n      <td>2008</td>\n      <td>NaN</td>\n      <td>NaN</td>\n      <td>NaN</td>\n      <td>NaN</td>\n      <td>automatic</td>\n      <td>1gbdv13wx8d142776</td>\n      <td>ca</td>\n      <td>4.0</td>\n      <td>113582.0</td>\n      <td>white</td>\n      <td>gray</td>\n      <td>wholesale motor sales inc</td>\n      <td>4100</td>\n      <td>2015-02-05 04:00:00</td>\n    </tr>\n    <tr>\n      <th>111</th>\n      <td>2006</td>\n      <td>NaN</td>\n      <td>NaN</td>\n      <td>NaN</td>\n      <td>NaN</td>\n      <td>automatic</td>\n      <td>3gnda13d36s611801</td>\n      <td>nv</td>\n      <td>2.0</td>\n      <td>129019.0</td>\n      <td>orange</td>\n      <td>gray</td>\n      <td>credit acceptance corp/vrs/southfield</td>\n      <td>2900</td>\n      <td>2015-02-05 04:00:00</td>\n    </tr>\n    <tr>\n      <th>...</th>\n      <td>...</td>\n      <td>...</td>\n      <td>...</td>\n      <td>...</td>\n      <td>...</td>\n      <td>...</td>\n      <td>...</td>\n      <td>...</td>\n      <td>...</td>\n      <td>...</td>\n      <td>...</td>\n      <td>...</td>\n      <td>...</td>\n      <td>...</td>\n      <td>...</td>\n    </tr>\n    <tr>\n      <th>440085</th>\n      <td>2011</td>\n      <td>NaN</td>\n      <td>NaN</td>\n      <td>NaN</td>\n      <td>NaN</td>\n      <td>automatic</td>\n      <td>1fdne1bw8bdb21610</td>\n      <td>az</td>\n      <td>3.0</td>\n      <td>80594.0</td>\n      <td>white</td>\n      <td>gray</td>\n      <td>mike albert fleet solutions</td>\n      <td>11100</td>\n      <td>2015-02-04 03:00:00</td>\n    </tr>\n    <tr>\n      <th>440114</th>\n      <td>2011</td>\n      <td>NaN</td>\n      <td>NaN</td>\n      <td>NaN</td>\n      <td>NaN</td>\n      <td>automatic</td>\n      <td>2lnbl8ev9bx757689</td>\n      <td>nj</td>\n      <td>3.0</td>\n      <td>134164.0</td>\n      <td>—</td>\n      <td>black</td>\n      <td>merchants automotive group</td>\n      <td>11800</td>\n      <td>2015-03-04 01:30:00</td>\n    </tr>\n    <tr>\n      <th>440118</th>\n      <td>2004</td>\n      <td>NaN</td>\n      <td>NaN</td>\n      <td>NaN</td>\n      <td>NaN</td>\n      <td>automatic</td>\n      <td>1gyde637240130408</td>\n      <td>md</td>\n      <td>3.0</td>\n      <td>123123.0</td>\n      <td>white</td>\n      <td>beige</td>\n      <td>credit acceptance corp/vrs/southfield</td>\n      <td>3400</td>\n      <td>2015-02-17 01:30:00</td>\n    </tr>\n    <tr>\n      <th>440122</th>\n      <td>2007</td>\n      <td>NaN</td>\n      <td>NaN</td>\n      <td>NaN</td>\n      <td>NaN</td>\n      <td>automatic</td>\n      <td>salme15487a251642</td>\n      <td>ca</td>\n      <td>2.0</td>\n      <td>39545.0</td>\n      <td>black</td>\n      <td>black</td>\n      <td>hornburg jaguar</td>\n      <td>17750</td>\n      <td>2015-06-17 05:15:00</td>\n    </tr>\n    <tr>\n      <th>440144</th>\n      <td>2004</td>\n      <td>NaN</td>\n      <td>NaN</td>\n      <td>NaN</td>\n      <td>NaN</td>\n      <td>automatic</td>\n      <td>2c4gm68474r511987</td>\n      <td>oh</td>\n      <td>3.0</td>\n      <td>124679.0</td>\n      <td>gold</td>\n      <td>beige</td>\n      <td>credit acceptance corp/vrs/southfield</td>\n      <td>3200</td>\n      <td>2015-02-17 04:00:00</td>\n    </tr>\n  </tbody>\n</table>\n<p>7063 rows × 15 columns</p>\n</div>"
     },
     "execution_count": 645,
     "metadata": {},
     "output_type": "execute_result"
    }
   ],
   "source": [
    "# Находим пустые значения марок авто\n",
    "train.loc[train['make'] == 'Nan', 'make'] = np.nan\n",
    "train[train.make.isna()]"
   ],
   "metadata": {
    "collapsed": false
   }
  },
  {
   "cell_type": "code",
   "execution_count": 646,
   "outputs": [],
   "source": [
    "# Т.к все эти 7063 значений пустые - они создатут лишний шум в предсказаниях - удалим их\n",
    "train.dropna(subset=['make', 'model'], inplace=True)"
   ],
   "metadata": {
    "collapsed": false
   }
  },
  {
   "cell_type": "code",
   "execution_count": 647,
   "outputs": [
    {
     "data": {
      "text/plain": "Ford            18466\nChevrolet       11801\nNissan          10485\nToyota           7728\nDodge            6188\nHonda            5382\nHyundai          4410\nBmw              4136\nKia              3571\nMercedes         3471\nChrysler         3459\nJeep             3069\nInfiniti         3002\nVolkswagen       2515\nLexus            2430\nNan              2061\nGmc              2059\nMazda            1676\nCadillac         1496\nLincoln          1153\nAcura            1151\nAudi             1124\nBuick            1019\nSubaru           1015\nRam               889\nPontiac           866\nMitsubishi        806\nVolvo             765\nMini              674\nSaturn            544\nMercury           434\nLandrover         371\nScion             318\nJaguar            297\nPorsche           280\nSuzuki            222\nFiat              181\nHummer            174\nSaab               93\nOldsmobile         88\nSmart              81\nIsuzu              38\nBentley            23\nMaserati           21\nTesla               6\nPlymouth            4\nGeo                 3\nRolls-royce         3\nAston martin        2\nDaewoo              2\nFerrari             2\nFisker              2\nLotus               1\nChev truck          1\nName: make, dtype: int64"
     },
     "execution_count": 647,
     "metadata": {},
     "output_type": "execute_result"
    }
   ],
   "source": [
    "# Устраняем неявные дубликаты марок авто в тесте\n",
    "test['make'] = test['make'].str.lower().apply(make_unique).str.capitalize()\n",
    "test['make'].value_counts()"
   ],
   "metadata": {
    "collapsed": false
   }
  },
  {
   "cell_type": "code",
   "execution_count": 648,
   "outputs": [
    {
     "data": {
      "text/plain": "Sedan          188143\nSuv            108002\nPick-up         35205\nVan             24096\nHatchback       20015\nCoupe           14331\nWagon           12192\nConvertible      7630\nOther            2032\nName: body, dtype: int64"
     },
     "execution_count": 648,
     "metadata": {},
     "output_type": "execute_result"
    }
   ],
   "source": [
    "# Устраняем неявные дубликаты моделей авто в трейне\n",
    "train.loc[train['body'] == 'Nan', 'body'] = np.nan\n",
    "train['body'] = train['body'].str.lower().apply(body_unique).str.capitalize()\n",
    "train['body'] = train['body'].str.lower().apply(body_unique).str.capitalize()\n",
    "train['body'].value_counts()"
   ],
   "metadata": {
    "collapsed": false
   }
  },
  {
   "cell_type": "code",
   "execution_count": 649,
   "outputs": [
    {
     "data": {
      "text/plain": "Sedan          48970\nSuv            28295\nPick-up         9202\nVan             6414\nHatchback       5152\nCoupe           3995\nWagon           3287\nOther           2594\nConvertible     2149\nName: body, dtype: int64"
     },
     "execution_count": 649,
     "metadata": {},
     "output_type": "execute_result"
    }
   ],
   "source": [
    "# Устраняем неявные дубликаты моделей авто в тесте\n",
    "test['body'] = test['body'].str.lower().apply(body_unique).str.capitalize()\n",
    "test['body'] = test['body'].str.lower().apply(body_unique).str.capitalize()\n",
    "test['body'].value_counts()"
   ],
   "metadata": {
    "collapsed": false
   }
  },
  {
   "cell_type": "code",
   "execution_count": 650,
   "outputs": [
    {
     "data": {
      "text/plain": "Altima       15156\nF-150        10996\nFusion       10178\nCamry         9636\nEscape        9358\n             ...  \n42c              1\nGla-class        1\nSwift            1\n420-class        1\nG500             1\nName: model, Length: 780, dtype: int64"
     },
     "execution_count": 650,
     "metadata": {},
     "output_type": "execute_result"
    }
   ],
   "source": [
    "# Для упрощения исследования данных заменим оставшиеся значения на unknown\n",
    "train['model'] = train['model'].str.capitalize()\n",
    "train['model'].fillna(\"Unknown\", inplace=True)\n",
    "train['model'].value_counts()"
   ],
   "metadata": {
    "collapsed": false
   }
  },
  {
   "cell_type": "code",
   "execution_count": 651,
   "outputs": [
    {
     "data": {
      "text/plain": "Altima           3736\nF-150            2737\nFusion           2553\nCamry            2423\nEscape           2296\n                 ... \nExige               1\n1                   1\nC240w               1\nAccord hybrid       1\nCaprice             1\nName: model, Length: 747, dtype: int64"
     },
     "execution_count": 651,
     "metadata": {},
     "output_type": "execute_result"
    }
   ],
   "source": [
    "# Для упрощения исследования данных заменим оставшиеся значения на unknown\n",
    "test['model'] = test['model'].str.capitalize()\n",
    "test['model'].fillna(\"Unknown\", inplace=True)\n",
    "test['model'].value_counts()"
   ],
   "metadata": {
    "collapsed": false
   }
  },
  {
   "cell_type": "code",
   "execution_count": 652,
   "outputs": [
    {
     "data": {
      "text/plain": "Base                40852\nSe                  33548\nLx                  15772\nLimited             14111\nLt                  12946\n                    ...  \n4x2 ex xl               1\n4x2 v8 xlt              1\n10th anniversary        1\nSe premium              1\n4x4 v6 xlt sport        1\nName: trim, Length: 1719, dtype: int64"
     },
     "execution_count": 652,
     "metadata": {},
     "output_type": "execute_result"
    }
   ],
   "source": [
    "train['trim'] = train['trim'].str.capitalize()\n",
    "train['trim'].fillna(\"Unknown\", inplace=True)\n",
    "train['trim'].value_counts()"
   ],
   "metadata": {
    "collapsed": false
   }
  },
  {
   "cell_type": "code",
   "execution_count": 653,
   "outputs": [
    {
     "data": {
      "text/plain": "Base                11009\nSe                   8725\nLx                   4098\nLimited              3536\nLt                   3280\n                    ...  \n4wd s                   1\nHx                      1\nGr tr gr touring        1\nMr touring              1\nAwd xs ll bean          1\nName: trim, Length: 1458, dtype: int64"
     },
     "execution_count": 653,
     "metadata": {},
     "output_type": "execute_result"
    }
   ],
   "source": [
    "test['trim'] = test['trim'].str.capitalize()\n",
    "test['trim'].fillna(\"Unknown\", inplace=True)\n",
    "test['trim'].value_counts()"
   ],
   "metadata": {
    "collapsed": false
   }
  },
  {
   "cell_type": "code",
   "execution_count": 654,
   "outputs": [
    {
     "data": {
      "text/plain": "automatic    352103\nmanual        12263\nName: transmission, dtype: int64"
     },
     "execution_count": 654,
     "metadata": {},
     "output_type": "execute_result"
    }
   ],
   "source": [
    "train['transmission'].value_counts()"
   ],
   "metadata": {
    "collapsed": false
   }
  },
  {
   "cell_type": "code",
   "execution_count": 656,
   "outputs": [
    {
     "data": {
      "text/plain": "automatic    390857\nmanual        14376\nUnknown        6413\nName: transmission, dtype: int64"
     },
     "execution_count": 656,
     "metadata": {},
     "output_type": "execute_result"
    }
   ],
   "source": [
    "# В трансмиссии слишком много пропущенных значений, поэтому постараемся с помощью группировки значенией найти утраченные данные. Оставшиеся заменим на Unknown\n",
    "train['transmission'].fillna(\n",
    "    train.groupby(['make', 'model'])['transmission'].transform(\n",
    "        lambda x: x.fillna(x.iloc[round(len(x) / 2)])\n",
    "    ),\n",
    "    inplace=True\n",
    ")  # Думаю, что это можно удалить\n",
    "train['transmission'].fillna(\"Unknown\", inplace=True)\n",
    "train['transmission'].value_counts()"
   ],
   "metadata": {
    "collapsed": false
   }
  },
  {
   "cell_type": "code",
   "execution_count": 657,
   "outputs": [
    {
     "data": {
      "text/plain": "automatic    93584\nmanual        3463\nName: transmission, dtype: int64"
     },
     "execution_count": 657,
     "metadata": {},
     "output_type": "execute_result"
    }
   ],
   "source": [
    "test['transmission'].value_counts()"
   ],
   "metadata": {
    "collapsed": false
   }
  },
  {
   "cell_type": "code",
   "execution_count": 658,
   "outputs": [
    {
     "data": {
      "text/plain": "automatic    105196\nmanual         3867\nUnknown         995\nName: transmission, dtype: int64"
     },
     "execution_count": 658,
     "metadata": {},
     "output_type": "execute_result"
    }
   ],
   "source": [
    "#  Повторим процедуру для теста, но на основании данных ТРЕЙНА\n",
    "test['transmission'].fillna(\n",
    "    train.groupby(['make', 'model'])['transmission'].transform(\n",
    "        lambda x: x.fillna(x.iloc[round(len(x) / 2)])\n",
    "    ),\n",
    "    inplace=True\n",
    ")\n",
    "test['transmission'].fillna(\"Unknown\", inplace=True)\n",
    "test['transmission'].value_counts()"
   ],
   "metadata": {
    "collapsed": false
   }
  },
  {
   "cell_type": "code",
   "execution_count": 659,
   "outputs": [
    {
     "data": {
      "text/plain": "black        81395\nwhite        78034\ngray         62250\nsilver       61948\nblue         37675\nred          32300\n—            19075\ngold          7973\ngreen         7662\nburgundy      6603\nbeige         6573\nbrown         4994\norange        1505\npurple        1126\noff-white     1091\nyellow         868\ncharcoal       366\nturquoise      166\npink            28\nlime            14\nName: color, dtype: int64"
     },
     "execution_count": 659,
     "metadata": {},
     "output_type": "execute_result"
    }
   ],
   "source": [
    "#  Пропущенные значения в цвете заменим на прочерк - он мало влияет на цену авто\n",
    "train['color'].fillna(\"—\", inplace=True)\n",
    "train['color'].value_counts()"
   ],
   "metadata": {
    "collapsed": false
   }
  },
  {
   "cell_type": "code",
   "execution_count": 660,
   "outputs": [
    {
     "data": {
      "text/plain": "black        22006\nwhite        20928\nsilver       16360\ngray         16348\nblue         10180\nred           8384\n—             5106\ngreen         2270\ngold          2207\nbeige         1826\nburgundy      1759\nbrown         1300\norange         407\npurple         284\noff-white      275\nyellow         274\ncharcoal        84\nturquoise       49\npink            10\nlime             1\nName: color, dtype: int64"
     },
     "execution_count": 660,
     "metadata": {},
     "output_type": "execute_result"
    }
   ],
   "source": [
    "test['color'].fillna(\"—\", inplace=True)\n",
    "test['color'].value_counts()"
   ],
   "metadata": {
    "collapsed": false
   }
  },
  {
   "cell_type": "code",
   "execution_count": 661,
   "outputs": [
    {
     "data": {
      "text/plain": "black        182809\ngray         131234\nbeige         43706\ntan           31878\n—             12253\nbrown          5995\nred             892\nsilver          798\nblue            646\noff-white       358\npurple          240\ngold            234\nwhite           195\ngreen           172\nburgundy        130\norange           93\nyellow           13\nName: interior, dtype: int64"
     },
     "execution_count": 661,
     "metadata": {},
     "output_type": "execute_result"
    }
   ],
   "source": [
    "#  Пропущенные значения в интерьере заменим на прочерк - он мало влияет на цену авто\n",
    "train['interior'].fillna(\"—\", inplace=True)\n",
    "train['interior'].value_counts()"
   ],
   "metadata": {
    "collapsed": false
   }
  },
  {
   "cell_type": "code",
   "execution_count": 662,
   "outputs": [
    {
     "data": {
      "text/plain": "black        48176\ngray         34984\nbeige        11931\ntan           8658\n—             3538\nbrown         1664\nred            264\nblue           241\nsilver         225\noff-white      107\ngold            64\npurple          58\ngreen           44\nburgundy        34\norange          33\nwhite           33\nyellow           4\nName: interior, dtype: int64"
     },
     "execution_count": 662,
     "metadata": {},
     "output_type": "execute_result"
    }
   ],
   "source": [
    "test['interior'].fillna(\"—\", inplace=True)\n",
    "test['interior'].value_counts()"
   ],
   "metadata": {
    "collapsed": false
   }
  },
  {
   "cell_type": "code",
   "execution_count": 663,
   "outputs": [
    {
     "data": {
      "text/plain": "4.0    135095\n3.0    135008\n2.0    100262\n1.0     33950\n5.0      7164\n2.5        90\n1.5        63\n3.5        14\nName: condition, dtype: Int64"
     },
     "execution_count": 663,
     "metadata": {},
     "output_type": "execute_result"
    }
   ],
   "source": [
    "#  Постараемся максимально точно оценить состояние авто, т.к. от него зависит большая часть ценв автомобиля\n",
    "train['condition'].fillna(train.groupby(['make', 'body', 'trim', 'model'])['condition'].transform('median'), inplace=True)\n",
    "train['condition'].fillna(train.groupby(['make'])['condition'].transform('median'), inplace=True)\n",
    "train['condition'] = np.round(train['condition'], decimals = 1)\n",
    "train['condition'].value_counts()"
   ],
   "metadata": {
    "collapsed": false
   }
  },
  {
   "cell_type": "code",
   "execution_count": 664,
   "outputs": [],
   "source": [
    "test['condition'].fillna(train.groupby(['make', 'body', 'trim', 'model'])['condition'].transform('median'), inplace=True)\n",
    "test['condition'].fillna(train.groupby(['make'])['condition'].transform('median'), inplace=True)\n",
    "test['condition'].fillna(train['condition'].median(), inplace=True)"
   ],
   "metadata": {
    "collapsed": false
   }
  },
  {
   "cell_type": "code",
   "execution_count": 666,
   "outputs": [
    {
     "data": {
      "text/plain": "4.0    35805\n3.0    35337\n2.0    26526\n1.0    10153\n5.0     2218\n2.5        9\n3.5        7\n1.5        3\nName: condition, dtype: Int64"
     },
     "execution_count": 666,
     "metadata": {},
     "output_type": "execute_result"
    }
   ],
   "source": [
    "test['condition'].value_counts()"
   ],
   "metadata": {
    "collapsed": false
   }
  },
  {
   "cell_type": "code",
   "execution_count": 667,
   "outputs": [],
   "source": [
    "#  Показания одометра не менее важны, чем состояние автомобиля\n",
    "train['odometer'].fillna(train.groupby(['make', 'body', 'model'])['odometer'].transform('mean'), inplace=True)"
   ],
   "metadata": {
    "collapsed": false
   }
  },
  {
   "cell_type": "code",
   "execution_count": 668,
   "outputs": [],
   "source": [
    "test['odometer'].fillna(train.groupby(['make', 'body', 'model'])['odometer'].transform('mean'), inplace=True)\n",
    "test['odometer'].fillna(train['odometer'].mean(), inplace=True)"
   ],
   "metadata": {
    "collapsed": false
   }
  },
  {
   "cell_type": "code",
   "execution_count": 669,
   "outputs": [
    {
     "data": {
      "text/plain": "year            0\nmake            0\nmodel           0\ntrim            0\nbody            0\ntransmission    0\nvin             0\nstate           0\ncondition       0\nodometer        0\ncolor           0\ninterior        0\nseller          0\nsellingprice    0\nsaledate        0\ndtype: int64"
     },
     "execution_count": 669,
     "metadata": {},
     "output_type": "execute_result"
    }
   ],
   "source": [
    "train.isna().sum()"
   ],
   "metadata": {
    "collapsed": false
   }
  },
  {
   "cell_type": "code",
   "execution_count": 670,
   "outputs": [
    {
     "data": {
      "text/plain": "year            0\nmake            0\nmodel           0\ntrim            0\nbody            0\ntransmission    0\nvin             0\nstate           0\ncondition       0\nodometer        0\ncolor           0\ninterior        0\nseller          0\nsaledate        0\ndtype: int64"
     },
     "execution_count": 670,
     "metadata": {},
     "output_type": "execute_result"
    }
   ],
   "source": [
    "test.isna().sum()"
   ],
   "metadata": {
    "collapsed": false
   }
  },
  {
   "cell_type": "code",
   "execution_count": 696,
   "outputs": [
    {
     "data": {
      "text/plain": "6.521274952525463"
     },
     "execution_count": 696,
     "metadata": {},
     "output_type": "execute_result"
    }
   ],
   "source": [
    "#  Посчитаем итоговую потерю в данных, оно не должно составить более 10% от общего значения\n",
    "train_losses = abs(train.shape[0] - raw_train.shape[0]) / raw_train.shape[0] * 100\n",
    "display(f\"Общие потери данных в процентах: {train_losses}%\")"
   ],
   "metadata": {
    "collapsed": false
   }
  },
  {
   "cell_type": "markdown",
   "source": [
    "Выводы: В итоге предобработки данных были устранены все пропущенные значения, явные выбросы и форматы некоторых колонок. Итоговая потеря данных составила около 7%, что не повредит дальнейшей работе."
   ],
   "metadata": {
    "collapsed": false
   }
  },
  {
   "cell_type": "markdown",
   "source": [
    "# Добавление синтетических данных"
   ],
   "metadata": {
    "collapsed": false
   }
  },
  {
   "cell_type": "markdown",
   "source": [
    "В исходном датафреме есть колонка - saledate, которая сама по себе не несёт полезной информации для модели. Однако, её можно разбить на такие составляющие как:\n",
    "1) Год продажи\n",
    "2) Месяц продажи\n",
    "3) День недели продажи\n",
    "Также исходя из этой даты можно высчитать суммарный возраст автомобиля.\n",
    "После преобразований данную колонку стоит удалить за ненадобностью. Колонки VIN и SELLER также подлежат удалению."
   ],
   "metadata": {
    "collapsed": false
   }
  },
  {
   "cell_type": "code",
   "execution_count": 671,
   "outputs": [],
   "source": [
    "#  Добавим колонки, связанные с датой продажи\n",
    "train['saledate_week_day'] = train['saledate'].dt.weekday\n",
    "train['saledate_month'] = train['saledate'].dt.month\n",
    "train['saledate_year'] = train['saledate'].dt.year\n",
    "train['car_age'] = train['saledate'].dt.year - train['year']"
   ],
   "metadata": {
    "collapsed": false
   }
  },
  {
   "cell_type": "code",
   "execution_count": 672,
   "outputs": [],
   "source": [
    "# Проявились стодцы с отрицательным возрастом - заменим возраст на нулевой и уменьшим год создания авто.\n",
    "train.loc[train[\"car_age\"] < 0, \"year\"] -= int(train[\"car_age\"])\n",
    "train.loc[train[\"car_age\"] < 0, \"car_age\"] = 0"
   ],
   "metadata": {
    "collapsed": false
   }
  },
  {
   "cell_type": "code",
   "execution_count": 673,
   "outputs": [],
   "source": [
    "test['saledate_week_day'] = test['saledate'].dt.weekday\n",
    "test['saledate_month'] = test['saledate'].dt.month\n",
    "test['saledate_year'] = test['saledate'].dt.year\n",
    "test['car_age'] = test['saledate'].dt.year - test['year']"
   ],
   "metadata": {
    "collapsed": false
   }
  },
  {
   "cell_type": "code",
   "execution_count": 674,
   "outputs": [],
   "source": [
    "train.drop(columns=[\n",
    "    'vin',\n",
    "    'seller',\n",
    "    'saledate'\n",
    "], inplace=True)"
   ],
   "metadata": {
    "collapsed": false
   }
  },
  {
   "cell_type": "code",
   "execution_count": 675,
   "outputs": [],
   "source": [
    "test.drop(columns=[\n",
    "    'vin',\n",
    "    'seller',\n",
    "    'saledate'\n",
    "], inplace=True)"
   ],
   "metadata": {
    "collapsed": false
   }
  },
  {
   "cell_type": "code",
   "execution_count": 676,
   "outputs": [
    {
     "name": "stderr",
     "output_type": "stream",
     "text": [
      "C:\\Users\\APMuravev\\AppData\\Local\\Temp\\ipykernel_8720\\4185598760.py:1: FutureWarning: The default value of numeric_only in DataFrame.corr is deprecated. In a future version, it will default to False. Select only valid columns or specify the value of numeric_only to silence this warning.\n",
      "  corr = train.corr()\n"
     ]
    },
    {
     "data": {
      "text/plain": "<pandas.io.formats.style.Styler at 0x242e32cf110>",
      "text/html": "<style type=\"text/css\">\n#T_e70cc_row0_col0, #T_e70cc_row1_col1, #T_e70cc_row2_col2, #T_e70cc_row3_col3, #T_e70cc_row4_col4, #T_e70cc_row5_col5, #T_e70cc_row6_col6, #T_e70cc_row7_col7 {\n  background-color: #b40426;\n  color: #f1f1f1;\n}\n#T_e70cc_row0_col1 {\n  background-color: #f7b497;\n  color: #000000;\n}\n#T_e70cc_row0_col2, #T_e70cc_row0_col7, #T_e70cc_row2_col1, #T_e70cc_row2_col3, #T_e70cc_row2_col4, #T_e70cc_row5_col6, #T_e70cc_row6_col5, #T_e70cc_row7_col0 {\n  background-color: #3b4cc0;\n  color: #f1f1f1;\n}\n#T_e70cc_row0_col3 {\n  background-color: #f29072;\n  color: #f1f1f1;\n}\n#T_e70cc_row0_col4, #T_e70cc_row2_col0 {\n  background-color: #5977e3;\n  color: #f1f1f1;\n}\n#T_e70cc_row0_col5 {\n  background-color: #c7d7f0;\n  color: #000000;\n}\n#T_e70cc_row0_col6, #T_e70cc_row4_col0 {\n  background-color: #e1dad6;\n  color: #000000;\n}\n#T_e70cc_row1_col0 {\n  background-color: #f39778;\n  color: #000000;\n}\n#T_e70cc_row1_col2 {\n  background-color: #6b8df0;\n  color: #f1f1f1;\n}\n#T_e70cc_row1_col3 {\n  background-color: #f7a688;\n  color: #000000;\n}\n#T_e70cc_row1_col4 {\n  background-color: #5a78e4;\n  color: #f1f1f1;\n}\n#T_e70cc_row1_col5, #T_e70cc_row3_col5 {\n  background-color: #c9d7f0;\n  color: #000000;\n}\n#T_e70cc_row1_col6, #T_e70cc_row4_col7 {\n  background-color: #d8dce2;\n  color: #000000;\n}\n#T_e70cc_row1_col7 {\n  background-color: #8badfd;\n  color: #000000;\n}\n#T_e70cc_row2_col5, #T_e70cc_row6_col7 {\n  background-color: #d7dce3;\n  color: #000000;\n}\n#T_e70cc_row2_col6 {\n  background-color: #c0d4f5;\n  color: #000000;\n}\n#T_e70cc_row2_col7 {\n  background-color: #d75445;\n  color: #f1f1f1;\n}\n#T_e70cc_row3_col0 {\n  background-color: #ec7f63;\n  color: #f1f1f1;\n}\n#T_e70cc_row3_col1 {\n  background-color: #f7af91;\n  color: #000000;\n}\n#T_e70cc_row3_col2 {\n  background-color: #5572df;\n  color: #f1f1f1;\n}\n#T_e70cc_row3_col4 {\n  background-color: #6788ee;\n  color: #f1f1f1;\n}\n#T_e70cc_row3_col6 {\n  background-color: #dcdddd;\n  color: #000000;\n}\n#T_e70cc_row3_col7 {\n  background-color: #779af7;\n  color: #f1f1f1;\n}\n#T_e70cc_row4_col1 {\n  background-color: #b6cefa;\n  color: #000000;\n}\n#T_e70cc_row4_col2 {\n  background-color: #c3d5f4;\n  color: #000000;\n}\n#T_e70cc_row4_col3 {\n  background-color: #ccd9ed;\n  color: #000000;\n}\n#T_e70cc_row4_col5 {\n  background-color: #cedaeb;\n  color: #000000;\n}\n#T_e70cc_row4_col6, #T_e70cc_row5_col2 {\n  background-color: #d5dbe5;\n  color: #000000;\n}\n#T_e70cc_row5_col0 {\n  background-color: #d6dce4;\n  color: #000000;\n}\n#T_e70cc_row5_col1 {\n  background-color: #a3c2fe;\n  color: #000000;\n}\n#T_e70cc_row5_col3 {\n  background-color: #b3cdfb;\n  color: #000000;\n}\n#T_e70cc_row5_col4 {\n  background-color: #4a63d3;\n  color: #f1f1f1;\n}\n#T_e70cc_row5_col7 {\n  background-color: #dadce0;\n  color: #000000;\n}\n#T_e70cc_row6_col0 {\n  background-color: #ebd3c6;\n  color: #000000;\n}\n#T_e70cc_row6_col1 {\n  background-color: #bad0f8;\n  color: #000000;\n}\n#T_e70cc_row6_col2 {\n  background-color: #bed2f6;\n  color: #000000;\n}\n#T_e70cc_row6_col3, #T_e70cc_row7_col5 {\n  background-color: #cdd9ec;\n  color: #000000;\n}\n#T_e70cc_row6_col4 {\n  background-color: #5875e1;\n  color: #f1f1f1;\n}\n#T_e70cc_row7_col1, #T_e70cc_row7_col3 {\n  background-color: #3d50c3;\n  color: #f1f1f1;\n}\n#T_e70cc_row7_col2 {\n  background-color: #d95847;\n  color: #f1f1f1;\n}\n#T_e70cc_row7_col4 {\n  background-color: #4358cb;\n  color: #f1f1f1;\n}\n#T_e70cc_row7_col6 {\n  background-color: #cad8ef;\n  color: #000000;\n}\n</style>\n<table id=\"T_e70cc\">\n  <thead>\n    <tr>\n      <th class=\"blank level0\" >&nbsp;</th>\n      <th id=\"T_e70cc_level0_col0\" class=\"col_heading level0 col0\" >year</th>\n      <th id=\"T_e70cc_level0_col1\" class=\"col_heading level0 col1\" >condition</th>\n      <th id=\"T_e70cc_level0_col2\" class=\"col_heading level0 col2\" >odometer</th>\n      <th id=\"T_e70cc_level0_col3\" class=\"col_heading level0 col3\" >sellingprice</th>\n      <th id=\"T_e70cc_level0_col4\" class=\"col_heading level0 col4\" >saledate_week_day</th>\n      <th id=\"T_e70cc_level0_col5\" class=\"col_heading level0 col5\" >saledate_month</th>\n      <th id=\"T_e70cc_level0_col6\" class=\"col_heading level0 col6\" >saledate_year</th>\n      <th id=\"T_e70cc_level0_col7\" class=\"col_heading level0 col7\" >car_age</th>\n    </tr>\n  </thead>\n  <tbody>\n    <tr>\n      <th id=\"T_e70cc_level0_row0\" class=\"row_heading level0 row0\" >year</th>\n      <td id=\"T_e70cc_row0_col0\" class=\"data row0 col0\" >1.000000</td>\n      <td id=\"T_e70cc_row0_col1\" class=\"data row0 col1\" >0.508862</td>\n      <td id=\"T_e70cc_row0_col2\" class=\"data row0 col2\" >-0.798946</td>\n      <td id=\"T_e70cc_row0_col3\" class=\"data row0 col3\" >0.623056</td>\n      <td id=\"T_e70cc_row0_col4\" class=\"data row0 col4\" >0.037478</td>\n      <td id=\"T_e70cc_row0_col5\" class=\"data row0 col5\" >-0.051611</td>\n      <td id=\"T_e70cc_row0_col6\" class=\"data row0 col6\" >0.120227</td>\n      <td id=\"T_e70cc_row0_col7\" class=\"data row0 col7\" >-0.996741</td>\n    </tr>\n    <tr>\n      <th id=\"T_e70cc_level0_row1\" class=\"row_heading level0 row1\" >condition</th>\n      <td id=\"T_e70cc_row1_col0\" class=\"data row1 col0\" >0.508862</td>\n      <td id=\"T_e70cc_row1_col1\" class=\"data row1 col1\" >1.000000</td>\n      <td id=\"T_e70cc_row1_col2\" class=\"data row1 col2\" >-0.520938</td>\n      <td id=\"T_e70cc_row1_col3\" class=\"data row1 col3\" >0.536338</td>\n      <td id=\"T_e70cc_row1_col4\" class=\"data row1 col4\" >0.041071</td>\n      <td id=\"T_e70cc_row1_col5\" class=\"data row1 col5\" >-0.042328</td>\n      <td id=\"T_e70cc_row1_col6\" class=\"data row1 col6\" >0.059065</td>\n      <td id=\"T_e70cc_row1_col7\" class=\"data row1 col7\" >-0.507375</td>\n    </tr>\n    <tr>\n      <th id=\"T_e70cc_level0_row2\" class=\"row_heading level0 row2\" >odometer</th>\n      <td id=\"T_e70cc_row2_col0\" class=\"data row2 col0\" >-0.798946</td>\n      <td id=\"T_e70cc_row2_col1\" class=\"data row2 col1\" >-0.520938</td>\n      <td id=\"T_e70cc_row2_col2\" class=\"data row2 col2\" >1.000000</td>\n      <td id=\"T_e70cc_row2_col3\" class=\"data row2 col3\" >-0.637709</td>\n      <td id=\"T_e70cc_row2_col4\" class=\"data row2 col4\" >-0.067522</td>\n      <td id=\"T_e70cc_row2_col5\" class=\"data row2 col5\" >0.047975</td>\n      <td id=\"T_e70cc_row2_col6\" class=\"data row2 col6\" >-0.093274</td>\n      <td id=\"T_e70cc_row2_col7\" class=\"data row2 col7\" >0.796568</td>\n    </tr>\n    <tr>\n      <th id=\"T_e70cc_level0_row3\" class=\"row_heading level0 row3\" >sellingprice</th>\n      <td id=\"T_e70cc_row3_col0\" class=\"data row3 col0\" >0.623056</td>\n      <td id=\"T_e70cc_row3_col1\" class=\"data row3 col1\" >0.536338</td>\n      <td id=\"T_e70cc_row3_col2\" class=\"data row3 col2\" >-0.637709</td>\n      <td id=\"T_e70cc_row3_col3\" class=\"data row3 col3\" >1.000000</td>\n      <td id=\"T_e70cc_row3_col4\" class=\"data row3 col4\" >0.085091</td>\n      <td id=\"T_e70cc_row3_col5\" class=\"data row3 col5\" >-0.044041</td>\n      <td id=\"T_e70cc_row3_col6\" class=\"data row3 col6\" >0.087246</td>\n      <td id=\"T_e70cc_row3_col7\" class=\"data row3 col7\" >-0.620022</td>\n    </tr>\n    <tr>\n      <th id=\"T_e70cc_level0_row4\" class=\"row_heading level0 row4\" >saledate_week_day</th>\n      <td id=\"T_e70cc_row4_col0\" class=\"data row4 col0\" >0.037478</td>\n      <td id=\"T_e70cc_row4_col1\" class=\"data row4 col1\" >0.041071</td>\n      <td id=\"T_e70cc_row4_col2\" class=\"data row4 col2\" >-0.067522</td>\n      <td id=\"T_e70cc_row4_col3\" class=\"data row4 col3\" >0.085091</td>\n      <td id=\"T_e70cc_row4_col4\" class=\"data row4 col4\" >1.000000</td>\n      <td id=\"T_e70cc_row4_col5\" class=\"data row4 col5\" >-0.009678</td>\n      <td id=\"T_e70cc_row4_col6\" class=\"data row4 col6\" >0.033359</td>\n      <td id=\"T_e70cc_row4_col7\" class=\"data row4 col7\" >-0.035012</td>\n    </tr>\n    <tr>\n      <th id=\"T_e70cc_level0_row5\" class=\"row_heading level0 row5\" >saledate_month</th>\n      <td id=\"T_e70cc_row5_col0\" class=\"data row5 col0\" >-0.051611</td>\n      <td id=\"T_e70cc_row5_col1\" class=\"data row5 col1\" >-0.042328</td>\n      <td id=\"T_e70cc_row5_col2\" class=\"data row5 col2\" >0.047975</td>\n      <td id=\"T_e70cc_row5_col3\" class=\"data row5 col3\" >-0.044041</td>\n      <td id=\"T_e70cc_row5_col4\" class=\"data row5 col4\" >-0.009678</td>\n      <td id=\"T_e70cc_row5_col5\" class=\"data row5 col5\" >1.000000</td>\n      <td id=\"T_e70cc_row5_col6\" class=\"data row5 col6\" >-0.823862</td>\n      <td id=\"T_e70cc_row5_col7\" class=\"data row5 col7\" >-0.014999</td>\n    </tr>\n    <tr>\n      <th id=\"T_e70cc_level0_row6\" class=\"row_heading level0 row6\" >saledate_year</th>\n      <td id=\"T_e70cc_row6_col0\" class=\"data row6 col0\" >0.120227</td>\n      <td id=\"T_e70cc_row6_col1\" class=\"data row6 col1\" >0.059065</td>\n      <td id=\"T_e70cc_row6_col2\" class=\"data row6 col2\" >-0.093274</td>\n      <td id=\"T_e70cc_row6_col3\" class=\"data row6 col3\" >0.087246</td>\n      <td id=\"T_e70cc_row6_col4\" class=\"data row6 col4\" >0.033359</td>\n      <td id=\"T_e70cc_row6_col5\" class=\"data row6 col5\" >-0.823862</td>\n      <td id=\"T_e70cc_row6_col6\" class=\"data row6 col6\" >1.000000</td>\n      <td id=\"T_e70cc_row6_col7\" class=\"data row6 col7\" >-0.039750</td>\n    </tr>\n    <tr>\n      <th id=\"T_e70cc_level0_row7\" class=\"row_heading level0 row7\" >car_age</th>\n      <td id=\"T_e70cc_row7_col0\" class=\"data row7 col0\" >-0.996741</td>\n      <td id=\"T_e70cc_row7_col1\" class=\"data row7 col1\" >-0.507375</td>\n      <td id=\"T_e70cc_row7_col2\" class=\"data row7 col2\" >0.796568</td>\n      <td id=\"T_e70cc_row7_col3\" class=\"data row7 col3\" >-0.620022</td>\n      <td id=\"T_e70cc_row7_col4\" class=\"data row7 col4\" >-0.035012</td>\n      <td id=\"T_e70cc_row7_col5\" class=\"data row7 col5\" >-0.014999</td>\n      <td id=\"T_e70cc_row7_col6\" class=\"data row7 col6\" >-0.039750</td>\n      <td id=\"T_e70cc_row7_col7\" class=\"data row7 col7\" >1.000000</td>\n    </tr>\n  </tbody>\n</table>\n"
     },
     "execution_count": 676,
     "metadata": {},
     "output_type": "execute_result"
    }
   ],
   "source": [
    "#  Проверим корреляции получившихся столбцов\n",
    "corr = train.corr()\n",
    "corr.style.background_gradient(cmap='coolwarm')"
   ],
   "metadata": {
    "collapsed": false
   }
  },
  {
   "cell_type": "markdown",
   "source": [
    "В данном подпункте были добавлены 4 столбцов в синтетическими данными - год, месяц и день недели продажи авто. Также полный возраст авто, устранены аномалии в возрасте авто. Доказана мультиколлинеарность данных."
   ],
   "metadata": {
    "collapsed": false
   }
  },
  {
   "cell_type": "markdown",
   "source": [
    "# Подбор и обучение моделей машинного обучения"
   ],
   "metadata": {
    "collapsed": false
   }
  },
  {
   "cell_type": "markdown",
   "source": [
    "Для решения задачи обучения оптимальной модели потребуется:\n",
    "1) выполнить кодирование категориальных значений\n",
    "2) произвести уравнивание (скейлинг) данных\n",
    "3) подобрать оптимальные гиперпараметры модели\n",
    "4) произвести кроссвалидацию модели\n",
    "\n",
    "Для решения задачи регрессии достаточно порядково кодировать категориальные переменные, для этого необходим OrdinalEncoder.\n",
    "Для уравнивания данных используем StandardScaler.\n",
    "Чтобы обучить оптимальную модель, следует подобрать её параметры. Для такого большого датафрейма подойдет  RandomizedSearchCV ввиду быстроты выполнения."
   ],
   "metadata": {
    "collapsed": false
   }
  },
  {
   "cell_type": "code",
   "execution_count": 677,
   "outputs": [],
   "source": [
    "# Разобьём данные трейна на таргет и данные для обучения\n",
    "target_train = train['sellingprice']\n",
    "features_train = train.drop(['sellingprice'], axis=1)"
   ],
   "metadata": {
    "collapsed": false
   }
  },
  {
   "cell_type": "code",
   "execution_count": 679,
   "outputs": [],
   "source": [
    "features_test = test"
   ],
   "metadata": {
    "collapsed": false
   }
  },
  {
   "cell_type": "code",
   "execution_count": 680,
   "outputs": [],
   "source": [
    "# Выявим количественные и категориальные колонки\n",
    "categorical_columns = list(filter(lambda column: is_string_dtype(features_train[column]), features_train.columns))\n",
    "numeric_columns = list(filter(lambda column: not is_string_dtype(features_train[column]), features_train.columns))"
   ],
   "metadata": {
    "collapsed": false
   }
  },
  {
   "cell_type": "code",
   "execution_count": 681,
   "outputs": [
    {
     "data": {
      "text/plain": "['make', 'model', 'trim', 'body', 'transmission', 'state', 'color', 'interior']"
     },
     "execution_count": 681,
     "metadata": {},
     "output_type": "execute_result"
    }
   ],
   "source": [
    "categorical_columns"
   ],
   "metadata": {
    "collapsed": false
   }
  },
  {
   "cell_type": "code",
   "execution_count": 682,
   "outputs": [
    {
     "data": {
      "text/plain": "OrdinalEncoder(handle_unknown='use_encoded_value', unknown_value=-1)",
      "text/html": "<style>#sk-container-id-5 {color: black;background-color: white;}#sk-container-id-5 pre{padding: 0;}#sk-container-id-5 div.sk-toggleable {background-color: white;}#sk-container-id-5 label.sk-toggleable__label {cursor: pointer;display: block;width: 100%;margin-bottom: 0;padding: 0.3em;box-sizing: border-box;text-align: center;}#sk-container-id-5 label.sk-toggleable__label-arrow:before {content: \"▸\";float: left;margin-right: 0.25em;color: #696969;}#sk-container-id-5 label.sk-toggleable__label-arrow:hover:before {color: black;}#sk-container-id-5 div.sk-estimator:hover label.sk-toggleable__label-arrow:before {color: black;}#sk-container-id-5 div.sk-toggleable__content {max-height: 0;max-width: 0;overflow: hidden;text-align: left;background-color: #f0f8ff;}#sk-container-id-5 div.sk-toggleable__content pre {margin: 0.2em;color: black;border-radius: 0.25em;background-color: #f0f8ff;}#sk-container-id-5 input.sk-toggleable__control:checked~div.sk-toggleable__content {max-height: 200px;max-width: 100%;overflow: auto;}#sk-container-id-5 input.sk-toggleable__control:checked~label.sk-toggleable__label-arrow:before {content: \"▾\";}#sk-container-id-5 div.sk-estimator input.sk-toggleable__control:checked~label.sk-toggleable__label {background-color: #d4ebff;}#sk-container-id-5 div.sk-label input.sk-toggleable__control:checked~label.sk-toggleable__label {background-color: #d4ebff;}#sk-container-id-5 input.sk-hidden--visually {border: 0;clip: rect(1px 1px 1px 1px);clip: rect(1px, 1px, 1px, 1px);height: 1px;margin: -1px;overflow: hidden;padding: 0;position: absolute;width: 1px;}#sk-container-id-5 div.sk-estimator {font-family: monospace;background-color: #f0f8ff;border: 1px dotted black;border-radius: 0.25em;box-sizing: border-box;margin-bottom: 0.5em;}#sk-container-id-5 div.sk-estimator:hover {background-color: #d4ebff;}#sk-container-id-5 div.sk-parallel-item::after {content: \"\";width: 100%;border-bottom: 1px solid gray;flex-grow: 1;}#sk-container-id-5 div.sk-label:hover label.sk-toggleable__label {background-color: #d4ebff;}#sk-container-id-5 div.sk-serial::before {content: \"\";position: absolute;border-left: 1px solid gray;box-sizing: border-box;top: 0;bottom: 0;left: 50%;z-index: 0;}#sk-container-id-5 div.sk-serial {display: flex;flex-direction: column;align-items: center;background-color: white;padding-right: 0.2em;padding-left: 0.2em;position: relative;}#sk-container-id-5 div.sk-item {position: relative;z-index: 1;}#sk-container-id-5 div.sk-parallel {display: flex;align-items: stretch;justify-content: center;background-color: white;position: relative;}#sk-container-id-5 div.sk-item::before, #sk-container-id-5 div.sk-parallel-item::before {content: \"\";position: absolute;border-left: 1px solid gray;box-sizing: border-box;top: 0;bottom: 0;left: 50%;z-index: -1;}#sk-container-id-5 div.sk-parallel-item {display: flex;flex-direction: column;z-index: 1;position: relative;background-color: white;}#sk-container-id-5 div.sk-parallel-item:first-child::after {align-self: flex-end;width: 50%;}#sk-container-id-5 div.sk-parallel-item:last-child::after {align-self: flex-start;width: 50%;}#sk-container-id-5 div.sk-parallel-item:only-child::after {width: 0;}#sk-container-id-5 div.sk-dashed-wrapped {border: 1px dashed gray;margin: 0 0.4em 0.5em 0.4em;box-sizing: border-box;padding-bottom: 0.4em;background-color: white;}#sk-container-id-5 div.sk-label label {font-family: monospace;font-weight: bold;display: inline-block;line-height: 1.2em;}#sk-container-id-5 div.sk-label-container {text-align: center;}#sk-container-id-5 div.sk-container {/* jupyter's `normalize.less` sets `[hidden] { display: none; }` but bootstrap.min.css set `[hidden] { display: none !important; }` so we also need the `!important` here to be able to override the default hidden behavior on the sphinx rendered scikit-learn.org. See: https://github.com/scikit-learn/scikit-learn/issues/21755 */display: inline-block !important;position: relative;}#sk-container-id-5 div.sk-text-repr-fallback {display: none;}</style><div id=\"sk-container-id-5\" class=\"sk-top-container\"><div class=\"sk-text-repr-fallback\"><pre>OrdinalEncoder(handle_unknown=&#x27;use_encoded_value&#x27;, unknown_value=-1)</pre><b>In a Jupyter environment, please rerun this cell to show the HTML representation or trust the notebook. <br />On GitHub, the HTML representation is unable to render, please try loading this page with nbviewer.org.</b></div><div class=\"sk-container\" hidden><div class=\"sk-item\"><div class=\"sk-estimator sk-toggleable\"><input class=\"sk-toggleable__control sk-hidden--visually\" id=\"sk-estimator-id-5\" type=\"checkbox\" checked><label for=\"sk-estimator-id-5\" class=\"sk-toggleable__label sk-toggleable__label-arrow\">OrdinalEncoder</label><div class=\"sk-toggleable__content\"><pre>OrdinalEncoder(handle_unknown=&#x27;use_encoded_value&#x27;, unknown_value=-1)</pre></div></div></div></div></div>"
     },
     "execution_count": 682,
     "metadata": {},
     "output_type": "execute_result"
    }
   ],
   "source": [
    "# Создадим и обучим на трейне декодер. Неизвестные категориальные значения из теста будем менять на -1\n",
    "encoder = OrdinalEncoder(handle_unknown='use_encoded_value', unknown_value=-1)\n",
    "encoder.fit(features_train[categorical_columns])"
   ],
   "metadata": {
    "collapsed": false
   }
  },
  {
   "cell_type": "code",
   "execution_count": 683,
   "outputs": [
    {
     "data": {
      "text/plain": "(411527, 8)"
     },
     "execution_count": 683,
     "metadata": {},
     "output_type": "execute_result"
    }
   ],
   "source": [
    "#  Кодируем трейн\n",
    "features_train_encoded = pd.DataFrame(\n",
    "    encoder.transform(features_train[categorical_columns]), # .toarray()\n",
    "    columns=encoder.get_feature_names_out(categorical_columns),\n",
    "    index=features_train.index\n",
    ")\n",
    "features_train_encoded.shape"
   ],
   "metadata": {
    "collapsed": false
   }
  },
  {
   "cell_type": "code",
   "execution_count": 684,
   "outputs": [
    {
     "data": {
      "text/plain": "(411527, 15)"
     },
     "execution_count": 684,
     "metadata": {},
     "output_type": "execute_result"
    }
   ],
   "source": [
    "features_train = pd.concat((features_train[numeric_columns], features_train_encoded), axis=1)\n",
    "features_train.shape"
   ],
   "metadata": {
    "collapsed": false
   }
  },
  {
   "cell_type": "code",
   "execution_count": 685,
   "outputs": [
    {
     "data": {
      "text/plain": "   year  condition  odometer  saledate_week_day  saledate_month  \\\n0  2011        4.0  111041.0                  1               6   \n1  2014        3.0   31034.0                  2               2   \n2  2012        2.0   35619.0                  2               6   \n3  2003        2.0  131301.0                  2               6   \n4  2007        2.0  127709.0                  1               2   \n\n   saledate_year  car_age  make  model    trim  body  transmission  state  \\\n0           2015        4  12.0  227.0  1312.0   6.0           1.0   12.0   \n1           2015        1  12.0  301.0  1282.0   5.0           1.0   15.0   \n2           2015        3  32.0  618.0    67.0   5.0           1.0   19.0   \n3           2015       12  16.0  357.0   546.0   6.0           1.0   33.0   \n4           2015        8  12.0  301.0  1312.0   5.0           1.0   12.0   \n\n   color  interior  \n0    1.0       1.0  \n1    1.0       1.0  \n2    1.0       1.0  \n3    6.0       0.0  \n4    1.0       1.0  ",
      "text/html": "<div>\n<style scoped>\n    .dataframe tbody tr th:only-of-type {\n        vertical-align: middle;\n    }\n\n    .dataframe tbody tr th {\n        vertical-align: top;\n    }\n\n    .dataframe thead th {\n        text-align: right;\n    }\n</style>\n<table border=\"1\" class=\"dataframe\">\n  <thead>\n    <tr style=\"text-align: right;\">\n      <th></th>\n      <th>year</th>\n      <th>condition</th>\n      <th>odometer</th>\n      <th>saledate_week_day</th>\n      <th>saledate_month</th>\n      <th>saledate_year</th>\n      <th>car_age</th>\n      <th>make</th>\n      <th>model</th>\n      <th>trim</th>\n      <th>body</th>\n      <th>transmission</th>\n      <th>state</th>\n      <th>color</th>\n      <th>interior</th>\n    </tr>\n  </thead>\n  <tbody>\n    <tr>\n      <th>0</th>\n      <td>2011</td>\n      <td>4.0</td>\n      <td>111041.0</td>\n      <td>1</td>\n      <td>6</td>\n      <td>2015</td>\n      <td>4</td>\n      <td>12.0</td>\n      <td>227.0</td>\n      <td>1312.0</td>\n      <td>6.0</td>\n      <td>1.0</td>\n      <td>12.0</td>\n      <td>1.0</td>\n      <td>1.0</td>\n    </tr>\n    <tr>\n      <th>1</th>\n      <td>2014</td>\n      <td>3.0</td>\n      <td>31034.0</td>\n      <td>2</td>\n      <td>2</td>\n      <td>2015</td>\n      <td>1</td>\n      <td>12.0</td>\n      <td>301.0</td>\n      <td>1282.0</td>\n      <td>5.0</td>\n      <td>1.0</td>\n      <td>15.0</td>\n      <td>1.0</td>\n      <td>1.0</td>\n    </tr>\n    <tr>\n      <th>2</th>\n      <td>2012</td>\n      <td>2.0</td>\n      <td>35619.0</td>\n      <td>2</td>\n      <td>6</td>\n      <td>2015</td>\n      <td>3</td>\n      <td>32.0</td>\n      <td>618.0</td>\n      <td>67.0</td>\n      <td>5.0</td>\n      <td>1.0</td>\n      <td>19.0</td>\n      <td>1.0</td>\n      <td>1.0</td>\n    </tr>\n    <tr>\n      <th>3</th>\n      <td>2003</td>\n      <td>2.0</td>\n      <td>131301.0</td>\n      <td>2</td>\n      <td>6</td>\n      <td>2015</td>\n      <td>12</td>\n      <td>16.0</td>\n      <td>357.0</td>\n      <td>546.0</td>\n      <td>6.0</td>\n      <td>1.0</td>\n      <td>33.0</td>\n      <td>6.0</td>\n      <td>0.0</td>\n    </tr>\n    <tr>\n      <th>4</th>\n      <td>2007</td>\n      <td>2.0</td>\n      <td>127709.0</td>\n      <td>1</td>\n      <td>2</td>\n      <td>2015</td>\n      <td>8</td>\n      <td>12.0</td>\n      <td>301.0</td>\n      <td>1312.0</td>\n      <td>5.0</td>\n      <td>1.0</td>\n      <td>12.0</td>\n      <td>1.0</td>\n      <td>1.0</td>\n    </tr>\n  </tbody>\n</table>\n</div>"
     },
     "execution_count": 685,
     "metadata": {},
     "output_type": "execute_result"
    }
   ],
   "source": [
    "features_train.head()"
   ],
   "metadata": {
    "collapsed": false
   }
  },
  {
   "cell_type": "code",
   "execution_count": 686,
   "outputs": [],
   "source": [
    "#  Кодируем тест\n",
    "features_test_encoded = pd.DataFrame(\n",
    "    encoder.transform(features_test[categorical_columns]), # .toarray()\n",
    "    columns=encoder.get_feature_names_out(categorical_columns),\n",
    "    index=features_test.index\n",
    ")\n",
    "features_test = pd.concat((features_test[numeric_columns], features_test_encoded), axis=1)"
   ],
   "metadata": {
    "collapsed": false
   }
  },
  {
   "cell_type": "code",
   "execution_count": 687,
   "outputs": [
    {
     "data": {
      "text/plain": "0     12500\n1     14500\n2      9100\n3     13300\n4      1300\n5     22600\n6      5900\n7     15200\n8       700\n11    12400\nName: sellingprice, dtype: Int32"
     },
     "metadata": {},
     "output_type": "display_data"
    },
    {
     "name": "stdout",
     "output_type": "stream",
     "text": [
      "<class 'pandas.core.series.Series'>\n",
      "Int64Index: 411527 entries, 0 to 440235\n",
      "Series name: sellingprice\n",
      "Non-Null Count   Dtype\n",
      "--------------   -----\n",
      "411527 non-null  Int32\n",
      "dtypes: Int32(1)\n",
      "memory usage: 5.1 MB\n"
     ]
    },
    {
     "data": {
      "text/plain": "None"
     },
     "metadata": {},
     "output_type": "display_data"
    },
    {
     "data": {
      "text/plain": "count       411527.0\nmean     2881.959837\nstd      8077.044499\nmin            700.0\n50%          12250.0\nmax          40500.0\nName: sellingprice, dtype: Float64"
     },
     "metadata": {},
     "output_type": "display_data"
    },
    {
     "name": "stdout",
     "output_type": "stream",
     "text": [
      "Количество дублированных строк: 410384\n"
     ]
    }
   ],
   "source": [
    "describe_dataframe(target_train)"
   ],
   "metadata": {
    "collapsed": false
   }
  },
  {
   "cell_type": "code",
   "execution_count": 688,
   "outputs": [],
   "source": [
    "# Создадим и обучим скейлер\n",
    "scaler = StandardScaler()\n",
    "scaler.fit(features_train)"
   ],
   "metadata": {
    "collapsed": false
   }
  },
  {
   "cell_type": "code",
   "execution_count": null,
   "outputs": [],
   "source": [
    "# Проводим скейлинг трейна\n",
    "features_train = pd.DataFrame(\n",
    "    scaler.transform(features_train),\n",
    "    columns=features_train.columns,\n",
    "    index=features_train.index)\n",
    "describe_dataframe(features_train)"
   ],
   "metadata": {
    "collapsed": false
   }
  },
  {
   "cell_type": "code",
   "execution_count": 690,
   "outputs": [],
   "source": [
    "# Проводим скейлинг теста\n",
    "features_test = pd.DataFrame(\n",
    "    scaler.transform(features_test),\n",
    "    columns=features_test.columns,\n",
    "    index=features_test.index)\n",
    "describe_dataframe(features_test)"
   ],
   "metadata": {
    "collapsed": false
   }
  },
  {
   "cell_type": "code",
   "execution_count": 692,
   "outputs": [],
   "source": [
    "# Для одинакового результата создадим фолды для трейна\n",
    "kf = KFold(n_splits=3, random_state=32123, shuffle=True)"
   ],
   "metadata": {
    "collapsed": false
   }
  },
  {
   "cell_type": "code",
   "execution_count": null,
   "outputs": [],
   "source": [
    "# Определим сетку параметров для поиска оптимальной комбинации\n",
    "param_grid = {\n",
    "    'n_estimators': [100, 200, 500],\n",
    "    'max_features': ['auto', 'sqrt', 'log2'],\n",
    "    'max_depth' : [5, 10, 15, 20],\n",
    "    'min_samples_split' : [2, 5, 10],\n",
    "    'min_samples_leaf' : [1, 2, 4]\n",
    "}"
   ],
   "metadata": {
    "collapsed": false
   }
  },
  {
   "cell_type": "code",
   "execution_count": 693,
   "outputs": [],
   "source": [
    "# найдём параметры для оптимальной модели случайного леса\n",
    "from sklearn.model_selection import RandomizedSearchCV\n",
    "\n",
    "grid_rf = RandomizedSearchCV(\n",
    "    RandomForestRegressor(),\n",
    "    param_distributions=param_grid,\n",
    "    cv=kf,\n",
    "    n_iter=15,\n",
    "    scoring='neg_mean_absolute_percentage_error',\n",
    "    n_jobs=2,\n",
    "    return_train_score=True)"
   ],
   "metadata": {
    "collapsed": false
   }
  },
  {
   "cell_type": "code",
   "execution_count": 694,
   "outputs": [
    {
     "name": "stderr",
     "output_type": "stream",
     "text": [
      "C:\\Users\\APMuravev\\AppData\\Local\\Programs\\Python\\Python311\\Lib\\site-packages\\sklearn\\ensemble\\_forest.py:413: FutureWarning: `max_features='auto'` has been deprecated in 1.1 and will be removed in 1.3. To keep the past behaviour, explicitly set `max_features=1.0` or remove this parameter as it is also the default value for RandomForestRegressors and ExtraTreesRegressors.\n",
      "  warn(\n"
     ]
    },
    {
     "data": {
      "text/plain": "{'n_estimators': 200,\n 'min_samples_split': 5,\n 'min_samples_leaf': 1,\n 'max_features': 'auto',\n 'max_depth': 20}"
     },
     "execution_count": 694,
     "metadata": {},
     "output_type": "execute_result"
    }
   ],
   "source": [
    "# Обучаем сетки и выводим наилучшие параметры\n",
    "grid_rf.fit(features_train, target_train)\n",
    "grid_rf.best_params_"
   ],
   "metadata": {
    "collapsed": false
   }
  },
  {
   "cell_type": "code",
   "execution_count": 695,
   "outputs": [
    {
     "data": {
      "text/plain": "-0.15425009345099042"
     },
     "execution_count": 695,
     "metadata": {},
     "output_type": "execute_result"
    }
   ],
   "source": [
    "# Наилучшая оценка\n",
    "grid_rf.best_score_"
   ],
   "metadata": {
    "collapsed": false
   }
  },
  {
   "cell_type": "code",
   "execution_count": 709,
   "outputs": [
    {
     "name": "stderr",
     "output_type": "stream",
     "text": [
      "C:\\Users\\APMuravev\\AppData\\Local\\Programs\\Python\\Python311\\Lib\\site-packages\\sklearn\\ensemble\\_forest.py:413: FutureWarning: `max_features='auto'` has been deprecated in 1.1 and will be removed in 1.3. To keep the past behaviour, explicitly set `max_features=1.0` or remove this parameter as it is also the default value for RandomForestRegressors and ExtraTreesRegressors.\n",
      "  warn(\n"
     ]
    },
    {
     "data": {
      "text/plain": "RandomForestRegressor(max_depth=20, max_features='auto', min_samples_split=5,\n                      n_estimators=200)",
      "text/html": "<style>#sk-container-id-8 {color: black;background-color: white;}#sk-container-id-8 pre{padding: 0;}#sk-container-id-8 div.sk-toggleable {background-color: white;}#sk-container-id-8 label.sk-toggleable__label {cursor: pointer;display: block;width: 100%;margin-bottom: 0;padding: 0.3em;box-sizing: border-box;text-align: center;}#sk-container-id-8 label.sk-toggleable__label-arrow:before {content: \"▸\";float: left;margin-right: 0.25em;color: #696969;}#sk-container-id-8 label.sk-toggleable__label-arrow:hover:before {color: black;}#sk-container-id-8 div.sk-estimator:hover label.sk-toggleable__label-arrow:before {color: black;}#sk-container-id-8 div.sk-toggleable__content {max-height: 0;max-width: 0;overflow: hidden;text-align: left;background-color: #f0f8ff;}#sk-container-id-8 div.sk-toggleable__content pre {margin: 0.2em;color: black;border-radius: 0.25em;background-color: #f0f8ff;}#sk-container-id-8 input.sk-toggleable__control:checked~div.sk-toggleable__content {max-height: 200px;max-width: 100%;overflow: auto;}#sk-container-id-8 input.sk-toggleable__control:checked~label.sk-toggleable__label-arrow:before {content: \"▾\";}#sk-container-id-8 div.sk-estimator input.sk-toggleable__control:checked~label.sk-toggleable__label {background-color: #d4ebff;}#sk-container-id-8 div.sk-label input.sk-toggleable__control:checked~label.sk-toggleable__label {background-color: #d4ebff;}#sk-container-id-8 input.sk-hidden--visually {border: 0;clip: rect(1px 1px 1px 1px);clip: rect(1px, 1px, 1px, 1px);height: 1px;margin: -1px;overflow: hidden;padding: 0;position: absolute;width: 1px;}#sk-container-id-8 div.sk-estimator {font-family: monospace;background-color: #f0f8ff;border: 1px dotted black;border-radius: 0.25em;box-sizing: border-box;margin-bottom: 0.5em;}#sk-container-id-8 div.sk-estimator:hover {background-color: #d4ebff;}#sk-container-id-8 div.sk-parallel-item::after {content: \"\";width: 100%;border-bottom: 1px solid gray;flex-grow: 1;}#sk-container-id-8 div.sk-label:hover label.sk-toggleable__label {background-color: #d4ebff;}#sk-container-id-8 div.sk-serial::before {content: \"\";position: absolute;border-left: 1px solid gray;box-sizing: border-box;top: 0;bottom: 0;left: 50%;z-index: 0;}#sk-container-id-8 div.sk-serial {display: flex;flex-direction: column;align-items: center;background-color: white;padding-right: 0.2em;padding-left: 0.2em;position: relative;}#sk-container-id-8 div.sk-item {position: relative;z-index: 1;}#sk-container-id-8 div.sk-parallel {display: flex;align-items: stretch;justify-content: center;background-color: white;position: relative;}#sk-container-id-8 div.sk-item::before, #sk-container-id-8 div.sk-parallel-item::before {content: \"\";position: absolute;border-left: 1px solid gray;box-sizing: border-box;top: 0;bottom: 0;left: 50%;z-index: -1;}#sk-container-id-8 div.sk-parallel-item {display: flex;flex-direction: column;z-index: 1;position: relative;background-color: white;}#sk-container-id-8 div.sk-parallel-item:first-child::after {align-self: flex-end;width: 50%;}#sk-container-id-8 div.sk-parallel-item:last-child::after {align-self: flex-start;width: 50%;}#sk-container-id-8 div.sk-parallel-item:only-child::after {width: 0;}#sk-container-id-8 div.sk-dashed-wrapped {border: 1px dashed gray;margin: 0 0.4em 0.5em 0.4em;box-sizing: border-box;padding-bottom: 0.4em;background-color: white;}#sk-container-id-8 div.sk-label label {font-family: monospace;font-weight: bold;display: inline-block;line-height: 1.2em;}#sk-container-id-8 div.sk-label-container {text-align: center;}#sk-container-id-8 div.sk-container {/* jupyter's `normalize.less` sets `[hidden] { display: none; }` but bootstrap.min.css set `[hidden] { display: none !important; }` so we also need the `!important` here to be able to override the default hidden behavior on the sphinx rendered scikit-learn.org. See: https://github.com/scikit-learn/scikit-learn/issues/21755 */display: inline-block !important;position: relative;}#sk-container-id-8 div.sk-text-repr-fallback {display: none;}</style><div id=\"sk-container-id-8\" class=\"sk-top-container\"><div class=\"sk-text-repr-fallback\"><pre>RandomForestRegressor(max_depth=20, max_features=&#x27;auto&#x27;, min_samples_split=5,\n                      n_estimators=200)</pre><b>In a Jupyter environment, please rerun this cell to show the HTML representation or trust the notebook. <br />On GitHub, the HTML representation is unable to render, please try loading this page with nbviewer.org.</b></div><div class=\"sk-container\" hidden><div class=\"sk-item\"><div class=\"sk-estimator sk-toggleable\"><input class=\"sk-toggleable__control sk-hidden--visually\" id=\"sk-estimator-id-8\" type=\"checkbox\" checked><label for=\"sk-estimator-id-8\" class=\"sk-toggleable__label sk-toggleable__label-arrow\">RandomForestRegressor</label><div class=\"sk-toggleable__content\"><pre>RandomForestRegressor(max_depth=20, max_features=&#x27;auto&#x27;, min_samples_split=5,\n                      n_estimators=200)</pre></div></div></div></div></div>"
     },
     "execution_count": 709,
     "metadata": {},
     "output_type": "execute_result"
    }
   ],
   "source": [
    "# Обучаем оптиальную модель\n",
    "model = RandomForestRegressor(\n",
    "    n_estimators=200,\n",
    "    min_samples_split=5,\n",
    "    min_samples_leaf=1,\n",
    "    max_features='auto',\n",
    "    max_depth=20\n",
    ")\n",
    "model.fit(features_train, target_train)"
   ],
   "metadata": {
    "collapsed": false
   }
  },
  {
   "cell_type": "code",
   "execution_count": 710,
   "outputs": [
    {
     "data": {
      "text/plain": "array([ 3513.78674653, 22268.55299672, 17959.36292006, ...,\n        3275.21041263, 19527.54651252, 16469.89155178])"
     },
     "execution_count": 710,
     "metadata": {},
     "output_type": "execute_result"
    }
   ],
   "source": [
    "# Находим предсказание\n",
    "submission = model.predict(features_test)\n",
    "submission"
   ],
   "metadata": {
    "collapsed": false
   }
  },
  {
   "cell_type": "code",
   "execution_count": 711,
   "outputs": [],
   "source": [
    "# Заполняем sample_submission\n",
    "sample_submission['sellingprice'] = submission\n",
    "sample_submission.to_csv('sample_submission.csv', index=False)"
   ],
   "metadata": {
    "collapsed": false
   }
  },
  {
   "cell_type": "markdown",
   "source": [
    "Выводы:\n",
    "В рамках данной задачи необходимо поработать с данными о продажах автомобилей на вторичном рынке. В данном проекте была разработана модель предсказания стоимости автомобиля на вторичном рынке.\n",
    "При знакомстве с данными были выявлены следующие особенности: В данных большое количество выбросов, пропущенных значений, неявных дубликатов в колонках с марками и моделями авто.\n",
    "В итоге предобработки данных были устранены все пропущенные значения, явные выбросы и форматы некоторых колонок. Итоговая потеря данных составила около 7%.\n",
    "Далее были добавлены 4 синтетических столбца - год, месяц и день недели продажи авто. Также полный возраст авто, устранены аномалии в возрасте авто. Доказана мультиколлинеарность данных.\n",
    "Данные были кодированы, проведём скейлинг, почле чего с помощью RandomizedSearchCV были подобраны оптимальные параметры модели с MAPE = 16% (Итоговая MAPE на тестовых данных = 23%). Модель имела следующие параметры:\n",
    "<code>RandomForestRegressor(\n",
    "    n_estimators=200,\n",
    "    min_samples_split=5,\n",
    "    min_samples_leaf=1,\n",
    "    max_features='auto',\n",
    "    max_depth=20)</code>\n"
   ],
   "metadata": {
    "collapsed": false
   }
  }
 ],
 "metadata": {
  "kernelspec": {
   "display_name": "Python 3",
   "language": "python",
   "name": "python3"
  },
  "language_info": {
   "codemirror_mode": {
    "name": "ipython",
    "version": 2
   },
   "file_extension": ".py",
   "mimetype": "text/x-python",
   "name": "python",
   "nbconvert_exporter": "python",
   "pygments_lexer": "ipython2",
   "version": "2.7.6"
  }
 },
 "nbformat": 4,
 "nbformat_minor": 0
}
